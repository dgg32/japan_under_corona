{
 "metadata": {
  "language_info": {
   "codemirror_mode": {
    "name": "ipython",
    "version": 3
   },
   "file_extension": ".py",
   "mimetype": "text/x-python",
   "name": "python",
   "nbconvert_exporter": "python",
   "pygments_lexer": "ipython3",
   "version": "3.8.5-final"
  },
  "orig_nbformat": 2,
  "kernelspec": {
   "name": "python3",
   "display_name": "Python 3.8.5 64-bit (conda)",
   "metadata": {
    "interpreter": {
     "hash": "35d1170207171f9ee46531fae2b017460b3742a4b3cfb5b598fcb526f7013016"
    }
   }
  }
 },
 "nbformat": 4,
 "nbformat_minor": 2,
 "cells": [
  {
   "cell_type": "code",
   "execution_count": 14,
   "metadata": {},
   "outputs": [],
   "source": [
    "import pandas as pd\n",
    "import numpy as np\n",
    "import boto3\n",
    "from botocore.config import Config"
   ]
  },
  {
   "cell_type": "code",
   "execution_count": 15,
   "metadata": {},
   "outputs": [],
   "source": [
    "accomodation = pd.read_csv(\"accomodation_data.csv\")\n",
    "prefectures = pd.read_csv(\"Prefecture_Japanese_Area.tsv\", sep=\"\\t\", thousands=\",\")"
   ]
  },
  {
   "cell_type": "code",
   "execution_count": 16,
   "metadata": {},
   "outputs": [
    {
     "output_type": "execute_result",
     "data": {
      "text/plain": [
       "        時点  地域コード  地域  延べ宿泊者数（総数）【人泊】   注記\n",
       "0  2007年1月      0  全国        22136270  NaN\n",
       "1  2007年2月      0  全国        23346870  NaN\n",
       "2  2007年3月      0  全国        26997200  NaN\n",
       "3  2007年4月      0  全国        23729790  NaN\n",
       "4  2007年5月      0  全国        25636730  NaN"
      ],
      "text/html": "<div>\n<style scoped>\n    .dataframe tbody tr th:only-of-type {\n        vertical-align: middle;\n    }\n\n    .dataframe tbody tr th {\n        vertical-align: top;\n    }\n\n    .dataframe thead th {\n        text-align: right;\n    }\n</style>\n<table border=\"1\" class=\"dataframe\">\n  <thead>\n    <tr style=\"text-align: right;\">\n      <th></th>\n      <th>時点</th>\n      <th>地域コード</th>\n      <th>地域</th>\n      <th>延べ宿泊者数（総数）【人泊】</th>\n      <th>注記</th>\n    </tr>\n  </thead>\n  <tbody>\n    <tr>\n      <th>0</th>\n      <td>2007年1月</td>\n      <td>0</td>\n      <td>全国</td>\n      <td>22136270</td>\n      <td>NaN</td>\n    </tr>\n    <tr>\n      <th>1</th>\n      <td>2007年2月</td>\n      <td>0</td>\n      <td>全国</td>\n      <td>23346870</td>\n      <td>NaN</td>\n    </tr>\n    <tr>\n      <th>2</th>\n      <td>2007年3月</td>\n      <td>0</td>\n      <td>全国</td>\n      <td>26997200</td>\n      <td>NaN</td>\n    </tr>\n    <tr>\n      <th>3</th>\n      <td>2007年4月</td>\n      <td>0</td>\n      <td>全国</td>\n      <td>23729790</td>\n      <td>NaN</td>\n    </tr>\n    <tr>\n      <th>4</th>\n      <td>2007年5月</td>\n      <td>0</td>\n      <td>全国</td>\n      <td>25636730</td>\n      <td>NaN</td>\n    </tr>\n  </tbody>\n</table>\n</div>"
     },
     "metadata": {},
     "execution_count": 16
    }
   ],
   "source": [
    "accomodation.head()"
   ]
  },
  {
   "cell_type": "code",
   "execution_count": 17,
   "metadata": {},
   "outputs": [],
   "source": [
    "accomodation.drop([\"地域コード\", \"注記\"], inplace=True, axis=1)\n",
    "accomodation.rename(columns = {\"時点\": \"time\", \"地域\": \"location\", \"延べ宿泊者数（総数）【人泊】\": \"accomodations\"}, inplace=True)"
   ]
  },
  {
   "cell_type": "code",
   "execution_count": 18,
   "metadata": {},
   "outputs": [
    {
     "output_type": "execute_result",
     "data": {
      "text/plain": [
       "      time location  accomodations\n",
       "0  2007年1月       全国       22136270\n",
       "1  2007年2月       全国       23346870\n",
       "2  2007年3月       全国       26997200\n",
       "3  2007年4月       全国       23729790\n",
       "4  2007年5月       全国       25636730"
      ],
      "text/html": "<div>\n<style scoped>\n    .dataframe tbody tr th:only-of-type {\n        vertical-align: middle;\n    }\n\n    .dataframe tbody tr th {\n        vertical-align: top;\n    }\n\n    .dataframe thead th {\n        text-align: right;\n    }\n</style>\n<table border=\"1\" class=\"dataframe\">\n  <thead>\n    <tr style=\"text-align: right;\">\n      <th></th>\n      <th>time</th>\n      <th>location</th>\n      <th>accomodations</th>\n    </tr>\n  </thead>\n  <tbody>\n    <tr>\n      <th>0</th>\n      <td>2007年1月</td>\n      <td>全国</td>\n      <td>22136270</td>\n    </tr>\n    <tr>\n      <th>1</th>\n      <td>2007年2月</td>\n      <td>全国</td>\n      <td>23346870</td>\n    </tr>\n    <tr>\n      <th>2</th>\n      <td>2007年3月</td>\n      <td>全国</td>\n      <td>26997200</td>\n    </tr>\n    <tr>\n      <th>3</th>\n      <td>2007年4月</td>\n      <td>全国</td>\n      <td>23729790</td>\n    </tr>\n    <tr>\n      <th>4</th>\n      <td>2007年5月</td>\n      <td>全国</td>\n      <td>25636730</td>\n    </tr>\n  </tbody>\n</table>\n</div>"
     },
     "metadata": {},
     "execution_count": 18
    }
   ],
   "source": [
    "accomodation.head()"
   ]
  },
  {
   "cell_type": "code",
   "execution_count": 19,
   "metadata": {},
   "outputs": [],
   "source": [
    "accomodation[\"time\"] = accomodation[\"time\"].str.replace('年','-').str.replace('月','')\n",
    "accomodation = accomodation[~accomodation[\"time\"].str.endswith(\"-\")]\n",
    "accomodation[\"time\"] = pd.to_datetime(accomodation[\"time\"].str.replace('年','-').str.replace('月',''), format='%Y-%m') "
   ]
  },
  {
   "cell_type": "code",
   "execution_count": 20,
   "metadata": {},
   "outputs": [
    {
     "output_type": "execute_result",
     "data": {
      "text/plain": [
       "           time location  accomodations\n",
       "0    2007-01-01       全国       22136270\n",
       "1    2007-02-01       全国       23346870\n",
       "2    2007-03-01       全国       26997200\n",
       "3    2007-04-01       全国       23729790\n",
       "4    2007-05-01       全国       25636730\n",
       "...         ...      ...            ...\n",
       "8059 2020-08-01      沖縄県         849500\n",
       "8060 2020-09-01      沖縄県         884730\n",
       "8061 2020-10-01      沖縄県        1285240\n",
       "8062 2020-11-01      沖縄県        1415910\n",
       "8063 2020-12-01      沖縄県        1147150\n",
       "\n",
       "[8064 rows x 3 columns]"
      ],
      "text/html": "<div>\n<style scoped>\n    .dataframe tbody tr th:only-of-type {\n        vertical-align: middle;\n    }\n\n    .dataframe tbody tr th {\n        vertical-align: top;\n    }\n\n    .dataframe thead th {\n        text-align: right;\n    }\n</style>\n<table border=\"1\" class=\"dataframe\">\n  <thead>\n    <tr style=\"text-align: right;\">\n      <th></th>\n      <th>time</th>\n      <th>location</th>\n      <th>accomodations</th>\n    </tr>\n  </thead>\n  <tbody>\n    <tr>\n      <th>0</th>\n      <td>2007-01-01</td>\n      <td>全国</td>\n      <td>22136270</td>\n    </tr>\n    <tr>\n      <th>1</th>\n      <td>2007-02-01</td>\n      <td>全国</td>\n      <td>23346870</td>\n    </tr>\n    <tr>\n      <th>2</th>\n      <td>2007-03-01</td>\n      <td>全国</td>\n      <td>26997200</td>\n    </tr>\n    <tr>\n      <th>3</th>\n      <td>2007-04-01</td>\n      <td>全国</td>\n      <td>23729790</td>\n    </tr>\n    <tr>\n      <th>4</th>\n      <td>2007-05-01</td>\n      <td>全国</td>\n      <td>25636730</td>\n    </tr>\n    <tr>\n      <th>...</th>\n      <td>...</td>\n      <td>...</td>\n      <td>...</td>\n    </tr>\n    <tr>\n      <th>8059</th>\n      <td>2020-08-01</td>\n      <td>沖縄県</td>\n      <td>849500</td>\n    </tr>\n    <tr>\n      <th>8060</th>\n      <td>2020-09-01</td>\n      <td>沖縄県</td>\n      <td>884730</td>\n    </tr>\n    <tr>\n      <th>8061</th>\n      <td>2020-10-01</td>\n      <td>沖縄県</td>\n      <td>1285240</td>\n    </tr>\n    <tr>\n      <th>8062</th>\n      <td>2020-11-01</td>\n      <td>沖縄県</td>\n      <td>1415910</td>\n    </tr>\n    <tr>\n      <th>8063</th>\n      <td>2020-12-01</td>\n      <td>沖縄県</td>\n      <td>1147150</td>\n    </tr>\n  </tbody>\n</table>\n<p>8064 rows × 3 columns</p>\n</div>"
     },
     "metadata": {},
     "execution_count": 20
    }
   ],
   "source": [
    "accomodation"
   ]
  },
  {
   "cell_type": "code",
   "execution_count": 21,
   "metadata": {},
   "outputs": [
    {
     "output_type": "execute_result",
     "data": {
      "text/plain": [
       "  Prefecture Japanese      Area\n",
       "0      Aichi      愛知県   5153.81\n",
       "1      Akita      秋田県  11612.11\n",
       "2     Aomori      青森県   9606.26\n",
       "3      Chiba      千葉県   5156.15\n",
       "4      Ehime      愛媛県   5676.44"
      ],
      "text/html": "<div>\n<style scoped>\n    .dataframe tbody tr th:only-of-type {\n        vertical-align: middle;\n    }\n\n    .dataframe tbody tr th {\n        vertical-align: top;\n    }\n\n    .dataframe thead th {\n        text-align: right;\n    }\n</style>\n<table border=\"1\" class=\"dataframe\">\n  <thead>\n    <tr style=\"text-align: right;\">\n      <th></th>\n      <th>Prefecture</th>\n      <th>Japanese</th>\n      <th>Area</th>\n    </tr>\n  </thead>\n  <tbody>\n    <tr>\n      <th>0</th>\n      <td>Aichi</td>\n      <td>愛知県</td>\n      <td>5153.81</td>\n    </tr>\n    <tr>\n      <th>1</th>\n      <td>Akita</td>\n      <td>秋田県</td>\n      <td>11612.11</td>\n    </tr>\n    <tr>\n      <th>2</th>\n      <td>Aomori</td>\n      <td>青森県</td>\n      <td>9606.26</td>\n    </tr>\n    <tr>\n      <th>3</th>\n      <td>Chiba</td>\n      <td>千葉県</td>\n      <td>5156.15</td>\n    </tr>\n    <tr>\n      <th>4</th>\n      <td>Ehime</td>\n      <td>愛媛県</td>\n      <td>5676.44</td>\n    </tr>\n  </tbody>\n</table>\n</div>"
     },
     "metadata": {},
     "execution_count": 21
    }
   ],
   "source": [
    "prefectures.head()"
   ]
  },
  {
   "cell_type": "code",
   "execution_count": 22,
   "metadata": {},
   "outputs": [],
   "source": [
    "assert(set(accomodation.location.to_list()) == set(prefectures.Japanese.to_list()))"
   ]
  },
  {
   "cell_type": "code",
   "execution_count": 23,
   "metadata": {},
   "outputs": [],
   "source": [
    "accomodation = accomodation.merge(prefectures, left_on=\"location\", right_on=\"Japanese\")"
   ]
  },
  {
   "cell_type": "code",
   "execution_count": 24,
   "metadata": {},
   "outputs": [
    {
     "output_type": "execute_result",
     "data": {
      "text/plain": [
       "        time location  accomodations Prefecture Japanese      Area\n",
       "0 2007-01-01       全国       22136270      Japan       全国  377915.0\n",
       "1 2007-02-01       全国       23346870      Japan       全国  377915.0\n",
       "2 2007-03-01       全国       26997200      Japan       全国  377915.0\n",
       "3 2007-04-01       全国       23729790      Japan       全国  377915.0\n",
       "4 2007-05-01       全国       25636730      Japan       全国  377915.0"
      ],
      "text/html": "<div>\n<style scoped>\n    .dataframe tbody tr th:only-of-type {\n        vertical-align: middle;\n    }\n\n    .dataframe tbody tr th {\n        vertical-align: top;\n    }\n\n    .dataframe thead th {\n        text-align: right;\n    }\n</style>\n<table border=\"1\" class=\"dataframe\">\n  <thead>\n    <tr style=\"text-align: right;\">\n      <th></th>\n      <th>time</th>\n      <th>location</th>\n      <th>accomodations</th>\n      <th>Prefecture</th>\n      <th>Japanese</th>\n      <th>Area</th>\n    </tr>\n  </thead>\n  <tbody>\n    <tr>\n      <th>0</th>\n      <td>2007-01-01</td>\n      <td>全国</td>\n      <td>22136270</td>\n      <td>Japan</td>\n      <td>全国</td>\n      <td>377915.0</td>\n    </tr>\n    <tr>\n      <th>1</th>\n      <td>2007-02-01</td>\n      <td>全国</td>\n      <td>23346870</td>\n      <td>Japan</td>\n      <td>全国</td>\n      <td>377915.0</td>\n    </tr>\n    <tr>\n      <th>2</th>\n      <td>2007-03-01</td>\n      <td>全国</td>\n      <td>26997200</td>\n      <td>Japan</td>\n      <td>全国</td>\n      <td>377915.0</td>\n    </tr>\n    <tr>\n      <th>3</th>\n      <td>2007-04-01</td>\n      <td>全国</td>\n      <td>23729790</td>\n      <td>Japan</td>\n      <td>全国</td>\n      <td>377915.0</td>\n    </tr>\n    <tr>\n      <th>4</th>\n      <td>2007-05-01</td>\n      <td>全国</td>\n      <td>25636730</td>\n      <td>Japan</td>\n      <td>全国</td>\n      <td>377915.0</td>\n    </tr>\n  </tbody>\n</table>\n</div>"
     },
     "metadata": {},
     "execution_count": 24
    }
   ],
   "source": [
    "accomodation.head()"
   ]
  },
  {
   "cell_type": "code",
   "execution_count": 25,
   "metadata": {},
   "outputs": [],
   "source": [
    "accomodation.drop([\"location\", \"Japanese\"], axis=1, inplace=True)\n",
    "accomodation.rename(columns = {\"Prefecture\": \"location\"}, inplace=True)"
   ]
  },
  {
   "cell_type": "code",
   "execution_count": 26,
   "metadata": {},
   "outputs": [],
   "source": [
    "accomodation.to_csv(\"accomodation_processed.tsv\", sep=\"\\t\", index=False)"
   ]
  },
  {
   "cell_type": "code",
   "execution_count": null,
   "metadata": {},
   "outputs": [],
   "source": []
  }
 ]
}