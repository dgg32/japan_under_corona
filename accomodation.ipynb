{
 "metadata": {
  "language_info": {
   "codemirror_mode": {
    "name": "ipython",
    "version": 3
   },
   "file_extension": ".py",
   "mimetype": "text/x-python",
   "name": "python",
   "nbconvert_exporter": "python",
   "pygments_lexer": "ipython3",
   "version": "3.8.5"
  },
  "orig_nbformat": 2,
  "kernelspec": {
   "name": "python385jvsc74a57bd035d1170207171f9ee46531fae2b017460b3742a4b3cfb5b598fcb526f7013016",
   "display_name": "Python 3.8.5 64-bit (conda)"
  }
 },
 "nbformat": 4,
 "nbformat_minor": 2,
 "cells": [
  {
   "cell_type": "code",
   "execution_count": 2,
   "metadata": {},
   "outputs": [],
   "source": [
    "import pandas as pd\n",
    "import numpy as np\n",
    "\n",
    "from prophet import Prophet\n",
    "import matplotlib.pyplot as plt \n",
    "import plotly.graph_objects as go\n",
    "from plotly.subplots import make_subplots"
   ]
  },
  {
   "cell_type": "code",
   "execution_count": 189,
   "metadata": {},
   "outputs": [],
   "source": [
    "accomodation = pd.read_csv(\"accomodation_data.csv\")\n",
    "prefectures = pd.read_csv(\"Prefecture_Japanese_Area.tsv\", sep=\"\\t\", thousands=\",\")"
   ]
  },
  {
   "cell_type": "code",
   "execution_count": 190,
   "metadata": {},
   "outputs": [
    {
     "output_type": "execute_result",
     "data": {
      "text/plain": [
       "        時点  地域コード  地域  延べ宿泊者数（総数）【人泊】   注記\n",
       "0  2007年1月      0  全国        22136270  NaN\n",
       "1  2007年2月      0  全国        23346870  NaN\n",
       "2  2007年3月      0  全国        26997200  NaN\n",
       "3  2007年4月      0  全国        23729790  NaN\n",
       "4  2007年5月      0  全国        25636730  NaN"
      ],
      "text/html": "<div>\n<style scoped>\n    .dataframe tbody tr th:only-of-type {\n        vertical-align: middle;\n    }\n\n    .dataframe tbody tr th {\n        vertical-align: top;\n    }\n\n    .dataframe thead th {\n        text-align: right;\n    }\n</style>\n<table border=\"1\" class=\"dataframe\">\n  <thead>\n    <tr style=\"text-align: right;\">\n      <th></th>\n      <th>時点</th>\n      <th>地域コード</th>\n      <th>地域</th>\n      <th>延べ宿泊者数（総数）【人泊】</th>\n      <th>注記</th>\n    </tr>\n  </thead>\n  <tbody>\n    <tr>\n      <th>0</th>\n      <td>2007年1月</td>\n      <td>0</td>\n      <td>全国</td>\n      <td>22136270</td>\n      <td>NaN</td>\n    </tr>\n    <tr>\n      <th>1</th>\n      <td>2007年2月</td>\n      <td>0</td>\n      <td>全国</td>\n      <td>23346870</td>\n      <td>NaN</td>\n    </tr>\n    <tr>\n      <th>2</th>\n      <td>2007年3月</td>\n      <td>0</td>\n      <td>全国</td>\n      <td>26997200</td>\n      <td>NaN</td>\n    </tr>\n    <tr>\n      <th>3</th>\n      <td>2007年4月</td>\n      <td>0</td>\n      <td>全国</td>\n      <td>23729790</td>\n      <td>NaN</td>\n    </tr>\n    <tr>\n      <th>4</th>\n      <td>2007年5月</td>\n      <td>0</td>\n      <td>全国</td>\n      <td>25636730</td>\n      <td>NaN</td>\n    </tr>\n  </tbody>\n</table>\n</div>"
     },
     "metadata": {},
     "execution_count": 190
    }
   ],
   "source": [
    "accomodation.head()"
   ]
  },
  {
   "cell_type": "code",
   "execution_count": 191,
   "metadata": {},
   "outputs": [],
   "source": [
    "accomodation.drop([\"地域コード\", \"注記\"], inplace=True, axis=1)\n",
    "accomodation.rename(columns = {\"時点\": \"time\", \"地域\": \"location\", \"延べ宿泊者数（総数）【人泊】\": \"accomodations\"}, inplace=True)"
   ]
  },
  {
   "cell_type": "code",
   "execution_count": 192,
   "metadata": {},
   "outputs": [
    {
     "output_type": "execute_result",
     "data": {
      "text/plain": [
       "      time location  accomodations\n",
       "0  2007年1月       全国       22136270\n",
       "1  2007年2月       全国       23346870\n",
       "2  2007年3月       全国       26997200\n",
       "3  2007年4月       全国       23729790\n",
       "4  2007年5月       全国       25636730"
      ],
      "text/html": "<div>\n<style scoped>\n    .dataframe tbody tr th:only-of-type {\n        vertical-align: middle;\n    }\n\n    .dataframe tbody tr th {\n        vertical-align: top;\n    }\n\n    .dataframe thead th {\n        text-align: right;\n    }\n</style>\n<table border=\"1\" class=\"dataframe\">\n  <thead>\n    <tr style=\"text-align: right;\">\n      <th></th>\n      <th>time</th>\n      <th>location</th>\n      <th>accomodations</th>\n    </tr>\n  </thead>\n  <tbody>\n    <tr>\n      <th>0</th>\n      <td>2007年1月</td>\n      <td>全国</td>\n      <td>22136270</td>\n    </tr>\n    <tr>\n      <th>1</th>\n      <td>2007年2月</td>\n      <td>全国</td>\n      <td>23346870</td>\n    </tr>\n    <tr>\n      <th>2</th>\n      <td>2007年3月</td>\n      <td>全国</td>\n      <td>26997200</td>\n    </tr>\n    <tr>\n      <th>3</th>\n      <td>2007年4月</td>\n      <td>全国</td>\n      <td>23729790</td>\n    </tr>\n    <tr>\n      <th>4</th>\n      <td>2007年5月</td>\n      <td>全国</td>\n      <td>25636730</td>\n    </tr>\n  </tbody>\n</table>\n</div>"
     },
     "metadata": {},
     "execution_count": 192
    }
   ],
   "source": [
    "accomodation.head()"
   ]
  },
  {
   "cell_type": "code",
   "execution_count": 193,
   "metadata": {},
   "outputs": [],
   "source": [
    "accomodation[\"time\"] = accomodation[\"time\"].str.replace('年','-').str.replace('月','')\n",
    "accomodation = accomodation[~accomodation[\"time\"].str.endswith(\"-\")]\n",
    "accomodation[\"time\"] = pd.to_datetime(accomodation[\"time\"].str.replace('年','-').str.replace('月',''), format='%Y-%m') "
   ]
  },
  {
   "cell_type": "code",
   "execution_count": 194,
   "metadata": {},
   "outputs": [
    {
     "output_type": "execute_result",
     "data": {
      "text/plain": [
       "           time location  accomodations\n",
       "0    2007-01-01       全国       22136270\n",
       "1    2007-02-01       全国       23346870\n",
       "2    2007-03-01       全国       26997200\n",
       "3    2007-04-01       全国       23729790\n",
       "4    2007-05-01       全国       25636730\n",
       "...         ...      ...            ...\n",
       "8059 2020-08-01      沖縄県         849500\n",
       "8060 2020-09-01      沖縄県         884730\n",
       "8061 2020-10-01      沖縄県        1285240\n",
       "8062 2020-11-01      沖縄県        1415910\n",
       "8063 2020-12-01      沖縄県        1147150\n",
       "\n",
       "[8064 rows x 3 columns]"
      ],
      "text/html": "<div>\n<style scoped>\n    .dataframe tbody tr th:only-of-type {\n        vertical-align: middle;\n    }\n\n    .dataframe tbody tr th {\n        vertical-align: top;\n    }\n\n    .dataframe thead th {\n        text-align: right;\n    }\n</style>\n<table border=\"1\" class=\"dataframe\">\n  <thead>\n    <tr style=\"text-align: right;\">\n      <th></th>\n      <th>time</th>\n      <th>location</th>\n      <th>accomodations</th>\n    </tr>\n  </thead>\n  <tbody>\n    <tr>\n      <th>0</th>\n      <td>2007-01-01</td>\n      <td>全国</td>\n      <td>22136270</td>\n    </tr>\n    <tr>\n      <th>1</th>\n      <td>2007-02-01</td>\n      <td>全国</td>\n      <td>23346870</td>\n    </tr>\n    <tr>\n      <th>2</th>\n      <td>2007-03-01</td>\n      <td>全国</td>\n      <td>26997200</td>\n    </tr>\n    <tr>\n      <th>3</th>\n      <td>2007-04-01</td>\n      <td>全国</td>\n      <td>23729790</td>\n    </tr>\n    <tr>\n      <th>4</th>\n      <td>2007-05-01</td>\n      <td>全国</td>\n      <td>25636730</td>\n    </tr>\n    <tr>\n      <th>...</th>\n      <td>...</td>\n      <td>...</td>\n      <td>...</td>\n    </tr>\n    <tr>\n      <th>8059</th>\n      <td>2020-08-01</td>\n      <td>沖縄県</td>\n      <td>849500</td>\n    </tr>\n    <tr>\n      <th>8060</th>\n      <td>2020-09-01</td>\n      <td>沖縄県</td>\n      <td>884730</td>\n    </tr>\n    <tr>\n      <th>8061</th>\n      <td>2020-10-01</td>\n      <td>沖縄県</td>\n      <td>1285240</td>\n    </tr>\n    <tr>\n      <th>8062</th>\n      <td>2020-11-01</td>\n      <td>沖縄県</td>\n      <td>1415910</td>\n    </tr>\n    <tr>\n      <th>8063</th>\n      <td>2020-12-01</td>\n      <td>沖縄県</td>\n      <td>1147150</td>\n    </tr>\n  </tbody>\n</table>\n<p>8064 rows × 3 columns</p>\n</div>"
     },
     "metadata": {},
     "execution_count": 194
    }
   ],
   "source": [
    "accomodation"
   ]
  },
  {
   "cell_type": "code",
   "execution_count": 195,
   "metadata": {},
   "outputs": [
    {
     "output_type": "execute_result",
     "data": {
      "text/plain": [
       "  Prefecture Japanese      Area\n",
       "0      Aichi      愛知県   5153.81\n",
       "1      Akita      秋田県  11612.11\n",
       "2     Aomori      青森県   9606.26\n",
       "3      Chiba      千葉県   5156.15\n",
       "4      Ehime      愛媛県   5676.44"
      ],
      "text/html": "<div>\n<style scoped>\n    .dataframe tbody tr th:only-of-type {\n        vertical-align: middle;\n    }\n\n    .dataframe tbody tr th {\n        vertical-align: top;\n    }\n\n    .dataframe thead th {\n        text-align: right;\n    }\n</style>\n<table border=\"1\" class=\"dataframe\">\n  <thead>\n    <tr style=\"text-align: right;\">\n      <th></th>\n      <th>Prefecture</th>\n      <th>Japanese</th>\n      <th>Area</th>\n    </tr>\n  </thead>\n  <tbody>\n    <tr>\n      <th>0</th>\n      <td>Aichi</td>\n      <td>愛知県</td>\n      <td>5153.81</td>\n    </tr>\n    <tr>\n      <th>1</th>\n      <td>Akita</td>\n      <td>秋田県</td>\n      <td>11612.11</td>\n    </tr>\n    <tr>\n      <th>2</th>\n      <td>Aomori</td>\n      <td>青森県</td>\n      <td>9606.26</td>\n    </tr>\n    <tr>\n      <th>3</th>\n      <td>Chiba</td>\n      <td>千葉県</td>\n      <td>5156.15</td>\n    </tr>\n    <tr>\n      <th>4</th>\n      <td>Ehime</td>\n      <td>愛媛県</td>\n      <td>5676.44</td>\n    </tr>\n  </tbody>\n</table>\n</div>"
     },
     "metadata": {},
     "execution_count": 195
    }
   ],
   "source": [
    "prefectures.head()"
   ]
  },
  {
   "cell_type": "code",
   "execution_count": 196,
   "metadata": {},
   "outputs": [],
   "source": [
    "assert(set(accomodation.location.to_list()) == set(prefectures.Japanese.to_list()))"
   ]
  },
  {
   "cell_type": "code",
   "execution_count": 197,
   "metadata": {},
   "outputs": [],
   "source": [
    "accomodation = accomodation.merge(prefectures, left_on=\"location\", right_on=\"Japanese\")"
   ]
  },
  {
   "cell_type": "code",
   "execution_count": 198,
   "metadata": {},
   "outputs": [
    {
     "output_type": "execute_result",
     "data": {
      "text/plain": [
       "        time location  accomodations Prefecture Japanese      Area\n",
       "0 2007-01-01       全国       22136270      Japan       全国  377915.0\n",
       "1 2007-02-01       全国       23346870      Japan       全国  377915.0\n",
       "2 2007-03-01       全国       26997200      Japan       全国  377915.0\n",
       "3 2007-04-01       全国       23729790      Japan       全国  377915.0\n",
       "4 2007-05-01       全国       25636730      Japan       全国  377915.0"
      ],
      "text/html": "<div>\n<style scoped>\n    .dataframe tbody tr th:only-of-type {\n        vertical-align: middle;\n    }\n\n    .dataframe tbody tr th {\n        vertical-align: top;\n    }\n\n    .dataframe thead th {\n        text-align: right;\n    }\n</style>\n<table border=\"1\" class=\"dataframe\">\n  <thead>\n    <tr style=\"text-align: right;\">\n      <th></th>\n      <th>time</th>\n      <th>location</th>\n      <th>accomodations</th>\n      <th>Prefecture</th>\n      <th>Japanese</th>\n      <th>Area</th>\n    </tr>\n  </thead>\n  <tbody>\n    <tr>\n      <th>0</th>\n      <td>2007-01-01</td>\n      <td>全国</td>\n      <td>22136270</td>\n      <td>Japan</td>\n      <td>全国</td>\n      <td>377915.0</td>\n    </tr>\n    <tr>\n      <th>1</th>\n      <td>2007-02-01</td>\n      <td>全国</td>\n      <td>23346870</td>\n      <td>Japan</td>\n      <td>全国</td>\n      <td>377915.0</td>\n    </tr>\n    <tr>\n      <th>2</th>\n      <td>2007-03-01</td>\n      <td>全国</td>\n      <td>26997200</td>\n      <td>Japan</td>\n      <td>全国</td>\n      <td>377915.0</td>\n    </tr>\n    <tr>\n      <th>3</th>\n      <td>2007-04-01</td>\n      <td>全国</td>\n      <td>23729790</td>\n      <td>Japan</td>\n      <td>全国</td>\n      <td>377915.0</td>\n    </tr>\n    <tr>\n      <th>4</th>\n      <td>2007-05-01</td>\n      <td>全国</td>\n      <td>25636730</td>\n      <td>Japan</td>\n      <td>全国</td>\n      <td>377915.0</td>\n    </tr>\n  </tbody>\n</table>\n</div>"
     },
     "metadata": {},
     "execution_count": 198
    }
   ],
   "source": [
    "accomodation.head()"
   ]
  },
  {
   "cell_type": "code",
   "execution_count": 199,
   "metadata": {},
   "outputs": [],
   "source": [
    "accomodation.drop([\"location\", \"Japanese\"], axis=1, inplace=True)\n",
    "accomodation.rename(columns = {\"Prefecture\": \"location\"}, inplace=True)"
   ]
  },
  {
   "cell_type": "code",
   "execution_count": 200,
   "metadata": {},
   "outputs": [],
   "source": [
    "accomodation.to_csv(\"accomodation_processed.tsv\", sep=\"\\t\", index=False)"
   ]
  },
  {
   "cell_type": "code",
   "execution_count": 3,
   "metadata": {},
   "outputs": [],
   "source": [
    "accomodation = pd.read_csv(\"accomodation_processed.tsv\", sep=\"\\t\")"
   ]
  },
  {
   "cell_type": "code",
   "execution_count": 4,
   "metadata": {},
   "outputs": [
    {
     "output_type": "execute_result",
     "data": {
      "text/plain": [
       "         time  accomodations location      Area\n",
       "0  2007-01-01       22136270    Japan  377915.0\n",
       "1  2007-02-01       23346870    Japan  377915.0\n",
       "2  2007-03-01       26997200    Japan  377915.0\n",
       "3  2007-04-01       23729790    Japan  377915.0\n",
       "4  2007-05-01       25636730    Japan  377915.0"
      ],
      "text/html": "<div>\n<style scoped>\n    .dataframe tbody tr th:only-of-type {\n        vertical-align: middle;\n    }\n\n    .dataframe tbody tr th {\n        vertical-align: top;\n    }\n\n    .dataframe thead th {\n        text-align: right;\n    }\n</style>\n<table border=\"1\" class=\"dataframe\">\n  <thead>\n    <tr style=\"text-align: right;\">\n      <th></th>\n      <th>time</th>\n      <th>accomodations</th>\n      <th>location</th>\n      <th>Area</th>\n    </tr>\n  </thead>\n  <tbody>\n    <tr>\n      <th>0</th>\n      <td>2007-01-01</td>\n      <td>22136270</td>\n      <td>Japan</td>\n      <td>377915.0</td>\n    </tr>\n    <tr>\n      <th>1</th>\n      <td>2007-02-01</td>\n      <td>23346870</td>\n      <td>Japan</td>\n      <td>377915.0</td>\n    </tr>\n    <tr>\n      <th>2</th>\n      <td>2007-03-01</td>\n      <td>26997200</td>\n      <td>Japan</td>\n      <td>377915.0</td>\n    </tr>\n    <tr>\n      <th>3</th>\n      <td>2007-04-01</td>\n      <td>23729790</td>\n      <td>Japan</td>\n      <td>377915.0</td>\n    </tr>\n    <tr>\n      <th>4</th>\n      <td>2007-05-01</td>\n      <td>25636730</td>\n      <td>Japan</td>\n      <td>377915.0</td>\n    </tr>\n  </tbody>\n</table>\n</div>"
     },
     "metadata": {},
     "execution_count": 4
    }
   ],
   "source": [
    "accomodation.head()"
   ]
  },
  {
   "cell_type": "code",
   "execution_count": 48,
   "metadata": {},
   "outputs": [],
   "source": [
    "prophet_japan = accomodation[accomodation[\"location\"] == \"Japan\"][[\"time\", \"accomodations\"]]\n",
    "prophet_japan.columns = [\"ds\", \"y\"]\n",
    "prophet_japan[\"ds\"] = pd.to_datetime(prophet_japan[\"ds\"])"
   ]
  },
  {
   "cell_type": "code",
   "execution_count": 49,
   "metadata": {},
   "outputs": [
    {
     "output_type": "execute_result",
     "data": {
      "text/plain": [
       "            ds         y\n",
       "0   2007-01-01  22136270\n",
       "1   2007-02-01  23346870\n",
       "2   2007-03-01  26997200\n",
       "3   2007-04-01  23729790\n",
       "4   2007-05-01  25636730\n",
       "..         ...       ...\n",
       "163 2020-08-01  26149030\n",
       "164 2020-09-01  26020820\n",
       "165 2020-10-01  32412890\n",
       "166 2020-11-01  34501310\n",
       "167 2020-12-01  27863790\n",
       "\n",
       "[168 rows x 2 columns]"
      ],
      "text/html": "<div>\n<style scoped>\n    .dataframe tbody tr th:only-of-type {\n        vertical-align: middle;\n    }\n\n    .dataframe tbody tr th {\n        vertical-align: top;\n    }\n\n    .dataframe thead th {\n        text-align: right;\n    }\n</style>\n<table border=\"1\" class=\"dataframe\">\n  <thead>\n    <tr style=\"text-align: right;\">\n      <th></th>\n      <th>ds</th>\n      <th>y</th>\n    </tr>\n  </thead>\n  <tbody>\n    <tr>\n      <th>0</th>\n      <td>2007-01-01</td>\n      <td>22136270</td>\n    </tr>\n    <tr>\n      <th>1</th>\n      <td>2007-02-01</td>\n      <td>23346870</td>\n    </tr>\n    <tr>\n      <th>2</th>\n      <td>2007-03-01</td>\n      <td>26997200</td>\n    </tr>\n    <tr>\n      <th>3</th>\n      <td>2007-04-01</td>\n      <td>23729790</td>\n    </tr>\n    <tr>\n      <th>4</th>\n      <td>2007-05-01</td>\n      <td>25636730</td>\n    </tr>\n    <tr>\n      <th>...</th>\n      <td>...</td>\n      <td>...</td>\n    </tr>\n    <tr>\n      <th>163</th>\n      <td>2020-08-01</td>\n      <td>26149030</td>\n    </tr>\n    <tr>\n      <th>164</th>\n      <td>2020-09-01</td>\n      <td>26020820</td>\n    </tr>\n    <tr>\n      <th>165</th>\n      <td>2020-10-01</td>\n      <td>32412890</td>\n    </tr>\n    <tr>\n      <th>166</th>\n      <td>2020-11-01</td>\n      <td>34501310</td>\n    </tr>\n    <tr>\n      <th>167</th>\n      <td>2020-12-01</td>\n      <td>27863790</td>\n    </tr>\n  </tbody>\n</table>\n<p>168 rows × 2 columns</p>\n</div>"
     },
     "metadata": {},
     "execution_count": 49
    }
   ],
   "source": [
    "prophet_japan"
   ]
  },
  {
   "cell_type": "code",
   "execution_count": 50,
   "metadata": {},
   "outputs": [],
   "source": [
    "prophet_japan_2020 = prophet_japan[(prophet_japan[\"ds\"] >= \"2020-01-01\")]\n",
    "prophet_japan_before_2020 = prophet_japan[(prophet_japan[\"ds\"] < \"2020-01-01\")]"
   ]
  },
  {
   "cell_type": "code",
   "execution_count": 51,
   "metadata": {},
   "outputs": [
    {
     "output_type": "stream",
     "name": "stderr",
     "text": [
      "INFO:prophet:Disabling weekly seasonality. Run prophet with weekly_seasonality=True to override this.\n",
      "INFO:prophet:Disabling daily seasonality. Run prophet with daily_seasonality=True to override this.\n"
     ]
    }
   ],
   "source": [
    "m_japan = Prophet()\n",
    "m_japan.fit(prophet_japan_before_2020)\n",
    "future = pd.DataFrame(prophet_japan[\"ds\"], columns=[\"ds\"])\n",
    "prediction = m_japan.predict(future)"
   ]
  },
  {
   "cell_type": "code",
   "execution_count": 52,
   "metadata": {},
   "outputs": [
    {
     "output_type": "execute_result",
     "data": {
      "text/plain": [
       "            ds         trend    yhat_lower    yhat_upper   trend_lower  \\\n",
       "163 2020-08-01  5.135004e+07  6.127267e+07  6.599290e+07  5.119715e+07   \n",
       "164 2020-09-01  5.156066e+07  4.874630e+07  5.336650e+07  5.138120e+07   \n",
       "165 2020-10-01  5.176447e+07  5.079025e+07  5.529410e+07  5.153896e+07   \n",
       "166 2020-11-01  5.197509e+07  4.931704e+07  5.389398e+07  5.170767e+07   \n",
       "167 2020-12-01  5.217891e+07  4.688453e+07  5.169438e+07  5.186264e+07   \n",
       "\n",
       "      trend_upper  additive_terms  additive_terms_lower  additive_terms_upper  \\\n",
       "163  5.149753e+07    1.234182e+07          1.234182e+07          1.234182e+07   \n",
       "164  5.173920e+07   -5.215879e+05         -5.215879e+05         -5.215879e+05   \n",
       "165  5.197409e+07    1.202464e+06          1.202464e+06          1.202464e+06   \n",
       "166  5.222111e+07   -4.395639e+05         -4.395639e+05         -4.395639e+05   \n",
       "167  5.247228e+07   -2.868611e+06         -2.868611e+06         -2.868611e+06   \n",
       "\n",
       "           yearly  yearly_lower  yearly_upper  multiplicative_terms  \\\n",
       "163  1.234182e+07  1.234182e+07  1.234182e+07                   0.0   \n",
       "164 -5.215879e+05 -5.215879e+05 -5.215879e+05                   0.0   \n",
       "165  1.202464e+06  1.202464e+06  1.202464e+06                   0.0   \n",
       "166 -4.395639e+05 -4.395639e+05 -4.395639e+05                   0.0   \n",
       "167 -2.868611e+06 -2.868611e+06 -2.868611e+06                   0.0   \n",
       "\n",
       "     multiplicative_terms_lower  multiplicative_terms_upper          yhat  \n",
       "163                         0.0                         0.0  6.369186e+07  \n",
       "164                         0.0                         0.0  5.103907e+07  \n",
       "165                         0.0                         0.0  5.296694e+07  \n",
       "166                         0.0                         0.0  5.153552e+07  \n",
       "167                         0.0                         0.0  4.931029e+07  "
      ],
      "text/html": "<div>\n<style scoped>\n    .dataframe tbody tr th:only-of-type {\n        vertical-align: middle;\n    }\n\n    .dataframe tbody tr th {\n        vertical-align: top;\n    }\n\n    .dataframe thead th {\n        text-align: right;\n    }\n</style>\n<table border=\"1\" class=\"dataframe\">\n  <thead>\n    <tr style=\"text-align: right;\">\n      <th></th>\n      <th>ds</th>\n      <th>trend</th>\n      <th>yhat_lower</th>\n      <th>yhat_upper</th>\n      <th>trend_lower</th>\n      <th>trend_upper</th>\n      <th>additive_terms</th>\n      <th>additive_terms_lower</th>\n      <th>additive_terms_upper</th>\n      <th>yearly</th>\n      <th>yearly_lower</th>\n      <th>yearly_upper</th>\n      <th>multiplicative_terms</th>\n      <th>multiplicative_terms_lower</th>\n      <th>multiplicative_terms_upper</th>\n      <th>yhat</th>\n    </tr>\n  </thead>\n  <tbody>\n    <tr>\n      <th>163</th>\n      <td>2020-08-01</td>\n      <td>5.135004e+07</td>\n      <td>6.127267e+07</td>\n      <td>6.599290e+07</td>\n      <td>5.119715e+07</td>\n      <td>5.149753e+07</td>\n      <td>1.234182e+07</td>\n      <td>1.234182e+07</td>\n      <td>1.234182e+07</td>\n      <td>1.234182e+07</td>\n      <td>1.234182e+07</td>\n      <td>1.234182e+07</td>\n      <td>0.0</td>\n      <td>0.0</td>\n      <td>0.0</td>\n      <td>6.369186e+07</td>\n    </tr>\n    <tr>\n      <th>164</th>\n      <td>2020-09-01</td>\n      <td>5.156066e+07</td>\n      <td>4.874630e+07</td>\n      <td>5.336650e+07</td>\n      <td>5.138120e+07</td>\n      <td>5.173920e+07</td>\n      <td>-5.215879e+05</td>\n      <td>-5.215879e+05</td>\n      <td>-5.215879e+05</td>\n      <td>-5.215879e+05</td>\n      <td>-5.215879e+05</td>\n      <td>-5.215879e+05</td>\n      <td>0.0</td>\n      <td>0.0</td>\n      <td>0.0</td>\n      <td>5.103907e+07</td>\n    </tr>\n    <tr>\n      <th>165</th>\n      <td>2020-10-01</td>\n      <td>5.176447e+07</td>\n      <td>5.079025e+07</td>\n      <td>5.529410e+07</td>\n      <td>5.153896e+07</td>\n      <td>5.197409e+07</td>\n      <td>1.202464e+06</td>\n      <td>1.202464e+06</td>\n      <td>1.202464e+06</td>\n      <td>1.202464e+06</td>\n      <td>1.202464e+06</td>\n      <td>1.202464e+06</td>\n      <td>0.0</td>\n      <td>0.0</td>\n      <td>0.0</td>\n      <td>5.296694e+07</td>\n    </tr>\n    <tr>\n      <th>166</th>\n      <td>2020-11-01</td>\n      <td>5.197509e+07</td>\n      <td>4.931704e+07</td>\n      <td>5.389398e+07</td>\n      <td>5.170767e+07</td>\n      <td>5.222111e+07</td>\n      <td>-4.395639e+05</td>\n      <td>-4.395639e+05</td>\n      <td>-4.395639e+05</td>\n      <td>-4.395639e+05</td>\n      <td>-4.395639e+05</td>\n      <td>-4.395639e+05</td>\n      <td>0.0</td>\n      <td>0.0</td>\n      <td>0.0</td>\n      <td>5.153552e+07</td>\n    </tr>\n    <tr>\n      <th>167</th>\n      <td>2020-12-01</td>\n      <td>5.217891e+07</td>\n      <td>4.688453e+07</td>\n      <td>5.169438e+07</td>\n      <td>5.186264e+07</td>\n      <td>5.247228e+07</td>\n      <td>-2.868611e+06</td>\n      <td>-2.868611e+06</td>\n      <td>-2.868611e+06</td>\n      <td>-2.868611e+06</td>\n      <td>-2.868611e+06</td>\n      <td>-2.868611e+06</td>\n      <td>0.0</td>\n      <td>0.0</td>\n      <td>0.0</td>\n      <td>4.931029e+07</td>\n    </tr>\n  </tbody>\n</table>\n</div>"
     },
     "metadata": {},
     "execution_count": 52
    }
   ],
   "source": [
    "prediction.tail()"
   ]
  },
  {
   "cell_type": "code",
   "execution_count": 53,
   "metadata": {},
   "outputs": [],
   "source": [
    "def plot_prophet(original, prediction, title):\n",
    "    trace1 = go.Scatter(\n",
    "    x=original[\"ds\"],\n",
    "    y=original[\"y\"],\n",
    "    mode='markers',\n",
    "    name = \"Actual\",\n",
    "    marker_color='rgba(152, 0, 0, .8)',\n",
    "    marker={'size': 15}\n",
    "    )\n",
    "\n",
    "    trace2 = go.Scatter(\n",
    "        x=prediction[\"ds\"],\n",
    "        y=prediction[\"yhat\"],\n",
    "        name = \"Prophet's fit and prediction\",\n",
    "        marker_color='rgb(129, 119, 185, 1)'\n",
    "    )\n",
    "\n",
    "    trace3 = go.Scatter(\n",
    "        x=prediction[\"ds\"],\n",
    "        y=prediction[\"yhat_upper\"],\n",
    "        mode='lines',\n",
    "            marker=dict(color=\"#444\"),\n",
    "            line=dict(width=0),\n",
    "            showlegend=False\n",
    "    )\n",
    "\n",
    "    trace4 = go.Scatter(\n",
    "        x=prediction[\"ds\"],\n",
    "        y=prediction[\"yhat_lower\"],\n",
    "        marker=dict(color=\"#444\"),\n",
    "            line=dict(width=0),\n",
    "            mode='lines',\n",
    "            fillcolor='rgba(78, 119, 185, 0.4)',\n",
    "            fill='tonexty',\n",
    "            showlegend=False\n",
    "    )\n",
    "\n",
    "\n",
    "\n",
    "    fig = make_subplots()\n",
    "    \n",
    "    fig.add_trace(trace2)\n",
    "    fig.add_trace(trace3)\n",
    "    fig.add_trace(trace4)\n",
    "    fig.add_trace(trace1)\n",
    "    #fig.write_image(\"fig1.png\")\n",
    "    fig.update_layout(height=800, width=1600, title_text=title,  xaxis_title=\"Time\", yaxis_title=\"Accomodations\", font=dict(size=22))\n",
    "    return fig"
   ]
  },
  {
   "cell_type": "code",
   "execution_count": 54,
   "metadata": {},
   "outputs": [
    {
     "output_type": "display_data",
     "data": {
      "application/vnd.plotly.v1+json": {
       "config": {
        "plotlyServerURL": "https://plot.ly"
       },
       "data": [
        {
         "marker": {
          "color": "rgb(129, 119, 185, 1)"
         },
         "name": "Prophet's fit and prediction",
         "type": "scatter",
         "x": [
          "2007-01-01T00:00:00",
          "2007-02-01T00:00:00",
          "2007-03-01T00:00:00",
          "2007-04-01T00:00:00",
          "2007-05-01T00:00:00",
          "2007-06-01T00:00:00",
          "2007-07-01T00:00:00",
          "2007-08-01T00:00:00",
          "2007-09-01T00:00:00",
          "2007-10-01T00:00:00",
          "2007-11-01T00:00:00",
          "2007-12-01T00:00:00",
          "2008-01-01T00:00:00",
          "2008-02-01T00:00:00",
          "2008-03-01T00:00:00",
          "2008-04-01T00:00:00",
          "2008-05-01T00:00:00",
          "2008-06-01T00:00:00",
          "2008-07-01T00:00:00",
          "2008-08-01T00:00:00",
          "2008-09-01T00:00:00",
          "2008-10-01T00:00:00",
          "2008-11-01T00:00:00",
          "2008-12-01T00:00:00",
          "2009-01-01T00:00:00",
          "2009-02-01T00:00:00",
          "2009-03-01T00:00:00",
          "2009-04-01T00:00:00",
          "2009-05-01T00:00:00",
          "2009-06-01T00:00:00",
          "2009-07-01T00:00:00",
          "2009-08-01T00:00:00",
          "2009-09-01T00:00:00",
          "2009-10-01T00:00:00",
          "2009-11-01T00:00:00",
          "2009-12-01T00:00:00",
          "2010-01-01T00:00:00",
          "2010-02-01T00:00:00",
          "2010-03-01T00:00:00",
          "2010-04-01T00:00:00",
          "2010-05-01T00:00:00",
          "2010-06-01T00:00:00",
          "2010-07-01T00:00:00",
          "2010-08-01T00:00:00",
          "2010-09-01T00:00:00",
          "2010-10-01T00:00:00",
          "2010-11-01T00:00:00",
          "2010-12-01T00:00:00",
          "2011-01-01T00:00:00",
          "2011-02-01T00:00:00",
          "2011-03-01T00:00:00",
          "2011-04-01T00:00:00",
          "2011-05-01T00:00:00",
          "2011-06-01T00:00:00",
          "2011-07-01T00:00:00",
          "2011-08-01T00:00:00",
          "2011-09-01T00:00:00",
          "2011-10-01T00:00:00",
          "2011-11-01T00:00:00",
          "2011-12-01T00:00:00",
          "2012-01-01T00:00:00",
          "2012-02-01T00:00:00",
          "2012-03-01T00:00:00",
          "2012-04-01T00:00:00",
          "2012-05-01T00:00:00",
          "2012-06-01T00:00:00",
          "2012-07-01T00:00:00",
          "2012-08-01T00:00:00",
          "2012-09-01T00:00:00",
          "2012-10-01T00:00:00",
          "2012-11-01T00:00:00",
          "2012-12-01T00:00:00",
          "2013-01-01T00:00:00",
          "2013-02-01T00:00:00",
          "2013-03-01T00:00:00",
          "2013-04-01T00:00:00",
          "2013-05-01T00:00:00",
          "2013-06-01T00:00:00",
          "2013-07-01T00:00:00",
          "2013-08-01T00:00:00",
          "2013-09-01T00:00:00",
          "2013-10-01T00:00:00",
          "2013-11-01T00:00:00",
          "2013-12-01T00:00:00",
          "2014-01-01T00:00:00",
          "2014-02-01T00:00:00",
          "2014-03-01T00:00:00",
          "2014-04-01T00:00:00",
          "2014-05-01T00:00:00",
          "2014-06-01T00:00:00",
          "2014-07-01T00:00:00",
          "2014-08-01T00:00:00",
          "2014-09-01T00:00:00",
          "2014-10-01T00:00:00",
          "2014-11-01T00:00:00",
          "2014-12-01T00:00:00",
          "2015-01-01T00:00:00",
          "2015-02-01T00:00:00",
          "2015-03-01T00:00:00",
          "2015-04-01T00:00:00",
          "2015-05-01T00:00:00",
          "2015-06-01T00:00:00",
          "2015-07-01T00:00:00",
          "2015-08-01T00:00:00",
          "2015-09-01T00:00:00",
          "2015-10-01T00:00:00",
          "2015-11-01T00:00:00",
          "2015-12-01T00:00:00",
          "2016-01-01T00:00:00",
          "2016-02-01T00:00:00",
          "2016-03-01T00:00:00",
          "2016-04-01T00:00:00",
          "2016-05-01T00:00:00",
          "2016-06-01T00:00:00",
          "2016-07-01T00:00:00",
          "2016-08-01T00:00:00",
          "2016-09-01T00:00:00",
          "2016-10-01T00:00:00",
          "2016-11-01T00:00:00",
          "2016-12-01T00:00:00",
          "2017-01-01T00:00:00",
          "2017-02-01T00:00:00",
          "2017-03-01T00:00:00",
          "2017-04-01T00:00:00",
          "2017-05-01T00:00:00",
          "2017-06-01T00:00:00",
          "2017-07-01T00:00:00",
          "2017-08-01T00:00:00",
          "2017-09-01T00:00:00",
          "2017-10-01T00:00:00",
          "2017-11-01T00:00:00",
          "2017-12-01T00:00:00",
          "2018-01-01T00:00:00",
          "2018-02-01T00:00:00",
          "2018-03-01T00:00:00",
          "2018-04-01T00:00:00",
          "2018-05-01T00:00:00",
          "2018-06-01T00:00:00",
          "2018-07-01T00:00:00",
          "2018-08-01T00:00:00",
          "2018-09-01T00:00:00",
          "2018-10-01T00:00:00",
          "2018-11-01T00:00:00",
          "2018-12-01T00:00:00",
          "2019-01-01T00:00:00",
          "2019-02-01T00:00:00",
          "2019-03-01T00:00:00",
          "2019-04-01T00:00:00",
          "2019-05-01T00:00:00",
          "2019-06-01T00:00:00",
          "2019-07-01T00:00:00",
          "2019-08-01T00:00:00",
          "2019-09-01T00:00:00",
          "2019-10-01T00:00:00",
          "2019-11-01T00:00:00",
          "2019-12-01T00:00:00",
          "2020-01-01T00:00:00",
          "2020-02-01T00:00:00",
          "2020-03-01T00:00:00",
          "2020-04-01T00:00:00",
          "2020-05-01T00:00:00",
          "2020-06-01T00:00:00",
          "2020-07-01T00:00:00",
          "2020-08-01T00:00:00",
          "2020-09-01T00:00:00",
          "2020-10-01T00:00:00",
          "2020-11-01T00:00:00",
          "2020-12-01T00:00:00"
         ],
         "y": [
          20481393.920767367,
          21187747.396344904,
          25755523.367668837,
          22221764.273511235,
          25688581.406438634,
          21488070.713613696,
          26853999.485162452,
          37986171.90147914,
          25174589.702216975,
          26464017.902741328,
          24913210.687146045,
          22858345.60811904,
          21190095.707189515,
          22112853.29385978,
          27414863.451275542,
          23218274.017124295,
          25606560.078429192,
          22297653.923582755,
          27876517.4742735,
          38398246.38650366,
          25590994.655323267,
          27369389.64135853,
          25783515.39829167,
          23408811.15191026,
          21720227.263350673,
          21973044.93253679,
          27796998.14823317,
          23860851.087809425,
          26666502.114892993,
          23115434.804043792,
          28671076.32123386,
          39561017.636026576,
          26909529.855620008,
          28682078.58163627,
          27264121.335640077,
          25219211.54133057,
          23769511.921513014,
          24484721.64442733,
          29867448.105712153,
          26331852.040567234,
          29670901.962252386,
          26002097.93732618,
          31660505.24137565,
          42826086.07140683,
          30245264.25763248,
          31924581.031265758,
          30590433.182888944,
          28652185.80784514,
          27209301.87662128,
          28147882.915975425,
          32925412.81688607,
          29623881.287627514,
          33315434.773682613,
          29347151.645758312,
          34937816.77091613,
          46302216.455967754,
          33722861.52543902,
          35237025.79248018,
          33918445.84562156,
          32088316.831079293,
          30646596.603122238,
          31795883.86276912,
          37309808.8755464,
          33339749.114371005,
          35947257.436833434,
          32823498.754690215,
          38581537.27896358,
          49288413.66389509,
          36666309.40541538,
          38623879.365234405,
          37168021.095549755,
          34919138.75889094,
          33360570.84371251,
          33743404.48628125,
          39637205.611139566,
          35729083.53596593,
          38561855.516517356,
          35038813.19091953,
          40621575.661578126,
          51432125.69551655,
          38654579.12760516,
          40305135.47861515,
          38761119.44511514,
          36524417.016813666,
          34876531.67520657,
          35393555.6737024,
          40597275.67421989,
          36863493.88465795,
          40010751.16903725,
          36143761.418896504,
          41610376.08491647,
          52577771.18898885,
          39798763.64925468,
          41286287.78640015,
          39753954.21034795,
          37623914.19562135,
          35982844.53672497,
          36723239.84840291,
          41321763.284591824,
          37822046.02046107,
          41321806.85986531,
          37155337.997067176,
          42554210.47557323,
          53720424.72241208,
          40942884.3540075,
          42265256.261811204,
          40748490.87707368,
          38726569.5032947,
          37092361.43111901,
          38049160.84833249,
          43383016.58915729,
          39220468.98554726,
          41641698.75081678,
          38366834.423400655,
          43978641.67887248,
          54534412.41937541,
          41761202.51646606,
          43572541.20748302,
          42020708.79289513,
          39713794.59362371,
          38095260.4204108,
          38418127.804942705,
          44257765.85802803,
          40338984.15328265,
          43243126.233188726,
          39793833.01025587,
          45447965.58026695,
          56332264.71687092,
          43675134.7582758,
          45442223.31185154,
          44018623.887668125,
          41898453.661931984,
          40370984.92964321,
          41008425.540082775,
          46320908.932037465,
          42707543.754421115,
          45971333.24390923,
          42224760.105713636,
          47807906.97756322,
          58895718.69432577,
          46237127.767281115,
          47841184.11025498,
          46429267.15019607,
          44415759.344491646,
          42895106.30158755,
          43755918.2292581,
          48463205.06053562,
          45083904.41847002,
          48700197.47277648,
          44654145.23204394,
          50169549.925453484,
          61456180.79435562,
          48799057.04768112,
          50237961.17006357,
          48841612.40705562,
          46936223.247855864,
          45422431.79741141,
          46499647.83457117,
          51946151.381148964,
          47904020.39748565,
          50441782.375605695,
          47287334.66813571,
          53015674.135642886,
          63691861.49524757,
          51039068.21144293,
          52966939.114494056,
          51535523.31901196,
          49310294.9896437
         ]
        },
        {
         "line": {
          "width": 0
         },
         "marker": {
          "color": "#444"
         },
         "mode": "lines",
         "showlegend": false,
         "type": "scatter",
         "x": [
          "2007-01-01T00:00:00",
          "2007-02-01T00:00:00",
          "2007-03-01T00:00:00",
          "2007-04-01T00:00:00",
          "2007-05-01T00:00:00",
          "2007-06-01T00:00:00",
          "2007-07-01T00:00:00",
          "2007-08-01T00:00:00",
          "2007-09-01T00:00:00",
          "2007-10-01T00:00:00",
          "2007-11-01T00:00:00",
          "2007-12-01T00:00:00",
          "2008-01-01T00:00:00",
          "2008-02-01T00:00:00",
          "2008-03-01T00:00:00",
          "2008-04-01T00:00:00",
          "2008-05-01T00:00:00",
          "2008-06-01T00:00:00",
          "2008-07-01T00:00:00",
          "2008-08-01T00:00:00",
          "2008-09-01T00:00:00",
          "2008-10-01T00:00:00",
          "2008-11-01T00:00:00",
          "2008-12-01T00:00:00",
          "2009-01-01T00:00:00",
          "2009-02-01T00:00:00",
          "2009-03-01T00:00:00",
          "2009-04-01T00:00:00",
          "2009-05-01T00:00:00",
          "2009-06-01T00:00:00",
          "2009-07-01T00:00:00",
          "2009-08-01T00:00:00",
          "2009-09-01T00:00:00",
          "2009-10-01T00:00:00",
          "2009-11-01T00:00:00",
          "2009-12-01T00:00:00",
          "2010-01-01T00:00:00",
          "2010-02-01T00:00:00",
          "2010-03-01T00:00:00",
          "2010-04-01T00:00:00",
          "2010-05-01T00:00:00",
          "2010-06-01T00:00:00",
          "2010-07-01T00:00:00",
          "2010-08-01T00:00:00",
          "2010-09-01T00:00:00",
          "2010-10-01T00:00:00",
          "2010-11-01T00:00:00",
          "2010-12-01T00:00:00",
          "2011-01-01T00:00:00",
          "2011-02-01T00:00:00",
          "2011-03-01T00:00:00",
          "2011-04-01T00:00:00",
          "2011-05-01T00:00:00",
          "2011-06-01T00:00:00",
          "2011-07-01T00:00:00",
          "2011-08-01T00:00:00",
          "2011-09-01T00:00:00",
          "2011-10-01T00:00:00",
          "2011-11-01T00:00:00",
          "2011-12-01T00:00:00",
          "2012-01-01T00:00:00",
          "2012-02-01T00:00:00",
          "2012-03-01T00:00:00",
          "2012-04-01T00:00:00",
          "2012-05-01T00:00:00",
          "2012-06-01T00:00:00",
          "2012-07-01T00:00:00",
          "2012-08-01T00:00:00",
          "2012-09-01T00:00:00",
          "2012-10-01T00:00:00",
          "2012-11-01T00:00:00",
          "2012-12-01T00:00:00",
          "2013-01-01T00:00:00",
          "2013-02-01T00:00:00",
          "2013-03-01T00:00:00",
          "2013-04-01T00:00:00",
          "2013-05-01T00:00:00",
          "2013-06-01T00:00:00",
          "2013-07-01T00:00:00",
          "2013-08-01T00:00:00",
          "2013-09-01T00:00:00",
          "2013-10-01T00:00:00",
          "2013-11-01T00:00:00",
          "2013-12-01T00:00:00",
          "2014-01-01T00:00:00",
          "2014-02-01T00:00:00",
          "2014-03-01T00:00:00",
          "2014-04-01T00:00:00",
          "2014-05-01T00:00:00",
          "2014-06-01T00:00:00",
          "2014-07-01T00:00:00",
          "2014-08-01T00:00:00",
          "2014-09-01T00:00:00",
          "2014-10-01T00:00:00",
          "2014-11-01T00:00:00",
          "2014-12-01T00:00:00",
          "2015-01-01T00:00:00",
          "2015-02-01T00:00:00",
          "2015-03-01T00:00:00",
          "2015-04-01T00:00:00",
          "2015-05-01T00:00:00",
          "2015-06-01T00:00:00",
          "2015-07-01T00:00:00",
          "2015-08-01T00:00:00",
          "2015-09-01T00:00:00",
          "2015-10-01T00:00:00",
          "2015-11-01T00:00:00",
          "2015-12-01T00:00:00",
          "2016-01-01T00:00:00",
          "2016-02-01T00:00:00",
          "2016-03-01T00:00:00",
          "2016-04-01T00:00:00",
          "2016-05-01T00:00:00",
          "2016-06-01T00:00:00",
          "2016-07-01T00:00:00",
          "2016-08-01T00:00:00",
          "2016-09-01T00:00:00",
          "2016-10-01T00:00:00",
          "2016-11-01T00:00:00",
          "2016-12-01T00:00:00",
          "2017-01-01T00:00:00",
          "2017-02-01T00:00:00",
          "2017-03-01T00:00:00",
          "2017-04-01T00:00:00",
          "2017-05-01T00:00:00",
          "2017-06-01T00:00:00",
          "2017-07-01T00:00:00",
          "2017-08-01T00:00:00",
          "2017-09-01T00:00:00",
          "2017-10-01T00:00:00",
          "2017-11-01T00:00:00",
          "2017-12-01T00:00:00",
          "2018-01-01T00:00:00",
          "2018-02-01T00:00:00",
          "2018-03-01T00:00:00",
          "2018-04-01T00:00:00",
          "2018-05-01T00:00:00",
          "2018-06-01T00:00:00",
          "2018-07-01T00:00:00",
          "2018-08-01T00:00:00",
          "2018-09-01T00:00:00",
          "2018-10-01T00:00:00",
          "2018-11-01T00:00:00",
          "2018-12-01T00:00:00",
          "2019-01-01T00:00:00",
          "2019-02-01T00:00:00",
          "2019-03-01T00:00:00",
          "2019-04-01T00:00:00",
          "2019-05-01T00:00:00",
          "2019-06-01T00:00:00",
          "2019-07-01T00:00:00",
          "2019-08-01T00:00:00",
          "2019-09-01T00:00:00",
          "2019-10-01T00:00:00",
          "2019-11-01T00:00:00",
          "2019-12-01T00:00:00",
          "2020-01-01T00:00:00",
          "2020-02-01T00:00:00",
          "2020-03-01T00:00:00",
          "2020-04-01T00:00:00",
          "2020-05-01T00:00:00",
          "2020-06-01T00:00:00",
          "2020-07-01T00:00:00",
          "2020-08-01T00:00:00",
          "2020-09-01T00:00:00",
          "2020-10-01T00:00:00",
          "2020-11-01T00:00:00",
          "2020-12-01T00:00:00"
         ],
         "y": [
          22934402.62859158,
          23536263.696967322,
          28030813.417207576,
          24461336.0956781,
          27942576.53402429,
          23808208.28821162,
          29143348.197689425,
          40139607.09264206,
          27387561.013884667,
          28750384.43493954,
          27216729.55652364,
          24994577.178091396,
          23322403.22697191,
          24372686.63821929,
          29665502.51521866,
          25507548.359759174,
          27908073.769630913,
          24610570.098480705,
          30173820.55506709,
          40621299.678129666,
          27883935.660958946,
          29631011.5313806,
          27980731.105632752,
          25591412.315617107,
          23951543.729187753,
          24240752.78704434,
          29985238.272849493,
          26216061.41444919,
          29056547.145218756,
          25382924.78954638,
          31052533.51704815,
          41833162.699276164,
          29084070.629536014,
          30913409.525464173,
          29556557.804009065,
          27586941.5805493,
          25806788.406349275,
          26817145.8841415,
          32082408.60632236,
          28711510.426674347,
          32014572.626132853,
          28228750.259838805,
          33953293.31742591,
          45327624.270513594,
          32552999.36817945,
          34362274.08507428,
          32893505.48315103,
          30763687.924889278,
          29479228.60780757,
          30493448.77409775,
          35200092.87499177,
          31943807.138030976,
          35651148.38651459,
          31778668.432081297,
          37222647.18342787,
          48667579.23474596,
          36117375.182037085,
          37562898.910403065,
          36265931.846096694,
          34273790.88233801,
          33220140.988946427,
          34004335.3984926,
          39710458.06457267,
          35688560.22458042,
          38095412.09699868,
          35236989.91591793,
          40825835.99597094,
          51565071.44631964,
          38911374.292222135,
          41089772.28298655,
          39500678.70726269,
          37121210.68078789,
          35668712.72970356,
          36062375.95166442,
          42019616.906665355,
          37736151.87328075,
          40755294.77717681,
          37321384.61883737,
          42858578.780478306,
          53628505.685267396,
          40861719.536624976,
          42571189.421564005,
          40907277.26548349,
          38718223.80230664,
          37145269.76750621,
          37710637.57447839,
          42975632.52192054,
          39141451.55164417,
          42368312.28304485,
          38430776.4955716,
          43889838.01029911,
          54887704.3773882,
          42031216.69431941,
          43533490.558561794,
          41925783.40060248,
          40046992.1115093,
          38365665.19196482,
          38953573.48998521,
          43363700.60902064,
          40244517.330673,
          43700973.274662495,
          39341437.389027506,
          44940193.30535121,
          56082603.86727472,
          43201726.456091054,
          44518808.39646023,
          42872036.35762474,
          41093582.129863,
          39475014.203536235,
          40294381.17431708,
          45572904.11799561,
          41478231.218242936,
          43794219.51859651,
          40568743.613019235,
          46154664.093910694,
          56897594.9305838,
          44038730.24385528,
          45810544.051032096,
          44432708.55707272,
          42013474.510274015,
          40390709.19976435,
          40514449.81715677,
          46653564.29538109,
          42542762.77052378,
          45512667.24577884,
          42129758.25676949,
          47788294.11001365,
          58607310.15134684,
          45893640.30874594,
          47421658.34282149,
          46336092.23453176,
          44243530.40027519,
          42714083.908126615,
          43141494.94104004,
          48714576.3767041,
          44911541.778894335,
          48244929.821545884,
          44416012.610581495,
          50094943.46796391,
          61436091.13567136,
          48432994.6407591,
          50054304.78189351,
          48689394.59336072,
          46774214.95510977,
          45339619.77941029,
          46059263.2651166,
          50912255.728040434,
          47492282.102075696,
          51093931.18974471,
          46653303.11455634,
          52587743.8919507,
          63774274.04471771,
          51145302.22256391,
          52500479.7029253,
          51065952.35589592,
          49185569.87682834,
          47772074.530511886,
          48676878.54852171,
          54348251.859396294,
          50176935.19061563,
          52685247.57482709,
          49672607.90071092,
          55302318.38611944,
          65992901.86389993,
          53366502.588871405,
          55294095.8789871,
          53893977.67758531,
          51694376.9976167
         ]
        },
        {
         "fill": "tonexty",
         "fillcolor": "rgba(78, 119, 185, 0.4)",
         "line": {
          "width": 0
         },
         "marker": {
          "color": "#444"
         },
         "mode": "lines",
         "showlegend": false,
         "type": "scatter",
         "x": [
          "2007-01-01T00:00:00",
          "2007-02-01T00:00:00",
          "2007-03-01T00:00:00",
          "2007-04-01T00:00:00",
          "2007-05-01T00:00:00",
          "2007-06-01T00:00:00",
          "2007-07-01T00:00:00",
          "2007-08-01T00:00:00",
          "2007-09-01T00:00:00",
          "2007-10-01T00:00:00",
          "2007-11-01T00:00:00",
          "2007-12-01T00:00:00",
          "2008-01-01T00:00:00",
          "2008-02-01T00:00:00",
          "2008-03-01T00:00:00",
          "2008-04-01T00:00:00",
          "2008-05-01T00:00:00",
          "2008-06-01T00:00:00",
          "2008-07-01T00:00:00",
          "2008-08-01T00:00:00",
          "2008-09-01T00:00:00",
          "2008-10-01T00:00:00",
          "2008-11-01T00:00:00",
          "2008-12-01T00:00:00",
          "2009-01-01T00:00:00",
          "2009-02-01T00:00:00",
          "2009-03-01T00:00:00",
          "2009-04-01T00:00:00",
          "2009-05-01T00:00:00",
          "2009-06-01T00:00:00",
          "2009-07-01T00:00:00",
          "2009-08-01T00:00:00",
          "2009-09-01T00:00:00",
          "2009-10-01T00:00:00",
          "2009-11-01T00:00:00",
          "2009-12-01T00:00:00",
          "2010-01-01T00:00:00",
          "2010-02-01T00:00:00",
          "2010-03-01T00:00:00",
          "2010-04-01T00:00:00",
          "2010-05-01T00:00:00",
          "2010-06-01T00:00:00",
          "2010-07-01T00:00:00",
          "2010-08-01T00:00:00",
          "2010-09-01T00:00:00",
          "2010-10-01T00:00:00",
          "2010-11-01T00:00:00",
          "2010-12-01T00:00:00",
          "2011-01-01T00:00:00",
          "2011-02-01T00:00:00",
          "2011-03-01T00:00:00",
          "2011-04-01T00:00:00",
          "2011-05-01T00:00:00",
          "2011-06-01T00:00:00",
          "2011-07-01T00:00:00",
          "2011-08-01T00:00:00",
          "2011-09-01T00:00:00",
          "2011-10-01T00:00:00",
          "2011-11-01T00:00:00",
          "2011-12-01T00:00:00",
          "2012-01-01T00:00:00",
          "2012-02-01T00:00:00",
          "2012-03-01T00:00:00",
          "2012-04-01T00:00:00",
          "2012-05-01T00:00:00",
          "2012-06-01T00:00:00",
          "2012-07-01T00:00:00",
          "2012-08-01T00:00:00",
          "2012-09-01T00:00:00",
          "2012-10-01T00:00:00",
          "2012-11-01T00:00:00",
          "2012-12-01T00:00:00",
          "2013-01-01T00:00:00",
          "2013-02-01T00:00:00",
          "2013-03-01T00:00:00",
          "2013-04-01T00:00:00",
          "2013-05-01T00:00:00",
          "2013-06-01T00:00:00",
          "2013-07-01T00:00:00",
          "2013-08-01T00:00:00",
          "2013-09-01T00:00:00",
          "2013-10-01T00:00:00",
          "2013-11-01T00:00:00",
          "2013-12-01T00:00:00",
          "2014-01-01T00:00:00",
          "2014-02-01T00:00:00",
          "2014-03-01T00:00:00",
          "2014-04-01T00:00:00",
          "2014-05-01T00:00:00",
          "2014-06-01T00:00:00",
          "2014-07-01T00:00:00",
          "2014-08-01T00:00:00",
          "2014-09-01T00:00:00",
          "2014-10-01T00:00:00",
          "2014-11-01T00:00:00",
          "2014-12-01T00:00:00",
          "2015-01-01T00:00:00",
          "2015-02-01T00:00:00",
          "2015-03-01T00:00:00",
          "2015-04-01T00:00:00",
          "2015-05-01T00:00:00",
          "2015-06-01T00:00:00",
          "2015-07-01T00:00:00",
          "2015-08-01T00:00:00",
          "2015-09-01T00:00:00",
          "2015-10-01T00:00:00",
          "2015-11-01T00:00:00",
          "2015-12-01T00:00:00",
          "2016-01-01T00:00:00",
          "2016-02-01T00:00:00",
          "2016-03-01T00:00:00",
          "2016-04-01T00:00:00",
          "2016-05-01T00:00:00",
          "2016-06-01T00:00:00",
          "2016-07-01T00:00:00",
          "2016-08-01T00:00:00",
          "2016-09-01T00:00:00",
          "2016-10-01T00:00:00",
          "2016-11-01T00:00:00",
          "2016-12-01T00:00:00",
          "2017-01-01T00:00:00",
          "2017-02-01T00:00:00",
          "2017-03-01T00:00:00",
          "2017-04-01T00:00:00",
          "2017-05-01T00:00:00",
          "2017-06-01T00:00:00",
          "2017-07-01T00:00:00",
          "2017-08-01T00:00:00",
          "2017-09-01T00:00:00",
          "2017-10-01T00:00:00",
          "2017-11-01T00:00:00",
          "2017-12-01T00:00:00",
          "2018-01-01T00:00:00",
          "2018-02-01T00:00:00",
          "2018-03-01T00:00:00",
          "2018-04-01T00:00:00",
          "2018-05-01T00:00:00",
          "2018-06-01T00:00:00",
          "2018-07-01T00:00:00",
          "2018-08-01T00:00:00",
          "2018-09-01T00:00:00",
          "2018-10-01T00:00:00",
          "2018-11-01T00:00:00",
          "2018-12-01T00:00:00",
          "2019-01-01T00:00:00",
          "2019-02-01T00:00:00",
          "2019-03-01T00:00:00",
          "2019-04-01T00:00:00",
          "2019-05-01T00:00:00",
          "2019-06-01T00:00:00",
          "2019-07-01T00:00:00",
          "2019-08-01T00:00:00",
          "2019-09-01T00:00:00",
          "2019-10-01T00:00:00",
          "2019-11-01T00:00:00",
          "2019-12-01T00:00:00",
          "2020-01-01T00:00:00",
          "2020-02-01T00:00:00",
          "2020-03-01T00:00:00",
          "2020-04-01T00:00:00",
          "2020-05-01T00:00:00",
          "2020-06-01T00:00:00",
          "2020-07-01T00:00:00",
          "2020-08-01T00:00:00",
          "2020-09-01T00:00:00",
          "2020-10-01T00:00:00",
          "2020-11-01T00:00:00",
          "2020-12-01T00:00:00"
         ],
         "y": [
          18215143.442057047,
          18772744.63246001,
          23359921.67614014,
          20057005.770645704,
          23349622.16979947,
          19395840.56489677,
          24534697.91098304,
          35761469.09345302,
          22849570.022968724,
          24273340.594239734,
          22647777.325242512,
          20672872.91655379,
          18571111.178943597,
          19928149.19284306,
          25134247.75515831,
          20924355.102776304,
          23422418.97067203,
          20015044.84036776,
          25607605.296035588,
          36058710.59993173,
          23375444.378563263,
          25202613.662403107,
          23385889.827091496,
          21105756.630277786,
          19465774.408674493,
          19723513.168385703,
          25649581.76592202,
          21460923.63906362,
          24511937.91554051,
          21045226.947282724,
          26367365.77470751,
          37215172.04957539,
          24686859.874535743,
          26290424.8618591,
          24932193.202497825,
          22956907.772988476,
          21514663.70839436,
          22252882.069393355,
          27400926.240745082,
          24036046.108150028,
          27381477.38092626,
          23459368.535311624,
          29279226.046927188,
          40681193.07483657,
          27904416.49038493,
          29625878.081882104,
          28349014.877413467,
          26272476.985134978,
          24980077.905770447,
          25833431.276866306,
          30398122.589071706,
          27273368.32390065,
          30989172.158117794,
          27036933.31259749,
          32748346.61863275,
          44063157.32346428,
          31735422.41542244,
          32945648.446087386,
          31595089.791751888,
          29711213.53022582,
          28121511.995493762,
          29272673.07997328,
          35007813.54003085,
          30974086.03562546,
          33551047.599832956,
          30783854.4407316,
          36275757.33659993,
          46944563.56559004,
          34455752.98700633,
          36473859.69105132,
          34947613.287906215,
          32672875.526107587,
          31031696.49922242,
          31326692.22768001,
          37354296.794996604,
          33293592.117946602,
          36298806.89072059,
          32592755.271295197,
          38214634.44272159,
          49054806.721553735,
          36386086.20302589,
          38103454.2600899,
          36261834.71410015,
          34240680.99412949,
          32544557.307692256,
          33209190.316353355,
          38277342.38359794,
          34433893.76503386,
          37875477.96121474,
          33851579.14459167,
          39175342.3048704,
          50330161.8208194,
          37350488.46063522,
          38877366.60220985,
          37277967.109235585,
          35350713.864642054,
          33704082.69769874,
          34468489.69329554,
          38915112.26475553,
          35524025.48854698,
          38975881.22467202,
          34917794.53592854,
          40384664.713074304,
          51318495.56926889,
          38704581.91171757,
          39903609.127634436,
          38433448.35434694,
          36321300.56393028,
          34625199.839545466,
          35841324.15283249,
          40910539.35381441,
          36980438.01898799,
          39379297.48721921,
          35998939.18944279,
          41766523.805514984,
          52249935.687813215,
          39384756.214357086,
          41160773.420742124,
          39765543.2850084,
          37404570.09121287,
          35808666.89787122,
          36196903.70035767,
          41976736.49886922,
          38067315.31310592,
          40969977.45348975,
          37581166.35675267,
          43239565.80408828,
          54109397.103012115,
          41502569.525566064,
          43333770.528947,
          41889460.198259,
          39570385.551598825,
          38061734.00676088,
          38700998.088174105,
          44090668.03073017,
          40421882.67050835,
          43641002.510774754,
          39856374.16308175,
          45478498.99113917,
          56684350.60179776,
          44000287.14489857,
          45488193.68047626,
          44220742.01671328,
          42248533.48771017,
          40550800.08689846,
          41646575.566286765,
          46229179.61459574,
          42665374.107504345,
          46561852.08579667,
          42222634.31676198,
          47895374.99974173,
          59164668.99000822,
          46566074.541878715,
          47960008.88314147,
          46473273.24582655,
          44662229.37371564,
          43062780.17426044,
          44203154.42820937,
          49414331.76827614,
          45511012.29951276,
          48069479.70556837,
          45104419.11198469,
          50696240.359414086,
          61272673.51546994,
          48746295.94488403,
          50790251.05050004,
          49317035.93452391,
          46884532.57010613
         ]
        },
        {
         "marker": {
          "color": "rgba(152, 0, 0, .8)",
          "size": 15
         },
         "mode": "markers",
         "name": "Actual",
         "type": "scatter",
         "x": [
          "2007-01-01T00:00:00",
          "2007-02-01T00:00:00",
          "2007-03-01T00:00:00",
          "2007-04-01T00:00:00",
          "2007-05-01T00:00:00",
          "2007-06-01T00:00:00",
          "2007-07-01T00:00:00",
          "2007-08-01T00:00:00",
          "2007-09-01T00:00:00",
          "2007-10-01T00:00:00",
          "2007-11-01T00:00:00",
          "2007-12-01T00:00:00",
          "2008-01-01T00:00:00",
          "2008-02-01T00:00:00",
          "2008-03-01T00:00:00",
          "2008-04-01T00:00:00",
          "2008-05-01T00:00:00",
          "2008-06-01T00:00:00",
          "2008-07-01T00:00:00",
          "2008-08-01T00:00:00",
          "2008-09-01T00:00:00",
          "2008-10-01T00:00:00",
          "2008-11-01T00:00:00",
          "2008-12-01T00:00:00",
          "2009-01-01T00:00:00",
          "2009-02-01T00:00:00",
          "2009-03-01T00:00:00",
          "2009-04-01T00:00:00",
          "2009-05-01T00:00:00",
          "2009-06-01T00:00:00",
          "2009-07-01T00:00:00",
          "2009-08-01T00:00:00",
          "2009-09-01T00:00:00",
          "2009-10-01T00:00:00",
          "2009-11-01T00:00:00",
          "2009-12-01T00:00:00",
          "2010-01-01T00:00:00",
          "2010-02-01T00:00:00",
          "2010-03-01T00:00:00",
          "2010-04-01T00:00:00",
          "2010-05-01T00:00:00",
          "2010-06-01T00:00:00",
          "2010-07-01T00:00:00",
          "2010-08-01T00:00:00",
          "2010-09-01T00:00:00",
          "2010-10-01T00:00:00",
          "2010-11-01T00:00:00",
          "2010-12-01T00:00:00",
          "2011-01-01T00:00:00",
          "2011-02-01T00:00:00",
          "2011-03-01T00:00:00",
          "2011-04-01T00:00:00",
          "2011-05-01T00:00:00",
          "2011-06-01T00:00:00",
          "2011-07-01T00:00:00",
          "2011-08-01T00:00:00",
          "2011-09-01T00:00:00",
          "2011-10-01T00:00:00",
          "2011-11-01T00:00:00",
          "2011-12-01T00:00:00",
          "2012-01-01T00:00:00",
          "2012-02-01T00:00:00",
          "2012-03-01T00:00:00",
          "2012-04-01T00:00:00",
          "2012-05-01T00:00:00",
          "2012-06-01T00:00:00",
          "2012-07-01T00:00:00",
          "2012-08-01T00:00:00",
          "2012-09-01T00:00:00",
          "2012-10-01T00:00:00",
          "2012-11-01T00:00:00",
          "2012-12-01T00:00:00",
          "2013-01-01T00:00:00",
          "2013-02-01T00:00:00",
          "2013-03-01T00:00:00",
          "2013-04-01T00:00:00",
          "2013-05-01T00:00:00",
          "2013-06-01T00:00:00",
          "2013-07-01T00:00:00",
          "2013-08-01T00:00:00",
          "2013-09-01T00:00:00",
          "2013-10-01T00:00:00",
          "2013-11-01T00:00:00",
          "2013-12-01T00:00:00",
          "2014-01-01T00:00:00",
          "2014-02-01T00:00:00",
          "2014-03-01T00:00:00",
          "2014-04-01T00:00:00",
          "2014-05-01T00:00:00",
          "2014-06-01T00:00:00",
          "2014-07-01T00:00:00",
          "2014-08-01T00:00:00",
          "2014-09-01T00:00:00",
          "2014-10-01T00:00:00",
          "2014-11-01T00:00:00",
          "2014-12-01T00:00:00",
          "2015-01-01T00:00:00",
          "2015-02-01T00:00:00",
          "2015-03-01T00:00:00",
          "2015-04-01T00:00:00",
          "2015-05-01T00:00:00",
          "2015-06-01T00:00:00",
          "2015-07-01T00:00:00",
          "2015-08-01T00:00:00",
          "2015-09-01T00:00:00",
          "2015-10-01T00:00:00",
          "2015-11-01T00:00:00",
          "2015-12-01T00:00:00",
          "2016-01-01T00:00:00",
          "2016-02-01T00:00:00",
          "2016-03-01T00:00:00",
          "2016-04-01T00:00:00",
          "2016-05-01T00:00:00",
          "2016-06-01T00:00:00",
          "2016-07-01T00:00:00",
          "2016-08-01T00:00:00",
          "2016-09-01T00:00:00",
          "2016-10-01T00:00:00",
          "2016-11-01T00:00:00",
          "2016-12-01T00:00:00",
          "2017-01-01T00:00:00",
          "2017-02-01T00:00:00",
          "2017-03-01T00:00:00",
          "2017-04-01T00:00:00",
          "2017-05-01T00:00:00",
          "2017-06-01T00:00:00",
          "2017-07-01T00:00:00",
          "2017-08-01T00:00:00",
          "2017-09-01T00:00:00",
          "2017-10-01T00:00:00",
          "2017-11-01T00:00:00",
          "2017-12-01T00:00:00",
          "2018-01-01T00:00:00",
          "2018-02-01T00:00:00",
          "2018-03-01T00:00:00",
          "2018-04-01T00:00:00",
          "2018-05-01T00:00:00",
          "2018-06-01T00:00:00",
          "2018-07-01T00:00:00",
          "2018-08-01T00:00:00",
          "2018-09-01T00:00:00",
          "2018-10-01T00:00:00",
          "2018-11-01T00:00:00",
          "2018-12-01T00:00:00",
          "2019-01-01T00:00:00",
          "2019-02-01T00:00:00",
          "2019-03-01T00:00:00",
          "2019-04-01T00:00:00",
          "2019-05-01T00:00:00",
          "2019-06-01T00:00:00",
          "2019-07-01T00:00:00",
          "2019-08-01T00:00:00",
          "2019-09-01T00:00:00",
          "2019-10-01T00:00:00",
          "2019-11-01T00:00:00",
          "2019-12-01T00:00:00",
          "2020-01-01T00:00:00",
          "2020-02-01T00:00:00",
          "2020-03-01T00:00:00",
          "2020-04-01T00:00:00",
          "2020-05-01T00:00:00",
          "2020-06-01T00:00:00",
          "2020-07-01T00:00:00",
          "2020-08-01T00:00:00",
          "2020-09-01T00:00:00",
          "2020-10-01T00:00:00",
          "2020-11-01T00:00:00",
          "2020-12-01T00:00:00"
         ],
         "y": [
          22136270,
          23346870,
          26997200,
          23729790,
          25636730,
          23664790,
          25362320,
          33935790,
          25650700,
          27430380,
          27087720,
          24403230,
          22306990,
          23734590,
          27229850,
          23642670,
          26128970,
          23402130,
          26565860,
          33652720,
          24941780,
          27605970,
          26884920,
          23602270,
          22163460,
          21876640,
          26696910,
          22411430,
          24986700,
          21796450,
          25881320,
          33518780,
          26494950,
          26802430,
          25358690,
          23316180,
          25616100,
          26942150,
          32011530,
          26103230,
          29393060,
          25875740,
          29657850,
          38035730,
          28428580,
          30969410,
          28919630,
          26870300,
          30908870,
          32153660,
          29307160,
          26495230,
          33494550,
          30921510,
          38040000,
          51463750,
          36746100,
          38096640,
          35536100,
          34070880,
          30684990,
          31042820,
          37045370,
          33632400,
          36547550,
          32991930,
          38195680,
          52315150,
          36469720,
          38373530,
          37344940,
          34851030,
          31765400,
          33058660,
          39269910,
          35273920,
          38404260,
          34745730,
          41345880,
          55130150,
          39495220,
          40247870,
          40074090,
          37082290,
          33447100,
          32747070,
          40897640,
          35705590,
          39901790,
          35142960,
          41773170,
          54229010,
          39663260,
          41271550,
          40678140,
          38044680,
          35403320,
          36007880,
          42781050,
          37848950,
          42943170,
          37453870,
          44806790,
          56426530,
          44025610,
          44898650,
          41485070,
          39997480,
          35821190,
          36775420,
          42178210,
          38330190,
          40056510,
          36895570,
          44332270,
          54851290,
          40890550,
          43107390,
          39792340,
          39454220,
          36792560,
          36661700,
          43862830,
          39955140,
          43002660,
          38329850,
          45887250,
          56797700,
          42161920,
          43824150,
          42109900,
          40211200,
          37964420,
          38899650,
          45644860,
          42509270,
          44445160,
          41406270,
          47142860,
          59715640,
          44439890,
          46582920,
          45282650,
          43967910,
          42684710,
          43539370,
          51147600,
          50718730,
          51402690,
          45810390,
          51780530,
          63234040,
          48761240,
          50052850,
          49659370,
          47129960,
          43156910,
          37443380,
          23940920,
          9706670,
          7785180,
          14240840,
          21578040,
          26149030,
          26020820,
          32412890,
          34501310,
          27863790
         ]
        }
       ],
       "layout": {
        "font": {
         "size": 22
        },
        "height": 800,
        "template": {
         "data": {
          "bar": [
           {
            "error_x": {
             "color": "#2a3f5f"
            },
            "error_y": {
             "color": "#2a3f5f"
            },
            "marker": {
             "line": {
              "color": "#E5ECF6",
              "width": 0.5
             }
            },
            "type": "bar"
           }
          ],
          "barpolar": [
           {
            "marker": {
             "line": {
              "color": "#E5ECF6",
              "width": 0.5
             }
            },
            "type": "barpolar"
           }
          ],
          "carpet": [
           {
            "aaxis": {
             "endlinecolor": "#2a3f5f",
             "gridcolor": "white",
             "linecolor": "white",
             "minorgridcolor": "white",
             "startlinecolor": "#2a3f5f"
            },
            "baxis": {
             "endlinecolor": "#2a3f5f",
             "gridcolor": "white",
             "linecolor": "white",
             "minorgridcolor": "white",
             "startlinecolor": "#2a3f5f"
            },
            "type": "carpet"
           }
          ],
          "choropleth": [
           {
            "colorbar": {
             "outlinewidth": 0,
             "ticks": ""
            },
            "type": "choropleth"
           }
          ],
          "contour": [
           {
            "colorbar": {
             "outlinewidth": 0,
             "ticks": ""
            },
            "colorscale": [
             [
              0,
              "#0d0887"
             ],
             [
              0.1111111111111111,
              "#46039f"
             ],
             [
              0.2222222222222222,
              "#7201a8"
             ],
             [
              0.3333333333333333,
              "#9c179e"
             ],
             [
              0.4444444444444444,
              "#bd3786"
             ],
             [
              0.5555555555555556,
              "#d8576b"
             ],
             [
              0.6666666666666666,
              "#ed7953"
             ],
             [
              0.7777777777777778,
              "#fb9f3a"
             ],
             [
              0.8888888888888888,
              "#fdca26"
             ],
             [
              1,
              "#f0f921"
             ]
            ],
            "type": "contour"
           }
          ],
          "contourcarpet": [
           {
            "colorbar": {
             "outlinewidth": 0,
             "ticks": ""
            },
            "type": "contourcarpet"
           }
          ],
          "heatmap": [
           {
            "colorbar": {
             "outlinewidth": 0,
             "ticks": ""
            },
            "colorscale": [
             [
              0,
              "#0d0887"
             ],
             [
              0.1111111111111111,
              "#46039f"
             ],
             [
              0.2222222222222222,
              "#7201a8"
             ],
             [
              0.3333333333333333,
              "#9c179e"
             ],
             [
              0.4444444444444444,
              "#bd3786"
             ],
             [
              0.5555555555555556,
              "#d8576b"
             ],
             [
              0.6666666666666666,
              "#ed7953"
             ],
             [
              0.7777777777777778,
              "#fb9f3a"
             ],
             [
              0.8888888888888888,
              "#fdca26"
             ],
             [
              1,
              "#f0f921"
             ]
            ],
            "type": "heatmap"
           }
          ],
          "heatmapgl": [
           {
            "colorbar": {
             "outlinewidth": 0,
             "ticks": ""
            },
            "colorscale": [
             [
              0,
              "#0d0887"
             ],
             [
              0.1111111111111111,
              "#46039f"
             ],
             [
              0.2222222222222222,
              "#7201a8"
             ],
             [
              0.3333333333333333,
              "#9c179e"
             ],
             [
              0.4444444444444444,
              "#bd3786"
             ],
             [
              0.5555555555555556,
              "#d8576b"
             ],
             [
              0.6666666666666666,
              "#ed7953"
             ],
             [
              0.7777777777777778,
              "#fb9f3a"
             ],
             [
              0.8888888888888888,
              "#fdca26"
             ],
             [
              1,
              "#f0f921"
             ]
            ],
            "type": "heatmapgl"
           }
          ],
          "histogram": [
           {
            "marker": {
             "colorbar": {
              "outlinewidth": 0,
              "ticks": ""
             }
            },
            "type": "histogram"
           }
          ],
          "histogram2d": [
           {
            "colorbar": {
             "outlinewidth": 0,
             "ticks": ""
            },
            "colorscale": [
             [
              0,
              "#0d0887"
             ],
             [
              0.1111111111111111,
              "#46039f"
             ],
             [
              0.2222222222222222,
              "#7201a8"
             ],
             [
              0.3333333333333333,
              "#9c179e"
             ],
             [
              0.4444444444444444,
              "#bd3786"
             ],
             [
              0.5555555555555556,
              "#d8576b"
             ],
             [
              0.6666666666666666,
              "#ed7953"
             ],
             [
              0.7777777777777778,
              "#fb9f3a"
             ],
             [
              0.8888888888888888,
              "#fdca26"
             ],
             [
              1,
              "#f0f921"
             ]
            ],
            "type": "histogram2d"
           }
          ],
          "histogram2dcontour": [
           {
            "colorbar": {
             "outlinewidth": 0,
             "ticks": ""
            },
            "colorscale": [
             [
              0,
              "#0d0887"
             ],
             [
              0.1111111111111111,
              "#46039f"
             ],
             [
              0.2222222222222222,
              "#7201a8"
             ],
             [
              0.3333333333333333,
              "#9c179e"
             ],
             [
              0.4444444444444444,
              "#bd3786"
             ],
             [
              0.5555555555555556,
              "#d8576b"
             ],
             [
              0.6666666666666666,
              "#ed7953"
             ],
             [
              0.7777777777777778,
              "#fb9f3a"
             ],
             [
              0.8888888888888888,
              "#fdca26"
             ],
             [
              1,
              "#f0f921"
             ]
            ],
            "type": "histogram2dcontour"
           }
          ],
          "mesh3d": [
           {
            "colorbar": {
             "outlinewidth": 0,
             "ticks": ""
            },
            "type": "mesh3d"
           }
          ],
          "parcoords": [
           {
            "line": {
             "colorbar": {
              "outlinewidth": 0,
              "ticks": ""
             }
            },
            "type": "parcoords"
           }
          ],
          "pie": [
           {
            "automargin": true,
            "type": "pie"
           }
          ],
          "scatter": [
           {
            "marker": {
             "colorbar": {
              "outlinewidth": 0,
              "ticks": ""
             }
            },
            "type": "scatter"
           }
          ],
          "scatter3d": [
           {
            "line": {
             "colorbar": {
              "outlinewidth": 0,
              "ticks": ""
             }
            },
            "marker": {
             "colorbar": {
              "outlinewidth": 0,
              "ticks": ""
             }
            },
            "type": "scatter3d"
           }
          ],
          "scattercarpet": [
           {
            "marker": {
             "colorbar": {
              "outlinewidth": 0,
              "ticks": ""
             }
            },
            "type": "scattercarpet"
           }
          ],
          "scattergeo": [
           {
            "marker": {
             "colorbar": {
              "outlinewidth": 0,
              "ticks": ""
             }
            },
            "type": "scattergeo"
           }
          ],
          "scattergl": [
           {
            "marker": {
             "colorbar": {
              "outlinewidth": 0,
              "ticks": ""
             }
            },
            "type": "scattergl"
           }
          ],
          "scattermapbox": [
           {
            "marker": {
             "colorbar": {
              "outlinewidth": 0,
              "ticks": ""
             }
            },
            "type": "scattermapbox"
           }
          ],
          "scatterpolar": [
           {
            "marker": {
             "colorbar": {
              "outlinewidth": 0,
              "ticks": ""
             }
            },
            "type": "scatterpolar"
           }
          ],
          "scatterpolargl": [
           {
            "marker": {
             "colorbar": {
              "outlinewidth": 0,
              "ticks": ""
             }
            },
            "type": "scatterpolargl"
           }
          ],
          "scatterternary": [
           {
            "marker": {
             "colorbar": {
              "outlinewidth": 0,
              "ticks": ""
             }
            },
            "type": "scatterternary"
           }
          ],
          "surface": [
           {
            "colorbar": {
             "outlinewidth": 0,
             "ticks": ""
            },
            "colorscale": [
             [
              0,
              "#0d0887"
             ],
             [
              0.1111111111111111,
              "#46039f"
             ],
             [
              0.2222222222222222,
              "#7201a8"
             ],
             [
              0.3333333333333333,
              "#9c179e"
             ],
             [
              0.4444444444444444,
              "#bd3786"
             ],
             [
              0.5555555555555556,
              "#d8576b"
             ],
             [
              0.6666666666666666,
              "#ed7953"
             ],
             [
              0.7777777777777778,
              "#fb9f3a"
             ],
             [
              0.8888888888888888,
              "#fdca26"
             ],
             [
              1,
              "#f0f921"
             ]
            ],
            "type": "surface"
           }
          ],
          "table": [
           {
            "cells": {
             "fill": {
              "color": "#EBF0F8"
             },
             "line": {
              "color": "white"
             }
            },
            "header": {
             "fill": {
              "color": "#C8D4E3"
             },
             "line": {
              "color": "white"
             }
            },
            "type": "table"
           }
          ]
         },
         "layout": {
          "annotationdefaults": {
           "arrowcolor": "#2a3f5f",
           "arrowhead": 0,
           "arrowwidth": 1
          },
          "autotypenumbers": "strict",
          "coloraxis": {
           "colorbar": {
            "outlinewidth": 0,
            "ticks": ""
           }
          },
          "colorscale": {
           "diverging": [
            [
             0,
             "#8e0152"
            ],
            [
             0.1,
             "#c51b7d"
            ],
            [
             0.2,
             "#de77ae"
            ],
            [
             0.3,
             "#f1b6da"
            ],
            [
             0.4,
             "#fde0ef"
            ],
            [
             0.5,
             "#f7f7f7"
            ],
            [
             0.6,
             "#e6f5d0"
            ],
            [
             0.7,
             "#b8e186"
            ],
            [
             0.8,
             "#7fbc41"
            ],
            [
             0.9,
             "#4d9221"
            ],
            [
             1,
             "#276419"
            ]
           ],
           "sequential": [
            [
             0,
             "#0d0887"
            ],
            [
             0.1111111111111111,
             "#46039f"
            ],
            [
             0.2222222222222222,
             "#7201a8"
            ],
            [
             0.3333333333333333,
             "#9c179e"
            ],
            [
             0.4444444444444444,
             "#bd3786"
            ],
            [
             0.5555555555555556,
             "#d8576b"
            ],
            [
             0.6666666666666666,
             "#ed7953"
            ],
            [
             0.7777777777777778,
             "#fb9f3a"
            ],
            [
             0.8888888888888888,
             "#fdca26"
            ],
            [
             1,
             "#f0f921"
            ]
           ],
           "sequentialminus": [
            [
             0,
             "#0d0887"
            ],
            [
             0.1111111111111111,
             "#46039f"
            ],
            [
             0.2222222222222222,
             "#7201a8"
            ],
            [
             0.3333333333333333,
             "#9c179e"
            ],
            [
             0.4444444444444444,
             "#bd3786"
            ],
            [
             0.5555555555555556,
             "#d8576b"
            ],
            [
             0.6666666666666666,
             "#ed7953"
            ],
            [
             0.7777777777777778,
             "#fb9f3a"
            ],
            [
             0.8888888888888888,
             "#fdca26"
            ],
            [
             1,
             "#f0f921"
            ]
           ]
          },
          "colorway": [
           "#636efa",
           "#EF553B",
           "#00cc96",
           "#ab63fa",
           "#FFA15A",
           "#19d3f3",
           "#FF6692",
           "#B6E880",
           "#FF97FF",
           "#FECB52"
          ],
          "font": {
           "color": "#2a3f5f"
          },
          "geo": {
           "bgcolor": "white",
           "lakecolor": "white",
           "landcolor": "#E5ECF6",
           "showlakes": true,
           "showland": true,
           "subunitcolor": "white"
          },
          "hoverlabel": {
           "align": "left"
          },
          "hovermode": "closest",
          "mapbox": {
           "style": "light"
          },
          "paper_bgcolor": "white",
          "plot_bgcolor": "#E5ECF6",
          "polar": {
           "angularaxis": {
            "gridcolor": "white",
            "linecolor": "white",
            "ticks": ""
           },
           "bgcolor": "#E5ECF6",
           "radialaxis": {
            "gridcolor": "white",
            "linecolor": "white",
            "ticks": ""
           }
          },
          "scene": {
           "xaxis": {
            "backgroundcolor": "#E5ECF6",
            "gridcolor": "white",
            "gridwidth": 2,
            "linecolor": "white",
            "showbackground": true,
            "ticks": "",
            "zerolinecolor": "white"
           },
           "yaxis": {
            "backgroundcolor": "#E5ECF6",
            "gridcolor": "white",
            "gridwidth": 2,
            "linecolor": "white",
            "showbackground": true,
            "ticks": "",
            "zerolinecolor": "white"
           },
           "zaxis": {
            "backgroundcolor": "#E5ECF6",
            "gridcolor": "white",
            "gridwidth": 2,
            "linecolor": "white",
            "showbackground": true,
            "ticks": "",
            "zerolinecolor": "white"
           }
          },
          "shapedefaults": {
           "line": {
            "color": "#2a3f5f"
           }
          },
          "ternary": {
           "aaxis": {
            "gridcolor": "white",
            "linecolor": "white",
            "ticks": ""
           },
           "baxis": {
            "gridcolor": "white",
            "linecolor": "white",
            "ticks": ""
           },
           "bgcolor": "#E5ECF6",
           "caxis": {
            "gridcolor": "white",
            "linecolor": "white",
            "ticks": ""
           }
          },
          "title": {
           "x": 0.05
          },
          "xaxis": {
           "automargin": true,
           "gridcolor": "white",
           "linecolor": "white",
           "ticks": "",
           "title": {
            "standoff": 15
           },
           "zerolinecolor": "white",
           "zerolinewidth": 2
          },
          "yaxis": {
           "automargin": true,
           "gridcolor": "white",
           "linecolor": "white",
           "ticks": "",
           "title": {
            "standoff": 15
           },
           "zerolinecolor": "white",
           "zerolinewidth": 2
          }
         }
        },
        "title": {
         "text": "Accomodation counts in Japan between 2007 and 2020"
        },
        "width": 1600,
        "xaxis": {
         "anchor": "y",
         "domain": [
          0,
          1
         ],
         "title": {
          "text": "Time"
         }
        },
        "yaxis": {
         "anchor": "x",
         "domain": [
          0,
          1
         ],
         "title": {
          "text": "Accomodations"
         }
        }
       }
      }
     },
     "metadata": {}
    }
   ],
   "source": [
    "fig_1 = plot_prophet(prophet_japan, prediction, \"Accomodation counts in Japan between 2007 and 2020\")\n",
    "fig_1.show()"
   ]
  },
  {
   "cell_type": "code",
   "execution_count": 72,
   "metadata": {},
   "outputs": [],
   "source": [
    "def potential_loss(prediction, actual, time):\n",
    "    temp_df = prediction[prediction[\"ds\"] >= time][[\"ds\", \"yhat\"]]\n",
    "    temp_df = temp_df.merge(prophet_japan[prophet_japan[\"ds\"] >= time][[\"ds\", \"y\"]], left_on=\"ds\", right_on=\"ds\")\n",
    "    temp_df[\"diff\"] = temp_df[\"yhat\"] - temp_df[\"y\"]\n",
    "\n",
    "    return temp_df[\"diff\"].sum()"
   ]
  },
  {
   "cell_type": "code",
   "execution_count": 73,
   "metadata": {},
   "outputs": [
    {
     "output_type": "execute_result",
     "data": {
      "text/plain": [
       "303995427.9224303"
      ]
     },
     "metadata": {},
     "execution_count": 73
    }
   ],
   "source": [
    "\n",
    "potential_loss(prediction, prophet_japan, \"2020-02-01\")"
   ]
  },
  {
   "cell_type": "code",
   "execution_count": null,
   "metadata": {},
   "outputs": [],
   "source": []
  }
 ]
}