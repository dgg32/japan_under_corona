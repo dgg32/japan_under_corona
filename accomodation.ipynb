{
 "metadata": {
  "language_info": {
   "codemirror_mode": {
    "name": "ipython",
    "version": 3
   },
   "file_extension": ".py",
   "mimetype": "text/x-python",
   "name": "python",
   "nbconvert_exporter": "python",
   "pygments_lexer": "ipython3",
   "version": "3.8.5"
  },
  "orig_nbformat": 2,
  "kernelspec": {
   "name": "python385jvsc74a57bd0cd63dba880c571b4c91fd4fc7331fa48e03d28d6ba07eb0708ec7ed3d4d9624a",
   "display_name": "Python 3.8.5 64-bit ('base': conda)"
  }
 },
 "nbformat": 4,
 "nbformat_minor": 2,
 "cells": [
  {
   "cell_type": "code",
   "execution_count": 3,
   "metadata": {},
   "outputs": [],
   "source": [
    "import pandas as pd\n",
    "import numpy as np\n",
    "\n",
    "from prophet import Prophet\n",
    "import matplotlib.pyplot as plt \n",
    "import plotly.graph_objects as go\n",
    "from plotly.subplots import make_subplots"
   ]
  },
  {
   "cell_type": "code",
   "execution_count": 189,
   "metadata": {},
   "outputs": [],
   "source": [
    "accomodation = pd.read_csv(\"accomodation_data.csv\")\n",
    "prefectures = pd.read_csv(\"Prefecture_Japanese_Area.tsv\", sep=\"\\t\", thousands=\",\")"
   ]
  },
  {
   "cell_type": "code",
   "execution_count": 1,
   "metadata": {},
   "outputs": [
    {
     "output_type": "error",
     "ename": "NameError",
     "evalue": "name 'accomodation' is not defined",
     "traceback": [
      "\u001b[0;31m---------------------------------------------------------------------------\u001b[0m",
      "\u001b[0;31mNameError\u001b[0m                                 Traceback (most recent call last)",
      "\u001b[0;32m<ipython-input-1-7700a8e3109e>\u001b[0m in \u001b[0;36m<module>\u001b[0;34m\u001b[0m\n\u001b[0;32m----> 1\u001b[0;31m \u001b[0maccomodation\u001b[0m\u001b[0;34m.\u001b[0m\u001b[0mhead\u001b[0m\u001b[0;34m(\u001b[0m\u001b[0;34m)\u001b[0m\u001b[0;34m\u001b[0m\u001b[0;34m\u001b[0m\u001b[0m\n\u001b[0m",
      "\u001b[0;31mNameError\u001b[0m: name 'accomodation' is not defined"
     ]
    }
   ],
   "source": [
    "accomodation.head()"
   ]
  },
  {
   "cell_type": "code",
   "execution_count": 191,
   "metadata": {},
   "outputs": [],
   "source": [
    "accomodation.drop([\"地域コード\", \"注記\"], inplace=True, axis=1)\n",
    "accomodation.rename(columns = {\"時点\": \"time\", \"地域\": \"location\", \"延べ宿泊者数（総数）【人泊】\": \"accomodations\"}, inplace=True)"
   ]
  },
  {
   "cell_type": "code",
   "execution_count": 192,
   "metadata": {},
   "outputs": [
    {
     "output_type": "execute_result",
     "data": {
      "text/plain": [
       "      time location  accomodations\n",
       "0  2007年1月       全国       22136270\n",
       "1  2007年2月       全国       23346870\n",
       "2  2007年3月       全国       26997200\n",
       "3  2007年4月       全国       23729790\n",
       "4  2007年5月       全国       25636730"
      ],
      "text/html": "<div>\n<style scoped>\n    .dataframe tbody tr th:only-of-type {\n        vertical-align: middle;\n    }\n\n    .dataframe tbody tr th {\n        vertical-align: top;\n    }\n\n    .dataframe thead th {\n        text-align: right;\n    }\n</style>\n<table border=\"1\" class=\"dataframe\">\n  <thead>\n    <tr style=\"text-align: right;\">\n      <th></th>\n      <th>time</th>\n      <th>location</th>\n      <th>accomodations</th>\n    </tr>\n  </thead>\n  <tbody>\n    <tr>\n      <th>0</th>\n      <td>2007年1月</td>\n      <td>全国</td>\n      <td>22136270</td>\n    </tr>\n    <tr>\n      <th>1</th>\n      <td>2007年2月</td>\n      <td>全国</td>\n      <td>23346870</td>\n    </tr>\n    <tr>\n      <th>2</th>\n      <td>2007年3月</td>\n      <td>全国</td>\n      <td>26997200</td>\n    </tr>\n    <tr>\n      <th>3</th>\n      <td>2007年4月</td>\n      <td>全国</td>\n      <td>23729790</td>\n    </tr>\n    <tr>\n      <th>4</th>\n      <td>2007年5月</td>\n      <td>全国</td>\n      <td>25636730</td>\n    </tr>\n  </tbody>\n</table>\n</div>"
     },
     "metadata": {},
     "execution_count": 192
    }
   ],
   "source": [
    "accomodation.head()"
   ]
  },
  {
   "cell_type": "code",
   "execution_count": 193,
   "metadata": {},
   "outputs": [],
   "source": [
    "accomodation[\"time\"] = accomodation[\"time\"].str.replace('年','-').str.replace('月','')\n",
    "accomodation = accomodation[~accomodation[\"time\"].str.endswith(\"-\")]\n",
    "accomodation[\"time\"] = pd.to_datetime(accomodation[\"time\"].str.replace('年','-').str.replace('月',''), format='%Y-%m') "
   ]
  },
  {
   "cell_type": "code",
   "execution_count": 194,
   "metadata": {},
   "outputs": [
    {
     "output_type": "execute_result",
     "data": {
      "text/plain": [
       "           time location  accomodations\n",
       "0    2007-01-01       全国       22136270\n",
       "1    2007-02-01       全国       23346870\n",
       "2    2007-03-01       全国       26997200\n",
       "3    2007-04-01       全国       23729790\n",
       "4    2007-05-01       全国       25636730\n",
       "...         ...      ...            ...\n",
       "8059 2020-08-01      沖縄県         849500\n",
       "8060 2020-09-01      沖縄県         884730\n",
       "8061 2020-10-01      沖縄県        1285240\n",
       "8062 2020-11-01      沖縄県        1415910\n",
       "8063 2020-12-01      沖縄県        1147150\n",
       "\n",
       "[8064 rows x 3 columns]"
      ],
      "text/html": "<div>\n<style scoped>\n    .dataframe tbody tr th:only-of-type {\n        vertical-align: middle;\n    }\n\n    .dataframe tbody tr th {\n        vertical-align: top;\n    }\n\n    .dataframe thead th {\n        text-align: right;\n    }\n</style>\n<table border=\"1\" class=\"dataframe\">\n  <thead>\n    <tr style=\"text-align: right;\">\n      <th></th>\n      <th>time</th>\n      <th>location</th>\n      <th>accomodations</th>\n    </tr>\n  </thead>\n  <tbody>\n    <tr>\n      <th>0</th>\n      <td>2007-01-01</td>\n      <td>全国</td>\n      <td>22136270</td>\n    </tr>\n    <tr>\n      <th>1</th>\n      <td>2007-02-01</td>\n      <td>全国</td>\n      <td>23346870</td>\n    </tr>\n    <tr>\n      <th>2</th>\n      <td>2007-03-01</td>\n      <td>全国</td>\n      <td>26997200</td>\n    </tr>\n    <tr>\n      <th>3</th>\n      <td>2007-04-01</td>\n      <td>全国</td>\n      <td>23729790</td>\n    </tr>\n    <tr>\n      <th>4</th>\n      <td>2007-05-01</td>\n      <td>全国</td>\n      <td>25636730</td>\n    </tr>\n    <tr>\n      <th>...</th>\n      <td>...</td>\n      <td>...</td>\n      <td>...</td>\n    </tr>\n    <tr>\n      <th>8059</th>\n      <td>2020-08-01</td>\n      <td>沖縄県</td>\n      <td>849500</td>\n    </tr>\n    <tr>\n      <th>8060</th>\n      <td>2020-09-01</td>\n      <td>沖縄県</td>\n      <td>884730</td>\n    </tr>\n    <tr>\n      <th>8061</th>\n      <td>2020-10-01</td>\n      <td>沖縄県</td>\n      <td>1285240</td>\n    </tr>\n    <tr>\n      <th>8062</th>\n      <td>2020-11-01</td>\n      <td>沖縄県</td>\n      <td>1415910</td>\n    </tr>\n    <tr>\n      <th>8063</th>\n      <td>2020-12-01</td>\n      <td>沖縄県</td>\n      <td>1147150</td>\n    </tr>\n  </tbody>\n</table>\n<p>8064 rows × 3 columns</p>\n</div>"
     },
     "metadata": {},
     "execution_count": 194
    }
   ],
   "source": [
    "accomodation"
   ]
  },
  {
   "cell_type": "code",
   "execution_count": 195,
   "metadata": {},
   "outputs": [
    {
     "output_type": "execute_result",
     "data": {
      "text/plain": [
       "  Prefecture Japanese      Area\n",
       "0      Aichi      愛知県   5153.81\n",
       "1      Akita      秋田県  11612.11\n",
       "2     Aomori      青森県   9606.26\n",
       "3      Chiba      千葉県   5156.15\n",
       "4      Ehime      愛媛県   5676.44"
      ],
      "text/html": "<div>\n<style scoped>\n    .dataframe tbody tr th:only-of-type {\n        vertical-align: middle;\n    }\n\n    .dataframe tbody tr th {\n        vertical-align: top;\n    }\n\n    .dataframe thead th {\n        text-align: right;\n    }\n</style>\n<table border=\"1\" class=\"dataframe\">\n  <thead>\n    <tr style=\"text-align: right;\">\n      <th></th>\n      <th>Prefecture</th>\n      <th>Japanese</th>\n      <th>Area</th>\n    </tr>\n  </thead>\n  <tbody>\n    <tr>\n      <th>0</th>\n      <td>Aichi</td>\n      <td>愛知県</td>\n      <td>5153.81</td>\n    </tr>\n    <tr>\n      <th>1</th>\n      <td>Akita</td>\n      <td>秋田県</td>\n      <td>11612.11</td>\n    </tr>\n    <tr>\n      <th>2</th>\n      <td>Aomori</td>\n      <td>青森県</td>\n      <td>9606.26</td>\n    </tr>\n    <tr>\n      <th>3</th>\n      <td>Chiba</td>\n      <td>千葉県</td>\n      <td>5156.15</td>\n    </tr>\n    <tr>\n      <th>4</th>\n      <td>Ehime</td>\n      <td>愛媛県</td>\n      <td>5676.44</td>\n    </tr>\n  </tbody>\n</table>\n</div>"
     },
     "metadata": {},
     "execution_count": 195
    }
   ],
   "source": [
    "prefectures.head()"
   ]
  },
  {
   "cell_type": "code",
   "execution_count": 196,
   "metadata": {},
   "outputs": [],
   "source": [
    "assert(set(accomodation.location.to_list()) == set(prefectures.Japanese.to_list()))"
   ]
  },
  {
   "cell_type": "code",
   "execution_count": 197,
   "metadata": {},
   "outputs": [],
   "source": [
    "accomodation = accomodation.merge(prefectures, left_on=\"location\", right_on=\"Japanese\")"
   ]
  },
  {
   "cell_type": "code",
   "execution_count": 198,
   "metadata": {},
   "outputs": [
    {
     "output_type": "execute_result",
     "data": {
      "text/plain": [
       "        time location  accomodations Prefecture Japanese      Area\n",
       "0 2007-01-01       全国       22136270      Japan       全国  377915.0\n",
       "1 2007-02-01       全国       23346870      Japan       全国  377915.0\n",
       "2 2007-03-01       全国       26997200      Japan       全国  377915.0\n",
       "3 2007-04-01       全国       23729790      Japan       全国  377915.0\n",
       "4 2007-05-01       全国       25636730      Japan       全国  377915.0"
      ],
      "text/html": "<div>\n<style scoped>\n    .dataframe tbody tr th:only-of-type {\n        vertical-align: middle;\n    }\n\n    .dataframe tbody tr th {\n        vertical-align: top;\n    }\n\n    .dataframe thead th {\n        text-align: right;\n    }\n</style>\n<table border=\"1\" class=\"dataframe\">\n  <thead>\n    <tr style=\"text-align: right;\">\n      <th></th>\n      <th>time</th>\n      <th>location</th>\n      <th>accomodations</th>\n      <th>Prefecture</th>\n      <th>Japanese</th>\n      <th>Area</th>\n    </tr>\n  </thead>\n  <tbody>\n    <tr>\n      <th>0</th>\n      <td>2007-01-01</td>\n      <td>全国</td>\n      <td>22136270</td>\n      <td>Japan</td>\n      <td>全国</td>\n      <td>377915.0</td>\n    </tr>\n    <tr>\n      <th>1</th>\n      <td>2007-02-01</td>\n      <td>全国</td>\n      <td>23346870</td>\n      <td>Japan</td>\n      <td>全国</td>\n      <td>377915.0</td>\n    </tr>\n    <tr>\n      <th>2</th>\n      <td>2007-03-01</td>\n      <td>全国</td>\n      <td>26997200</td>\n      <td>Japan</td>\n      <td>全国</td>\n      <td>377915.0</td>\n    </tr>\n    <tr>\n      <th>3</th>\n      <td>2007-04-01</td>\n      <td>全国</td>\n      <td>23729790</td>\n      <td>Japan</td>\n      <td>全国</td>\n      <td>377915.0</td>\n    </tr>\n    <tr>\n      <th>4</th>\n      <td>2007-05-01</td>\n      <td>全国</td>\n      <td>25636730</td>\n      <td>Japan</td>\n      <td>全国</td>\n      <td>377915.0</td>\n    </tr>\n  </tbody>\n</table>\n</div>"
     },
     "metadata": {},
     "execution_count": 198
    }
   ],
   "source": [
    "accomodation.head()"
   ]
  },
  {
   "cell_type": "code",
   "execution_count": 199,
   "metadata": {},
   "outputs": [],
   "source": [
    "accomodation.drop([\"location\", \"Japanese\"], axis=1, inplace=True)\n",
    "accomodation.rename(columns = {\"Prefecture\": \"location\"}, inplace=True)"
   ]
  },
  {
   "cell_type": "code",
   "execution_count": 200,
   "metadata": {},
   "outputs": [],
   "source": [
    "accomodation.to_csv(\"accomodation_processed.tsv\", sep=\"\\t\", index=False)"
   ]
  },
  {
   "cell_type": "code",
   "execution_count": 4,
   "metadata": {},
   "outputs": [],
   "source": [
    "accomodation = pd.read_csv(\"accomodation_processed.tsv\", sep=\"\\t\")"
   ]
  },
  {
   "cell_type": "code",
   "execution_count": 5,
   "metadata": {},
   "outputs": [
    {
     "output_type": "execute_result",
     "data": {
      "text/plain": [
       "         time  accomodations location      Area\n",
       "0  2007-01-01       22136270    Japan  377915.0\n",
       "1  2007-02-01       23346870    Japan  377915.0\n",
       "2  2007-03-01       26997200    Japan  377915.0\n",
       "3  2007-04-01       23729790    Japan  377915.0\n",
       "4  2007-05-01       25636730    Japan  377915.0"
      ],
      "text/html": "<div>\n<style scoped>\n    .dataframe tbody tr th:only-of-type {\n        vertical-align: middle;\n    }\n\n    .dataframe tbody tr th {\n        vertical-align: top;\n    }\n\n    .dataframe thead th {\n        text-align: right;\n    }\n</style>\n<table border=\"1\" class=\"dataframe\">\n  <thead>\n    <tr style=\"text-align: right;\">\n      <th></th>\n      <th>time</th>\n      <th>accomodations</th>\n      <th>location</th>\n      <th>Area</th>\n    </tr>\n  </thead>\n  <tbody>\n    <tr>\n      <th>0</th>\n      <td>2007-01-01</td>\n      <td>22136270</td>\n      <td>Japan</td>\n      <td>377915.0</td>\n    </tr>\n    <tr>\n      <th>1</th>\n      <td>2007-02-01</td>\n      <td>23346870</td>\n      <td>Japan</td>\n      <td>377915.0</td>\n    </tr>\n    <tr>\n      <th>2</th>\n      <td>2007-03-01</td>\n      <td>26997200</td>\n      <td>Japan</td>\n      <td>377915.0</td>\n    </tr>\n    <tr>\n      <th>3</th>\n      <td>2007-04-01</td>\n      <td>23729790</td>\n      <td>Japan</td>\n      <td>377915.0</td>\n    </tr>\n    <tr>\n      <th>4</th>\n      <td>2007-05-01</td>\n      <td>25636730</td>\n      <td>Japan</td>\n      <td>377915.0</td>\n    </tr>\n  </tbody>\n</table>\n</div>"
     },
     "metadata": {},
     "execution_count": 5
    }
   ],
   "source": [
    "accomodation.head()"
   ]
  },
  {
   "cell_type": "code",
   "execution_count": 6,
   "metadata": {},
   "outputs": [],
   "source": [
    "prophet_japan = accomodation[accomodation[\"location\"] == \"Japan\"][[\"time\", \"accomodations\"]]\n",
    "prophet_japan.columns = [\"ds\", \"y\"]\n",
    "prophet_japan[\"ds\"] = pd.to_datetime(prophet_japan[\"ds\"])"
   ]
  },
  {
   "cell_type": "code",
   "execution_count": 7,
   "metadata": {},
   "outputs": [
    {
     "output_type": "execute_result",
     "data": {
      "text/plain": [
       "            ds         y\n",
       "0   2007-01-01  22136270\n",
       "1   2007-02-01  23346870\n",
       "2   2007-03-01  26997200\n",
       "3   2007-04-01  23729790\n",
       "4   2007-05-01  25636730\n",
       "..         ...       ...\n",
       "163 2020-08-01  26149030\n",
       "164 2020-09-01  26020820\n",
       "165 2020-10-01  32412890\n",
       "166 2020-11-01  34501310\n",
       "167 2020-12-01  27863790\n",
       "\n",
       "[168 rows x 2 columns]"
      ],
      "text/html": "<div>\n<style scoped>\n    .dataframe tbody tr th:only-of-type {\n        vertical-align: middle;\n    }\n\n    .dataframe tbody tr th {\n        vertical-align: top;\n    }\n\n    .dataframe thead th {\n        text-align: right;\n    }\n</style>\n<table border=\"1\" class=\"dataframe\">\n  <thead>\n    <tr style=\"text-align: right;\">\n      <th></th>\n      <th>ds</th>\n      <th>y</th>\n    </tr>\n  </thead>\n  <tbody>\n    <tr>\n      <th>0</th>\n      <td>2007-01-01</td>\n      <td>22136270</td>\n    </tr>\n    <tr>\n      <th>1</th>\n      <td>2007-02-01</td>\n      <td>23346870</td>\n    </tr>\n    <tr>\n      <th>2</th>\n      <td>2007-03-01</td>\n      <td>26997200</td>\n    </tr>\n    <tr>\n      <th>3</th>\n      <td>2007-04-01</td>\n      <td>23729790</td>\n    </tr>\n    <tr>\n      <th>4</th>\n      <td>2007-05-01</td>\n      <td>25636730</td>\n    </tr>\n    <tr>\n      <th>...</th>\n      <td>...</td>\n      <td>...</td>\n    </tr>\n    <tr>\n      <th>163</th>\n      <td>2020-08-01</td>\n      <td>26149030</td>\n    </tr>\n    <tr>\n      <th>164</th>\n      <td>2020-09-01</td>\n      <td>26020820</td>\n    </tr>\n    <tr>\n      <th>165</th>\n      <td>2020-10-01</td>\n      <td>32412890</td>\n    </tr>\n    <tr>\n      <th>166</th>\n      <td>2020-11-01</td>\n      <td>34501310</td>\n    </tr>\n    <tr>\n      <th>167</th>\n      <td>2020-12-01</td>\n      <td>27863790</td>\n    </tr>\n  </tbody>\n</table>\n<p>168 rows × 2 columns</p>\n</div>"
     },
     "metadata": {},
     "execution_count": 7
    }
   ],
   "source": [
    "prophet_japan"
   ]
  },
  {
   "cell_type": "code",
   "execution_count": 9,
   "metadata": {},
   "outputs": [],
   "source": [
    "prophet_japan_2020 = prophet_japan[(prophet_japan[\"ds\"] >= \"2020-01-01\")]\n",
    "prophet_japan_before_2020 = prophet_japan[(prophet_japan[\"ds\"] < \"2020-01-01\")]"
   ]
  },
  {
   "cell_type": "code",
   "execution_count": 10,
   "metadata": {},
   "outputs": [
    {
     "output_type": "stream",
     "name": "stderr",
     "text": [
      "INFO:numexpr.utils:NumExpr defaulting to 8 threads.\n",
      "INFO:prophet:Disabling weekly seasonality. Run prophet with weekly_seasonality=True to override this.\n",
      "INFO:prophet:Disabling daily seasonality. Run prophet with daily_seasonality=True to override this.\n"
     ]
    }
   ],
   "source": [
    "m_japan = Prophet()\n",
    "m_japan.fit(prophet_japan_before_2020)\n",
    "future = pd.DataFrame(prophet_japan[\"ds\"], columns=[\"ds\"])\n",
    "prediction = m_japan.predict(future)"
   ]
  },
  {
   "cell_type": "code",
   "execution_count": 11,
   "metadata": {},
   "outputs": [
    {
     "output_type": "execute_result",
     "data": {
      "text/plain": [
       "            ds         trend    yhat_lower    yhat_upper   trend_lower  \\\n",
       "163 2020-08-01  5.152155e+07  6.156378e+07  6.607738e+07  5.135923e+07   \n",
       "164 2020-09-01  5.173940e+07  4.908141e+07  5.351328e+07  5.154156e+07   \n",
       "165 2020-10-01  5.195022e+07  5.105826e+07  5.531156e+07  5.171768e+07   \n",
       "166 2020-11-01  5.216807e+07  4.952513e+07  5.413785e+07  5.190035e+07   \n",
       "167 2020-12-01  5.237889e+07  4.735067e+07  5.180434e+07  5.206851e+07   \n",
       "\n",
       "      trend_upper  additive_terms  additive_terms_lower  additive_terms_upper  \\\n",
       "163  5.167865e+07    1.235381e+07          1.235381e+07          1.235381e+07   \n",
       "164  5.194701e+07   -5.163136e+05         -5.163136e+05         -5.163136e+05   \n",
       "165  5.220564e+07    1.205144e+06          1.205144e+06          1.205144e+06   \n",
       "166  5.246141e+07   -4.331488e+05         -4.331488e+05         -4.331488e+05   \n",
       "167  5.271028e+07   -2.854831e+06         -2.854831e+06         -2.854831e+06   \n",
       "\n",
       "           yearly  yearly_lower  yearly_upper  multiplicative_terms  \\\n",
       "163  1.235381e+07  1.235381e+07  1.235381e+07                   0.0   \n",
       "164 -5.163136e+05 -5.163136e+05 -5.163136e+05                   0.0   \n",
       "165  1.205144e+06  1.205144e+06  1.205144e+06                   0.0   \n",
       "166 -4.331488e+05 -4.331488e+05 -4.331488e+05                   0.0   \n",
       "167 -2.854831e+06 -2.854831e+06 -2.854831e+06                   0.0   \n",
       "\n",
       "     multiplicative_terms_lower  multiplicative_terms_upper          yhat  \n",
       "163                         0.0                         0.0  6.387536e+07  \n",
       "164                         0.0                         0.0  5.122309e+07  \n",
       "165                         0.0                         0.0  5.315536e+07  \n",
       "166                         0.0                         0.0  5.173492e+07  \n",
       "167                         0.0                         0.0  4.952406e+07  "
      ],
      "text/html": "<div>\n<style scoped>\n    .dataframe tbody tr th:only-of-type {\n        vertical-align: middle;\n    }\n\n    .dataframe tbody tr th {\n        vertical-align: top;\n    }\n\n    .dataframe thead th {\n        text-align: right;\n    }\n</style>\n<table border=\"1\" class=\"dataframe\">\n  <thead>\n    <tr style=\"text-align: right;\">\n      <th></th>\n      <th>ds</th>\n      <th>trend</th>\n      <th>yhat_lower</th>\n      <th>yhat_upper</th>\n      <th>trend_lower</th>\n      <th>trend_upper</th>\n      <th>additive_terms</th>\n      <th>additive_terms_lower</th>\n      <th>additive_terms_upper</th>\n      <th>yearly</th>\n      <th>yearly_lower</th>\n      <th>yearly_upper</th>\n      <th>multiplicative_terms</th>\n      <th>multiplicative_terms_lower</th>\n      <th>multiplicative_terms_upper</th>\n      <th>yhat</th>\n    </tr>\n  </thead>\n  <tbody>\n    <tr>\n      <th>163</th>\n      <td>2020-08-01</td>\n      <td>5.152155e+07</td>\n      <td>6.156378e+07</td>\n      <td>6.607738e+07</td>\n      <td>5.135923e+07</td>\n      <td>5.167865e+07</td>\n      <td>1.235381e+07</td>\n      <td>1.235381e+07</td>\n      <td>1.235381e+07</td>\n      <td>1.235381e+07</td>\n      <td>1.235381e+07</td>\n      <td>1.235381e+07</td>\n      <td>0.0</td>\n      <td>0.0</td>\n      <td>0.0</td>\n      <td>6.387536e+07</td>\n    </tr>\n    <tr>\n      <th>164</th>\n      <td>2020-09-01</td>\n      <td>5.173940e+07</td>\n      <td>4.908141e+07</td>\n      <td>5.351328e+07</td>\n      <td>5.154156e+07</td>\n      <td>5.194701e+07</td>\n      <td>-5.163136e+05</td>\n      <td>-5.163136e+05</td>\n      <td>-5.163136e+05</td>\n      <td>-5.163136e+05</td>\n      <td>-5.163136e+05</td>\n      <td>-5.163136e+05</td>\n      <td>0.0</td>\n      <td>0.0</td>\n      <td>0.0</td>\n      <td>5.122309e+07</td>\n    </tr>\n    <tr>\n      <th>165</th>\n      <td>2020-10-01</td>\n      <td>5.195022e+07</td>\n      <td>5.105826e+07</td>\n      <td>5.531156e+07</td>\n      <td>5.171768e+07</td>\n      <td>5.220564e+07</td>\n      <td>1.205144e+06</td>\n      <td>1.205144e+06</td>\n      <td>1.205144e+06</td>\n      <td>1.205144e+06</td>\n      <td>1.205144e+06</td>\n      <td>1.205144e+06</td>\n      <td>0.0</td>\n      <td>0.0</td>\n      <td>0.0</td>\n      <td>5.315536e+07</td>\n    </tr>\n    <tr>\n      <th>166</th>\n      <td>2020-11-01</td>\n      <td>5.216807e+07</td>\n      <td>4.952513e+07</td>\n      <td>5.413785e+07</td>\n      <td>5.190035e+07</td>\n      <td>5.246141e+07</td>\n      <td>-4.331488e+05</td>\n      <td>-4.331488e+05</td>\n      <td>-4.331488e+05</td>\n      <td>-4.331488e+05</td>\n      <td>-4.331488e+05</td>\n      <td>-4.331488e+05</td>\n      <td>0.0</td>\n      <td>0.0</td>\n      <td>0.0</td>\n      <td>5.173492e+07</td>\n    </tr>\n    <tr>\n      <th>167</th>\n      <td>2020-12-01</td>\n      <td>5.237889e+07</td>\n      <td>4.735067e+07</td>\n      <td>5.180434e+07</td>\n      <td>5.206851e+07</td>\n      <td>5.271028e+07</td>\n      <td>-2.854831e+06</td>\n      <td>-2.854831e+06</td>\n      <td>-2.854831e+06</td>\n      <td>-2.854831e+06</td>\n      <td>-2.854831e+06</td>\n      <td>-2.854831e+06</td>\n      <td>0.0</td>\n      <td>0.0</td>\n      <td>0.0</td>\n      <td>4.952406e+07</td>\n    </tr>\n  </tbody>\n</table>\n</div>"
     },
     "metadata": {},
     "execution_count": 11
    }
   ],
   "source": [
    "prediction.tail()"
   ]
  },
  {
   "cell_type": "code",
   "execution_count": 12,
   "metadata": {},
   "outputs": [],
   "source": [
    "def plot_prophet(original, prediction, title):\n",
    "    trace1 = go.Scatter(\n",
    "    x=original[\"ds\"],\n",
    "    y=original[\"y\"],\n",
    "    mode='markers',\n",
    "    name = \"Actual\",\n",
    "    marker_color='rgba(152, 0, 0, .8)',\n",
    "    marker={'size': 15}\n",
    "    )\n",
    "\n",
    "    trace2 = go.Scatter(\n",
    "        x=prediction[\"ds\"],\n",
    "        y=prediction[\"yhat\"],\n",
    "        name = \"Prophet's fit and prediction\",\n",
    "        marker_color='rgb(129, 119, 185, 1)'\n",
    "    )\n",
    "\n",
    "    trace3 = go.Scatter(\n",
    "        x=prediction[\"ds\"],\n",
    "        y=prediction[\"yhat_upper\"],\n",
    "        mode='lines',\n",
    "            marker=dict(color=\"#444\"),\n",
    "            line=dict(width=0),\n",
    "            showlegend=False\n",
    "    )\n",
    "\n",
    "    trace4 = go.Scatter(\n",
    "        x=prediction[\"ds\"],\n",
    "        y=prediction[\"yhat_lower\"],\n",
    "        marker=dict(color=\"#444\"),\n",
    "            line=dict(width=0),\n",
    "            mode='lines',\n",
    "            fillcolor='rgba(78, 119, 185, 0.4)',\n",
    "            fill='tonexty',\n",
    "            showlegend=False\n",
    "    )\n",
    "\n",
    "\n",
    "\n",
    "    fig = make_subplots()\n",
    "    \n",
    "    fig.add_trace(trace2)\n",
    "    fig.add_trace(trace3)\n",
    "    fig.add_trace(trace4)\n",
    "    fig.add_trace(trace1)\n",
    "    #fig.write_image(\"fig1.png\")\n",
    "    fig.update_layout(height=800, width=1600, title_text=title,  xaxis_title=\"Time\", yaxis_title=\"Accomodations\", font=dict(size=22))\n",
    "    return fig"
   ]
  },
  {
   "cell_type": "code",
   "execution_count": 13,
   "metadata": {},
   "outputs": [
    {
     "output_type": "display_data",
     "data": {
      "application/vnd.plotly.v1+json": {
       "config": {
        "plotlyServerURL": "https://plot.ly"
       },
       "data": [
        {
         "marker": {
          "color": "rgb(129, 119, 185, 1)"
         },
         "name": "Prophet's fit and prediction",
         "type": "scatter",
         "x": [
          "2007-01-01T00:00:00",
          "2007-02-01T00:00:00",
          "2007-03-01T00:00:00",
          "2007-04-01T00:00:00",
          "2007-05-01T00:00:00",
          "2007-06-01T00:00:00",
          "2007-07-01T00:00:00",
          "2007-08-01T00:00:00",
          "2007-09-01T00:00:00",
          "2007-10-01T00:00:00",
          "2007-11-01T00:00:00",
          "2007-12-01T00:00:00",
          "2008-01-01T00:00:00",
          "2008-02-01T00:00:00",
          "2008-03-01T00:00:00",
          "2008-04-01T00:00:00",
          "2008-05-01T00:00:00",
          "2008-06-01T00:00:00",
          "2008-07-01T00:00:00",
          "2008-08-01T00:00:00",
          "2008-09-01T00:00:00",
          "2008-10-01T00:00:00",
          "2008-11-01T00:00:00",
          "2008-12-01T00:00:00",
          "2009-01-01T00:00:00",
          "2009-02-01T00:00:00",
          "2009-03-01T00:00:00",
          "2009-04-01T00:00:00",
          "2009-05-01T00:00:00",
          "2009-06-01T00:00:00",
          "2009-07-01T00:00:00",
          "2009-08-01T00:00:00",
          "2009-09-01T00:00:00",
          "2009-10-01T00:00:00",
          "2009-11-01T00:00:00",
          "2009-12-01T00:00:00",
          "2010-01-01T00:00:00",
          "2010-02-01T00:00:00",
          "2010-03-01T00:00:00",
          "2010-04-01T00:00:00",
          "2010-05-01T00:00:00",
          "2010-06-01T00:00:00",
          "2010-07-01T00:00:00",
          "2010-08-01T00:00:00",
          "2010-09-01T00:00:00",
          "2010-10-01T00:00:00",
          "2010-11-01T00:00:00",
          "2010-12-01T00:00:00",
          "2011-01-01T00:00:00",
          "2011-02-01T00:00:00",
          "2011-03-01T00:00:00",
          "2011-04-01T00:00:00",
          "2011-05-01T00:00:00",
          "2011-06-01T00:00:00",
          "2011-07-01T00:00:00",
          "2011-08-01T00:00:00",
          "2011-09-01T00:00:00",
          "2011-10-01T00:00:00",
          "2011-11-01T00:00:00",
          "2011-12-01T00:00:00",
          "2012-01-01T00:00:00",
          "2012-02-01T00:00:00",
          "2012-03-01T00:00:00",
          "2012-04-01T00:00:00",
          "2012-05-01T00:00:00",
          "2012-06-01T00:00:00",
          "2012-07-01T00:00:00",
          "2012-08-01T00:00:00",
          "2012-09-01T00:00:00",
          "2012-10-01T00:00:00",
          "2012-11-01T00:00:00",
          "2012-12-01T00:00:00",
          "2013-01-01T00:00:00",
          "2013-02-01T00:00:00",
          "2013-03-01T00:00:00",
          "2013-04-01T00:00:00",
          "2013-05-01T00:00:00",
          "2013-06-01T00:00:00",
          "2013-07-01T00:00:00",
          "2013-08-01T00:00:00",
          "2013-09-01T00:00:00",
          "2013-10-01T00:00:00",
          "2013-11-01T00:00:00",
          "2013-12-01T00:00:00",
          "2014-01-01T00:00:00",
          "2014-02-01T00:00:00",
          "2014-03-01T00:00:00",
          "2014-04-01T00:00:00",
          "2014-05-01T00:00:00",
          "2014-06-01T00:00:00",
          "2014-07-01T00:00:00",
          "2014-08-01T00:00:00",
          "2014-09-01T00:00:00",
          "2014-10-01T00:00:00",
          "2014-11-01T00:00:00",
          "2014-12-01T00:00:00",
          "2015-01-01T00:00:00",
          "2015-02-01T00:00:00",
          "2015-03-01T00:00:00",
          "2015-04-01T00:00:00",
          "2015-05-01T00:00:00",
          "2015-06-01T00:00:00",
          "2015-07-01T00:00:00",
          "2015-08-01T00:00:00",
          "2015-09-01T00:00:00",
          "2015-10-01T00:00:00",
          "2015-11-01T00:00:00",
          "2015-12-01T00:00:00",
          "2016-01-01T00:00:00",
          "2016-02-01T00:00:00",
          "2016-03-01T00:00:00",
          "2016-04-01T00:00:00",
          "2016-05-01T00:00:00",
          "2016-06-01T00:00:00",
          "2016-07-01T00:00:00",
          "2016-08-01T00:00:00",
          "2016-09-01T00:00:00",
          "2016-10-01T00:00:00",
          "2016-11-01T00:00:00",
          "2016-12-01T00:00:00",
          "2017-01-01T00:00:00",
          "2017-02-01T00:00:00",
          "2017-03-01T00:00:00",
          "2017-04-01T00:00:00",
          "2017-05-01T00:00:00",
          "2017-06-01T00:00:00",
          "2017-07-01T00:00:00",
          "2017-08-01T00:00:00",
          "2017-09-01T00:00:00",
          "2017-10-01T00:00:00",
          "2017-11-01T00:00:00",
          "2017-12-01T00:00:00",
          "2018-01-01T00:00:00",
          "2018-02-01T00:00:00",
          "2018-03-01T00:00:00",
          "2018-04-01T00:00:00",
          "2018-05-01T00:00:00",
          "2018-06-01T00:00:00",
          "2018-07-01T00:00:00",
          "2018-08-01T00:00:00",
          "2018-09-01T00:00:00",
          "2018-10-01T00:00:00",
          "2018-11-01T00:00:00",
          "2018-12-01T00:00:00",
          "2019-01-01T00:00:00",
          "2019-02-01T00:00:00",
          "2019-03-01T00:00:00",
          "2019-04-01T00:00:00",
          "2019-05-01T00:00:00",
          "2019-06-01T00:00:00",
          "2019-07-01T00:00:00",
          "2019-08-01T00:00:00",
          "2019-09-01T00:00:00",
          "2019-10-01T00:00:00",
          "2019-11-01T00:00:00",
          "2019-12-01T00:00:00",
          "2020-01-01T00:00:00",
          "2020-02-01T00:00:00",
          "2020-03-01T00:00:00",
          "2020-04-01T00:00:00",
          "2020-05-01T00:00:00",
          "2020-06-01T00:00:00",
          "2020-07-01T00:00:00",
          "2020-08-01T00:00:00",
          "2020-09-01T00:00:00",
          "2020-10-01T00:00:00",
          "2020-11-01T00:00:00",
          "2020-12-01T00:00:00"
         ],
         "y": [
          20782159.542320915,
          21473349.587039,
          26049296.61830353,
          22484335.29203569,
          25929021.022678923,
          21709363.734690815,
          27060566.154851135,
          38178543.10526755,
          25356200.989581056,
          26631220.24711169,
          25059873.12745041,
          22982151.20818941,
          21273494.160831943,
          22181541.441921346,
          27458773.270871077,
          23263123.731236476,
          25642124.390944038,
          22320837.66537099,
          27883978.77658647,
          38384939.656541854,
          25553171.00259005,
          27314353.6993093,
          25717110.24814005,
          23335153.324540522,
          21627498.322149094,
          21867928.65293835,
          27662563.9410681,
          23722255.702566247,
          26519428.465628263,
          22958909.866152707,
          28504133.3678929,
          39398643.983072445,
          26750486.440144952,
          28527670.944227837,
          27116865.320113614,
          25082138.156432763,
          23629442.170402035,
          24354501.35112986,
          29747055.116027724,
          26216430.442224104,
          29561926.31987734,
          25901263.958284378,
          31568794.755009595,
          42743035.8227802,
          30172030.83545944,
          31859624.276137393,
          30532365.578835703,
          28599964.654856436,
          27147866.696087092,
          28096420.948426235,
          32904825.974837437,
          29597228.857481536,
          33290976.725780983,
          29328683.64670631,
          34928948.20792991,
          46304288.86740947,
          33739310.46078463,
          35263391.37224647,
          33949407.961649984,
          32120747.69640536,
          30661861.299677577,
          31819679.231400702,
          37330567.47545582,
          33384688.586454168,
          36005402.75970686,
          32886907.32380114,
          38646298.070177525,
          49350050.2397984,
          36721072.87551145,
          38675901.22292016,
          37219886.433359504,
          34974602.4080888,
          33408176.06730493,
          33789835.05970323,
          39662100.91054012,
          35759718.70733226,
          38593594.085194916,
          35071001.5210146,
          40652927.637556024,
          51459996.99335311,
          38677982.75322737,
          40325628.51808465,
          38780966.19677316,
          36545062.73980568,
          34884484.58404753,
          35401661.59560705,
          40606450.82060877,
          36867943.977638185,
          40012263.46289391,
          36143718.82915827,
          41610073.212474994,
          52576431.98639508,
          39797544.70522278,
          41283961.733938575,
          39748820.69633102,
          37615243.313994266,
          35955263.01492192,
          36695934.926954396,
          41316575.2577288,
          37801095.79525599,
          41293667.200538784,
          37123491.77634562,
          42522579.87455164,
          53690038.69228163,
          40917178.44032755,
          42240083.37243585,
          40718218.11650709,
          38688381.87190965,
          37029206.68836874,
          37986735.83544144,
          43310257.15192168,
          39164089.478268385,
          41590975.79540844,
          38319170.9158492,
          43930197.683045305,
          54480640.40751293,
          41698353.59807173,
          43504817.966299675,
          41954365.57568733,
          39646865.248463854,
          38016148.7289941,
          38333517.54270411,
          44147714.84505056,
          40229064.55085789,
          43143835.65804722,
          39704835.347503,
          45367657.19336908,
          56258318.8028028,
          43606312.25412967,
          45379771.91394264,
          43965117.28408403,
          41855027.72207191,
          40324457.257768415,
          40971641.96021997,
          46293857.48667667,
          42685358.33460009,
          45955491.71426943,
          42216954.77142729,
          47809123.070165835,
          58905489.5566881,
          46256609.98811729,
          47868840.93225375,
          46463707.65519178,
          44455944.234669834,
          42925971.69614202,
          43796651.36871949,
          48534718.063855596,
          45149246.36544611,
          48767631.73595196,
          44727464.075822584,
          50252366.139252916,
          61549832.7210444,
          48906980.236735165,
          50355699.137533195,
          48963841.6492488,
          47059819.37334154,
          45530651.957446665,
          46618188.8700029,
          52063330.35419047,
          48047170.44602113,
          50599870.729757495,
          47458073.615681626,
          53194914.35092715,
          63875364.84237789,
          51223085.799922615,
          53155364.13619883,
          51734919.512573525,
          49524058.22852835
         ]
        },
        {
         "line": {
          "width": 0
         },
         "marker": {
          "color": "#444"
         },
         "mode": "lines",
         "showlegend": false,
         "type": "scatter",
         "x": [
          "2007-01-01T00:00:00",
          "2007-02-01T00:00:00",
          "2007-03-01T00:00:00",
          "2007-04-01T00:00:00",
          "2007-05-01T00:00:00",
          "2007-06-01T00:00:00",
          "2007-07-01T00:00:00",
          "2007-08-01T00:00:00",
          "2007-09-01T00:00:00",
          "2007-10-01T00:00:00",
          "2007-11-01T00:00:00",
          "2007-12-01T00:00:00",
          "2008-01-01T00:00:00",
          "2008-02-01T00:00:00",
          "2008-03-01T00:00:00",
          "2008-04-01T00:00:00",
          "2008-05-01T00:00:00",
          "2008-06-01T00:00:00",
          "2008-07-01T00:00:00",
          "2008-08-01T00:00:00",
          "2008-09-01T00:00:00",
          "2008-10-01T00:00:00",
          "2008-11-01T00:00:00",
          "2008-12-01T00:00:00",
          "2009-01-01T00:00:00",
          "2009-02-01T00:00:00",
          "2009-03-01T00:00:00",
          "2009-04-01T00:00:00",
          "2009-05-01T00:00:00",
          "2009-06-01T00:00:00",
          "2009-07-01T00:00:00",
          "2009-08-01T00:00:00",
          "2009-09-01T00:00:00",
          "2009-10-01T00:00:00",
          "2009-11-01T00:00:00",
          "2009-12-01T00:00:00",
          "2010-01-01T00:00:00",
          "2010-02-01T00:00:00",
          "2010-03-01T00:00:00",
          "2010-04-01T00:00:00",
          "2010-05-01T00:00:00",
          "2010-06-01T00:00:00",
          "2010-07-01T00:00:00",
          "2010-08-01T00:00:00",
          "2010-09-01T00:00:00",
          "2010-10-01T00:00:00",
          "2010-11-01T00:00:00",
          "2010-12-01T00:00:00",
          "2011-01-01T00:00:00",
          "2011-02-01T00:00:00",
          "2011-03-01T00:00:00",
          "2011-04-01T00:00:00",
          "2011-05-01T00:00:00",
          "2011-06-01T00:00:00",
          "2011-07-01T00:00:00",
          "2011-08-01T00:00:00",
          "2011-09-01T00:00:00",
          "2011-10-01T00:00:00",
          "2011-11-01T00:00:00",
          "2011-12-01T00:00:00",
          "2012-01-01T00:00:00",
          "2012-02-01T00:00:00",
          "2012-03-01T00:00:00",
          "2012-04-01T00:00:00",
          "2012-05-01T00:00:00",
          "2012-06-01T00:00:00",
          "2012-07-01T00:00:00",
          "2012-08-01T00:00:00",
          "2012-09-01T00:00:00",
          "2012-10-01T00:00:00",
          "2012-11-01T00:00:00",
          "2012-12-01T00:00:00",
          "2013-01-01T00:00:00",
          "2013-02-01T00:00:00",
          "2013-03-01T00:00:00",
          "2013-04-01T00:00:00",
          "2013-05-01T00:00:00",
          "2013-06-01T00:00:00",
          "2013-07-01T00:00:00",
          "2013-08-01T00:00:00",
          "2013-09-01T00:00:00",
          "2013-10-01T00:00:00",
          "2013-11-01T00:00:00",
          "2013-12-01T00:00:00",
          "2014-01-01T00:00:00",
          "2014-02-01T00:00:00",
          "2014-03-01T00:00:00",
          "2014-04-01T00:00:00",
          "2014-05-01T00:00:00",
          "2014-06-01T00:00:00",
          "2014-07-01T00:00:00",
          "2014-08-01T00:00:00",
          "2014-09-01T00:00:00",
          "2014-10-01T00:00:00",
          "2014-11-01T00:00:00",
          "2014-12-01T00:00:00",
          "2015-01-01T00:00:00",
          "2015-02-01T00:00:00",
          "2015-03-01T00:00:00",
          "2015-04-01T00:00:00",
          "2015-05-01T00:00:00",
          "2015-06-01T00:00:00",
          "2015-07-01T00:00:00",
          "2015-08-01T00:00:00",
          "2015-09-01T00:00:00",
          "2015-10-01T00:00:00",
          "2015-11-01T00:00:00",
          "2015-12-01T00:00:00",
          "2016-01-01T00:00:00",
          "2016-02-01T00:00:00",
          "2016-03-01T00:00:00",
          "2016-04-01T00:00:00",
          "2016-05-01T00:00:00",
          "2016-06-01T00:00:00",
          "2016-07-01T00:00:00",
          "2016-08-01T00:00:00",
          "2016-09-01T00:00:00",
          "2016-10-01T00:00:00",
          "2016-11-01T00:00:00",
          "2016-12-01T00:00:00",
          "2017-01-01T00:00:00",
          "2017-02-01T00:00:00",
          "2017-03-01T00:00:00",
          "2017-04-01T00:00:00",
          "2017-05-01T00:00:00",
          "2017-06-01T00:00:00",
          "2017-07-01T00:00:00",
          "2017-08-01T00:00:00",
          "2017-09-01T00:00:00",
          "2017-10-01T00:00:00",
          "2017-11-01T00:00:00",
          "2017-12-01T00:00:00",
          "2018-01-01T00:00:00",
          "2018-02-01T00:00:00",
          "2018-03-01T00:00:00",
          "2018-04-01T00:00:00",
          "2018-05-01T00:00:00",
          "2018-06-01T00:00:00",
          "2018-07-01T00:00:00",
          "2018-08-01T00:00:00",
          "2018-09-01T00:00:00",
          "2018-10-01T00:00:00",
          "2018-11-01T00:00:00",
          "2018-12-01T00:00:00",
          "2019-01-01T00:00:00",
          "2019-02-01T00:00:00",
          "2019-03-01T00:00:00",
          "2019-04-01T00:00:00",
          "2019-05-01T00:00:00",
          "2019-06-01T00:00:00",
          "2019-07-01T00:00:00",
          "2019-08-01T00:00:00",
          "2019-09-01T00:00:00",
          "2019-10-01T00:00:00",
          "2019-11-01T00:00:00",
          "2019-12-01T00:00:00",
          "2020-01-01T00:00:00",
          "2020-02-01T00:00:00",
          "2020-03-01T00:00:00",
          "2020-04-01T00:00:00",
          "2020-05-01T00:00:00",
          "2020-06-01T00:00:00",
          "2020-07-01T00:00:00",
          "2020-08-01T00:00:00",
          "2020-09-01T00:00:00",
          "2020-10-01T00:00:00",
          "2020-11-01T00:00:00",
          "2020-12-01T00:00:00"
         ],
         "y": [
          23056062.986129362,
          23725100.821792305,
          28391498.753679745,
          24779225.356536068,
          28280224.61305634,
          24049472.82365762,
          29288263.956946585,
          40301082.161904626,
          27789013.50111667,
          28794645.235758293,
          27349233.410071548,
          25230029.74157285,
          23513024.46990095,
          24442989.935536742,
          29844840.14562276,
          25406906.224077098,
          27707562.50369717,
          24499371.73993782,
          30290142.973711483,
          40608295.37943669,
          27706214.43697458,
          29575536.478689373,
          27797444.424698744,
          25473974.76677397,
          23960980.366302814,
          24171905.71508059,
          29802093.467486165,
          26082418.33189655,
          28697899.259719968,
          25171561.08399869,
          30618613.257001456,
          41785820.37385011,
          29213472.094619103,
          30738769.065910324,
          29131776.611853067,
          27415835.29501666,
          25779841.71008398,
          26535869.847642224,
          31923274.516138017,
          28577858.072182156,
          31783549.79819811,
          28257606.650551036,
          33984353.03706467,
          45151935.18715309,
          32434051.781330466,
          33980371.504291095,
          32730980.513269763,
          30850547.539943002,
          29371842.919616133,
          30379244.06890257,
          35214693.546505384,
          31963759.080429565,
          35584887.782395,
          31662464.380849104,
          37286131.762105614,
          48401057.394132294,
          36008219.27637695,
          37658164.76495874,
          36178164.031656235,
          34447276.65247407,
          32972908.7625675,
          34082951.7977062,
          39606842.094736114,
          35766020.73291987,
          38365667.104519695,
          35115855.930759005,
          40877195.832780875,
          51615823.833705425,
          38770870.556240894,
          40882178.60481282,
          39340367.707558684,
          37156032.687257245,
          35606225.647172235,
          36034209.3119046,
          41887709.32746717,
          37948281.22946526,
          40907880.28989027,
          37214953.34380249,
          42939560.6308564,
          53720953.375440106,
          40842529.862791926,
          42584106.62591639,
          41015331.31876522,
          38663488.81194113,
          37107625.2481866,
          37668325.46922585,
          42883855.90128395,
          39028471.166271016,
          42252098.980531305,
          38284979.161846235,
          43770876.529261485,
          54845395.83312105,
          42155399.240928516,
          43510824.67504739,
          41800835.404447906,
          39688849.88763475,
          38238245.16236081,
          39083665.35580684,
          43608021.03845456,
          39995114.02161598,
          43502979.88673446,
          39246996.41203148,
          44907070.51002523,
          55976714.7539655,
          43158331.01535277,
          44390158.15607362,
          43001322.21701529,
          40986762.07880929,
          39086796.77581326,
          40153755.810195476,
          45603075.21005472,
          41367247.528483085,
          43759450.4809552,
          40501678.194202535,
          46158797.45865457,
          56637506.492430076,
          43869657.26741355,
          45776586.56222817,
          44235780.626265235,
          41942031.59238748,
          40198942.44304138,
          40634423.09005367,
          46504495.48227531,
          42653711.43596235,
          45505069.95853982,
          42158900.4917633,
          47740893.211404175,
          58575150.567070745,
          45871087.787506536,
          47745199.82134993,
          46048084.86698325,
          44043598.36719277,
          42657803.29004242,
          43291533.76795745,
          48619922.65056656,
          45016520.9253279,
          48197617.959548675,
          44402395.421376884,
          49924924.56087703,
          61169082.17817259,
          48473708.1942548,
          50070501.93291595,
          48627191.887703575,
          46565119.928955734,
          45185905.864675984,
          46254472.1012694,
          50659864.21765714,
          47457101.71343586,
          51078162.11107351,
          47052595.110398404,
          52506861.88163963,
          63676096.646053016,
          51199284.74407894,
          52406396.93840089,
          51265007.82035056,
          49408490.34056717,
          47764454.47837435,
          48754089.355499506,
          54210683.47138343,
          50228486.65265153,
          52766132.41425369,
          49665298.05329355,
          55560191.290826425,
          66077383.70985444,
          53513277.38953437,
          55311556.19197985,
          54137845.057713754,
          51804343.89072013
         ]
        },
        {
         "fill": "tonexty",
         "fillcolor": "rgba(78, 119, 185, 0.4)",
         "line": {
          "width": 0
         },
         "marker": {
          "color": "#444"
         },
         "mode": "lines",
         "showlegend": false,
         "type": "scatter",
         "x": [
          "2007-01-01T00:00:00",
          "2007-02-01T00:00:00",
          "2007-03-01T00:00:00",
          "2007-04-01T00:00:00",
          "2007-05-01T00:00:00",
          "2007-06-01T00:00:00",
          "2007-07-01T00:00:00",
          "2007-08-01T00:00:00",
          "2007-09-01T00:00:00",
          "2007-10-01T00:00:00",
          "2007-11-01T00:00:00",
          "2007-12-01T00:00:00",
          "2008-01-01T00:00:00",
          "2008-02-01T00:00:00",
          "2008-03-01T00:00:00",
          "2008-04-01T00:00:00",
          "2008-05-01T00:00:00",
          "2008-06-01T00:00:00",
          "2008-07-01T00:00:00",
          "2008-08-01T00:00:00",
          "2008-09-01T00:00:00",
          "2008-10-01T00:00:00",
          "2008-11-01T00:00:00",
          "2008-12-01T00:00:00",
          "2009-01-01T00:00:00",
          "2009-02-01T00:00:00",
          "2009-03-01T00:00:00",
          "2009-04-01T00:00:00",
          "2009-05-01T00:00:00",
          "2009-06-01T00:00:00",
          "2009-07-01T00:00:00",
          "2009-08-01T00:00:00",
          "2009-09-01T00:00:00",
          "2009-10-01T00:00:00",
          "2009-11-01T00:00:00",
          "2009-12-01T00:00:00",
          "2010-01-01T00:00:00",
          "2010-02-01T00:00:00",
          "2010-03-01T00:00:00",
          "2010-04-01T00:00:00",
          "2010-05-01T00:00:00",
          "2010-06-01T00:00:00",
          "2010-07-01T00:00:00",
          "2010-08-01T00:00:00",
          "2010-09-01T00:00:00",
          "2010-10-01T00:00:00",
          "2010-11-01T00:00:00",
          "2010-12-01T00:00:00",
          "2011-01-01T00:00:00",
          "2011-02-01T00:00:00",
          "2011-03-01T00:00:00",
          "2011-04-01T00:00:00",
          "2011-05-01T00:00:00",
          "2011-06-01T00:00:00",
          "2011-07-01T00:00:00",
          "2011-08-01T00:00:00",
          "2011-09-01T00:00:00",
          "2011-10-01T00:00:00",
          "2011-11-01T00:00:00",
          "2011-12-01T00:00:00",
          "2012-01-01T00:00:00",
          "2012-02-01T00:00:00",
          "2012-03-01T00:00:00",
          "2012-04-01T00:00:00",
          "2012-05-01T00:00:00",
          "2012-06-01T00:00:00",
          "2012-07-01T00:00:00",
          "2012-08-01T00:00:00",
          "2012-09-01T00:00:00",
          "2012-10-01T00:00:00",
          "2012-11-01T00:00:00",
          "2012-12-01T00:00:00",
          "2013-01-01T00:00:00",
          "2013-02-01T00:00:00",
          "2013-03-01T00:00:00",
          "2013-04-01T00:00:00",
          "2013-05-01T00:00:00",
          "2013-06-01T00:00:00",
          "2013-07-01T00:00:00",
          "2013-08-01T00:00:00",
          "2013-09-01T00:00:00",
          "2013-10-01T00:00:00",
          "2013-11-01T00:00:00",
          "2013-12-01T00:00:00",
          "2014-01-01T00:00:00",
          "2014-02-01T00:00:00",
          "2014-03-01T00:00:00",
          "2014-04-01T00:00:00",
          "2014-05-01T00:00:00",
          "2014-06-01T00:00:00",
          "2014-07-01T00:00:00",
          "2014-08-01T00:00:00",
          "2014-09-01T00:00:00",
          "2014-10-01T00:00:00",
          "2014-11-01T00:00:00",
          "2014-12-01T00:00:00",
          "2015-01-01T00:00:00",
          "2015-02-01T00:00:00",
          "2015-03-01T00:00:00",
          "2015-04-01T00:00:00",
          "2015-05-01T00:00:00",
          "2015-06-01T00:00:00",
          "2015-07-01T00:00:00",
          "2015-08-01T00:00:00",
          "2015-09-01T00:00:00",
          "2015-10-01T00:00:00",
          "2015-11-01T00:00:00",
          "2015-12-01T00:00:00",
          "2016-01-01T00:00:00",
          "2016-02-01T00:00:00",
          "2016-03-01T00:00:00",
          "2016-04-01T00:00:00",
          "2016-05-01T00:00:00",
          "2016-06-01T00:00:00",
          "2016-07-01T00:00:00",
          "2016-08-01T00:00:00",
          "2016-09-01T00:00:00",
          "2016-10-01T00:00:00",
          "2016-11-01T00:00:00",
          "2016-12-01T00:00:00",
          "2017-01-01T00:00:00",
          "2017-02-01T00:00:00",
          "2017-03-01T00:00:00",
          "2017-04-01T00:00:00",
          "2017-05-01T00:00:00",
          "2017-06-01T00:00:00",
          "2017-07-01T00:00:00",
          "2017-08-01T00:00:00",
          "2017-09-01T00:00:00",
          "2017-10-01T00:00:00",
          "2017-11-01T00:00:00",
          "2017-12-01T00:00:00",
          "2018-01-01T00:00:00",
          "2018-02-01T00:00:00",
          "2018-03-01T00:00:00",
          "2018-04-01T00:00:00",
          "2018-05-01T00:00:00",
          "2018-06-01T00:00:00",
          "2018-07-01T00:00:00",
          "2018-08-01T00:00:00",
          "2018-09-01T00:00:00",
          "2018-10-01T00:00:00",
          "2018-11-01T00:00:00",
          "2018-12-01T00:00:00",
          "2019-01-01T00:00:00",
          "2019-02-01T00:00:00",
          "2019-03-01T00:00:00",
          "2019-04-01T00:00:00",
          "2019-05-01T00:00:00",
          "2019-06-01T00:00:00",
          "2019-07-01T00:00:00",
          "2019-08-01T00:00:00",
          "2019-09-01T00:00:00",
          "2019-10-01T00:00:00",
          "2019-11-01T00:00:00",
          "2019-12-01T00:00:00",
          "2020-01-01T00:00:00",
          "2020-02-01T00:00:00",
          "2020-03-01T00:00:00",
          "2020-04-01T00:00:00",
          "2020-05-01T00:00:00",
          "2020-06-01T00:00:00",
          "2020-07-01T00:00:00",
          "2020-08-01T00:00:00",
          "2020-09-01T00:00:00",
          "2020-10-01T00:00:00",
          "2020-11-01T00:00:00",
          "2020-12-01T00:00:00"
         ],
         "y": [
          18571826.774700336,
          19166583.731095277,
          23835784.13850138,
          20144202.39770829,
          23625072.447591178,
          19521273.82075659,
          24866829.34452346,
          36018281.49922567,
          23068308.77333908,
          24326814.96734635,
          22946712.265098758,
          20656171.52825251,
          19055478.51979195,
          19934986.830346253,
          25086208.526282087,
          21033202.414325755,
          23208666.908657935,
          20002125.63007894,
          25656472.46422853,
          36037394.56155265,
          23374238.438288018,
          24990754.507036224,
          23197414.57072643,
          21106370.841838624,
          19370566.472423747,
          19537560.376891475,
          25553504.31452637,
          21600370.712813977,
          24292532.703338657,
          20767607.341588464,
          26254717.669804085,
          37191643.2828052,
          24513713.093389336,
          26518467.774826348,
          24604547.65766564,
          22676545.000359032,
          21365428.60308037,
          22004032.29477924,
          27266131.61038734,
          23853014.012370978,
          27475040.89166663,
          23572790.737584837,
          29391897.8391049,
          40614439.84734482,
          27986568.580015033,
          29659650.144245904,
          28396373.379783258,
          26324330.875218157,
          24985490.515545346,
          25810933.510582663,
          30665874.62213365,
          27350686.325975742,
          31084375.391653158,
          27200612.864247534,
          32560336.56346156,
          44139761.238510974,
          31340454.429776564,
          33112641.936501674,
          31640432.252157222,
          29821979.53677562,
          28490576.931190234,
          29527942.628269527,
          35248839.641787164,
          31355683.149466477,
          33854339.73475561,
          30674737.950032912,
          36472834.16960489,
          47072917.90271469,
          34577457.11691879,
          36350571.540986106,
          34850173.148947656,
          32682130.263591234,
          31236965.90327044,
          31447481.751447808,
          37406141.46286737,
          33532124.20052617,
          36313013.64401801,
          32814849.885696813,
          38486153.95157007,
          49123876.23507402,
          36369482.254980884,
          38131133.7819554,
          36615918.50210432,
          34383795.7989095,
          32540852.397889156,
          33141619.017693564,
          38423976.03152674,
          34655745.526462495,
          37806104.15089062,
          33864657.73466637,
          39341144.898307286,
          50377709.57853882,
          37581945.32868417,
          38920970.313617155,
          37518403.79666482,
          35387042.24432799,
          33782137.6761115,
          34169213.47229741,
          39141547.63132938,
          35489555.66173985,
          38988373.14905853,
          34809761.79200432,
          40280748.03208545,
          51383622.52250932,
          38730669.73819091,
          39872089.51939395,
          38456279.74756953,
          36480687.75752294,
          34901911.26598014,
          35798233.53497644,
          40977033.568402424,
          36750909.21012135,
          39284629.30627953,
          35840033.138190866,
          41928336.864409156,
          52272936.51883227,
          39424311.07922053,
          41296769.3931347,
          39869761.98164143,
          37444312.11525327,
          35936222.92319695,
          36023538.82643833,
          41881388.52285469,
          38190562.69788346,
          40831434.389679596,
          37407165.382118545,
          43113772.458890945,
          53923875.00048293,
          41290714.434032276,
          43074971.071290374,
          41540904.68092724,
          39776457.37906367,
          38144121.45619905,
          38697897.42709803,
          44051794.82033627,
          40445853.39315038,
          43701156.023082644,
          40109054.36654695,
          45539489.18262788,
          56759250.120680995,
          43959260.42669454,
          45585467.10762641,
          44204076.75000044,
          42319868.42864328,
          40526409.90735773,
          41449720.681158826,
          46245136.98215563,
          42753540.44679804,
          46504883.06478045,
          42396005.742758,
          47983661.88599358,
          59380956.73520756,
          46777277.89190294,
          47919780.85198894,
          46610146.29544681,
          44922208.46763319,
          43337735.6123365,
          44491411.222375534,
          49870901.67728306,
          45715315.816813275,
          48376468.671724185,
          45196582.988078296,
          50844276.35907737,
          61563783.811704084,
          49081408.67528741,
          51058257.34031914,
          49525126.99074291,
          47350666.962910295
         ]
        },
        {
         "marker": {
          "color": "rgba(152, 0, 0, .8)",
          "size": 15
         },
         "mode": "markers",
         "name": "Actual",
         "type": "scatter",
         "x": [
          "2007-01-01T00:00:00",
          "2007-02-01T00:00:00",
          "2007-03-01T00:00:00",
          "2007-04-01T00:00:00",
          "2007-05-01T00:00:00",
          "2007-06-01T00:00:00",
          "2007-07-01T00:00:00",
          "2007-08-01T00:00:00",
          "2007-09-01T00:00:00",
          "2007-10-01T00:00:00",
          "2007-11-01T00:00:00",
          "2007-12-01T00:00:00",
          "2008-01-01T00:00:00",
          "2008-02-01T00:00:00",
          "2008-03-01T00:00:00",
          "2008-04-01T00:00:00",
          "2008-05-01T00:00:00",
          "2008-06-01T00:00:00",
          "2008-07-01T00:00:00",
          "2008-08-01T00:00:00",
          "2008-09-01T00:00:00",
          "2008-10-01T00:00:00",
          "2008-11-01T00:00:00",
          "2008-12-01T00:00:00",
          "2009-01-01T00:00:00",
          "2009-02-01T00:00:00",
          "2009-03-01T00:00:00",
          "2009-04-01T00:00:00",
          "2009-05-01T00:00:00",
          "2009-06-01T00:00:00",
          "2009-07-01T00:00:00",
          "2009-08-01T00:00:00",
          "2009-09-01T00:00:00",
          "2009-10-01T00:00:00",
          "2009-11-01T00:00:00",
          "2009-12-01T00:00:00",
          "2010-01-01T00:00:00",
          "2010-02-01T00:00:00",
          "2010-03-01T00:00:00",
          "2010-04-01T00:00:00",
          "2010-05-01T00:00:00",
          "2010-06-01T00:00:00",
          "2010-07-01T00:00:00",
          "2010-08-01T00:00:00",
          "2010-09-01T00:00:00",
          "2010-10-01T00:00:00",
          "2010-11-01T00:00:00",
          "2010-12-01T00:00:00",
          "2011-01-01T00:00:00",
          "2011-02-01T00:00:00",
          "2011-03-01T00:00:00",
          "2011-04-01T00:00:00",
          "2011-05-01T00:00:00",
          "2011-06-01T00:00:00",
          "2011-07-01T00:00:00",
          "2011-08-01T00:00:00",
          "2011-09-01T00:00:00",
          "2011-10-01T00:00:00",
          "2011-11-01T00:00:00",
          "2011-12-01T00:00:00",
          "2012-01-01T00:00:00",
          "2012-02-01T00:00:00",
          "2012-03-01T00:00:00",
          "2012-04-01T00:00:00",
          "2012-05-01T00:00:00",
          "2012-06-01T00:00:00",
          "2012-07-01T00:00:00",
          "2012-08-01T00:00:00",
          "2012-09-01T00:00:00",
          "2012-10-01T00:00:00",
          "2012-11-01T00:00:00",
          "2012-12-01T00:00:00",
          "2013-01-01T00:00:00",
          "2013-02-01T00:00:00",
          "2013-03-01T00:00:00",
          "2013-04-01T00:00:00",
          "2013-05-01T00:00:00",
          "2013-06-01T00:00:00",
          "2013-07-01T00:00:00",
          "2013-08-01T00:00:00",
          "2013-09-01T00:00:00",
          "2013-10-01T00:00:00",
          "2013-11-01T00:00:00",
          "2013-12-01T00:00:00",
          "2014-01-01T00:00:00",
          "2014-02-01T00:00:00",
          "2014-03-01T00:00:00",
          "2014-04-01T00:00:00",
          "2014-05-01T00:00:00",
          "2014-06-01T00:00:00",
          "2014-07-01T00:00:00",
          "2014-08-01T00:00:00",
          "2014-09-01T00:00:00",
          "2014-10-01T00:00:00",
          "2014-11-01T00:00:00",
          "2014-12-01T00:00:00",
          "2015-01-01T00:00:00",
          "2015-02-01T00:00:00",
          "2015-03-01T00:00:00",
          "2015-04-01T00:00:00",
          "2015-05-01T00:00:00",
          "2015-06-01T00:00:00",
          "2015-07-01T00:00:00",
          "2015-08-01T00:00:00",
          "2015-09-01T00:00:00",
          "2015-10-01T00:00:00",
          "2015-11-01T00:00:00",
          "2015-12-01T00:00:00",
          "2016-01-01T00:00:00",
          "2016-02-01T00:00:00",
          "2016-03-01T00:00:00",
          "2016-04-01T00:00:00",
          "2016-05-01T00:00:00",
          "2016-06-01T00:00:00",
          "2016-07-01T00:00:00",
          "2016-08-01T00:00:00",
          "2016-09-01T00:00:00",
          "2016-10-01T00:00:00",
          "2016-11-01T00:00:00",
          "2016-12-01T00:00:00",
          "2017-01-01T00:00:00",
          "2017-02-01T00:00:00",
          "2017-03-01T00:00:00",
          "2017-04-01T00:00:00",
          "2017-05-01T00:00:00",
          "2017-06-01T00:00:00",
          "2017-07-01T00:00:00",
          "2017-08-01T00:00:00",
          "2017-09-01T00:00:00",
          "2017-10-01T00:00:00",
          "2017-11-01T00:00:00",
          "2017-12-01T00:00:00",
          "2018-01-01T00:00:00",
          "2018-02-01T00:00:00",
          "2018-03-01T00:00:00",
          "2018-04-01T00:00:00",
          "2018-05-01T00:00:00",
          "2018-06-01T00:00:00",
          "2018-07-01T00:00:00",
          "2018-08-01T00:00:00",
          "2018-09-01T00:00:00",
          "2018-10-01T00:00:00",
          "2018-11-01T00:00:00",
          "2018-12-01T00:00:00",
          "2019-01-01T00:00:00",
          "2019-02-01T00:00:00",
          "2019-03-01T00:00:00",
          "2019-04-01T00:00:00",
          "2019-05-01T00:00:00",
          "2019-06-01T00:00:00",
          "2019-07-01T00:00:00",
          "2019-08-01T00:00:00",
          "2019-09-01T00:00:00",
          "2019-10-01T00:00:00",
          "2019-11-01T00:00:00",
          "2019-12-01T00:00:00",
          "2020-01-01T00:00:00",
          "2020-02-01T00:00:00",
          "2020-03-01T00:00:00",
          "2020-04-01T00:00:00",
          "2020-05-01T00:00:00",
          "2020-06-01T00:00:00",
          "2020-07-01T00:00:00",
          "2020-08-01T00:00:00",
          "2020-09-01T00:00:00",
          "2020-10-01T00:00:00",
          "2020-11-01T00:00:00",
          "2020-12-01T00:00:00"
         ],
         "y": [
          22136270,
          23346870,
          26997200,
          23729790,
          25636730,
          23664790,
          25362320,
          33935790,
          25650700,
          27430380,
          27087720,
          24403230,
          22306990,
          23734590,
          27229850,
          23642670,
          26128970,
          23402130,
          26565860,
          33652720,
          24941780,
          27605970,
          26884920,
          23602270,
          22163460,
          21876640,
          26696910,
          22411430,
          24986700,
          21796450,
          25881320,
          33518780,
          26494950,
          26802430,
          25358690,
          23316180,
          25616100,
          26942150,
          32011530,
          26103230,
          29393060,
          25875740,
          29657850,
          38035730,
          28428580,
          30969410,
          28919630,
          26870300,
          30908870,
          32153660,
          29307160,
          26495230,
          33494550,
          30921510,
          38040000,
          51463750,
          36746100,
          38096640,
          35536100,
          34070880,
          30684990,
          31042820,
          37045370,
          33632400,
          36547550,
          32991930,
          38195680,
          52315150,
          36469720,
          38373530,
          37344940,
          34851030,
          31765400,
          33058660,
          39269910,
          35273920,
          38404260,
          34745730,
          41345880,
          55130150,
          39495220,
          40247870,
          40074090,
          37082290,
          33447100,
          32747070,
          40897640,
          35705590,
          39901790,
          35142960,
          41773170,
          54229010,
          39663260,
          41271550,
          40678140,
          38044680,
          35403320,
          36007880,
          42781050,
          37848950,
          42943170,
          37453870,
          44806790,
          56426530,
          44025610,
          44898650,
          41485070,
          39997480,
          35821190,
          36775420,
          42178210,
          38330190,
          40056510,
          36895570,
          44332270,
          54851290,
          40890550,
          43107390,
          39792340,
          39454220,
          36792560,
          36661700,
          43862830,
          39955140,
          43002660,
          38329850,
          45887250,
          56797700,
          42161920,
          43824150,
          42109900,
          40211200,
          37964420,
          38899650,
          45644860,
          42509270,
          44445160,
          41406270,
          47142860,
          59715640,
          44439890,
          46582920,
          45282650,
          43967910,
          42684710,
          43539370,
          51147600,
          50718730,
          51402690,
          45810390,
          51780530,
          63234040,
          48761240,
          50052850,
          49659370,
          47129960,
          43156910,
          37443380,
          23940920,
          9706670,
          7785180,
          14240840,
          21578040,
          26149030,
          26020820,
          32412890,
          34501310,
          27863790
         ]
        }
       ],
       "layout": {
        "font": {
         "size": 22
        },
        "height": 800,
        "template": {
         "data": {
          "bar": [
           {
            "error_x": {
             "color": "#2a3f5f"
            },
            "error_y": {
             "color": "#2a3f5f"
            },
            "marker": {
             "line": {
              "color": "#E5ECF6",
              "width": 0.5
             }
            },
            "type": "bar"
           }
          ],
          "barpolar": [
           {
            "marker": {
             "line": {
              "color": "#E5ECF6",
              "width": 0.5
             }
            },
            "type": "barpolar"
           }
          ],
          "carpet": [
           {
            "aaxis": {
             "endlinecolor": "#2a3f5f",
             "gridcolor": "white",
             "linecolor": "white",
             "minorgridcolor": "white",
             "startlinecolor": "#2a3f5f"
            },
            "baxis": {
             "endlinecolor": "#2a3f5f",
             "gridcolor": "white",
             "linecolor": "white",
             "minorgridcolor": "white",
             "startlinecolor": "#2a3f5f"
            },
            "type": "carpet"
           }
          ],
          "choropleth": [
           {
            "colorbar": {
             "outlinewidth": 0,
             "ticks": ""
            },
            "type": "choropleth"
           }
          ],
          "contour": [
           {
            "colorbar": {
             "outlinewidth": 0,
             "ticks": ""
            },
            "colorscale": [
             [
              0,
              "#0d0887"
             ],
             [
              0.1111111111111111,
              "#46039f"
             ],
             [
              0.2222222222222222,
              "#7201a8"
             ],
             [
              0.3333333333333333,
              "#9c179e"
             ],
             [
              0.4444444444444444,
              "#bd3786"
             ],
             [
              0.5555555555555556,
              "#d8576b"
             ],
             [
              0.6666666666666666,
              "#ed7953"
             ],
             [
              0.7777777777777778,
              "#fb9f3a"
             ],
             [
              0.8888888888888888,
              "#fdca26"
             ],
             [
              1,
              "#f0f921"
             ]
            ],
            "type": "contour"
           }
          ],
          "contourcarpet": [
           {
            "colorbar": {
             "outlinewidth": 0,
             "ticks": ""
            },
            "type": "contourcarpet"
           }
          ],
          "heatmap": [
           {
            "colorbar": {
             "outlinewidth": 0,
             "ticks": ""
            },
            "colorscale": [
             [
              0,
              "#0d0887"
             ],
             [
              0.1111111111111111,
              "#46039f"
             ],
             [
              0.2222222222222222,
              "#7201a8"
             ],
             [
              0.3333333333333333,
              "#9c179e"
             ],
             [
              0.4444444444444444,
              "#bd3786"
             ],
             [
              0.5555555555555556,
              "#d8576b"
             ],
             [
              0.6666666666666666,
              "#ed7953"
             ],
             [
              0.7777777777777778,
              "#fb9f3a"
             ],
             [
              0.8888888888888888,
              "#fdca26"
             ],
             [
              1,
              "#f0f921"
             ]
            ],
            "type": "heatmap"
           }
          ],
          "heatmapgl": [
           {
            "colorbar": {
             "outlinewidth": 0,
             "ticks": ""
            },
            "colorscale": [
             [
              0,
              "#0d0887"
             ],
             [
              0.1111111111111111,
              "#46039f"
             ],
             [
              0.2222222222222222,
              "#7201a8"
             ],
             [
              0.3333333333333333,
              "#9c179e"
             ],
             [
              0.4444444444444444,
              "#bd3786"
             ],
             [
              0.5555555555555556,
              "#d8576b"
             ],
             [
              0.6666666666666666,
              "#ed7953"
             ],
             [
              0.7777777777777778,
              "#fb9f3a"
             ],
             [
              0.8888888888888888,
              "#fdca26"
             ],
             [
              1,
              "#f0f921"
             ]
            ],
            "type": "heatmapgl"
           }
          ],
          "histogram": [
           {
            "marker": {
             "colorbar": {
              "outlinewidth": 0,
              "ticks": ""
             }
            },
            "type": "histogram"
           }
          ],
          "histogram2d": [
           {
            "colorbar": {
             "outlinewidth": 0,
             "ticks": ""
            },
            "colorscale": [
             [
              0,
              "#0d0887"
             ],
             [
              0.1111111111111111,
              "#46039f"
             ],
             [
              0.2222222222222222,
              "#7201a8"
             ],
             [
              0.3333333333333333,
              "#9c179e"
             ],
             [
              0.4444444444444444,
              "#bd3786"
             ],
             [
              0.5555555555555556,
              "#d8576b"
             ],
             [
              0.6666666666666666,
              "#ed7953"
             ],
             [
              0.7777777777777778,
              "#fb9f3a"
             ],
             [
              0.8888888888888888,
              "#fdca26"
             ],
             [
              1,
              "#f0f921"
             ]
            ],
            "type": "histogram2d"
           }
          ],
          "histogram2dcontour": [
           {
            "colorbar": {
             "outlinewidth": 0,
             "ticks": ""
            },
            "colorscale": [
             [
              0,
              "#0d0887"
             ],
             [
              0.1111111111111111,
              "#46039f"
             ],
             [
              0.2222222222222222,
              "#7201a8"
             ],
             [
              0.3333333333333333,
              "#9c179e"
             ],
             [
              0.4444444444444444,
              "#bd3786"
             ],
             [
              0.5555555555555556,
              "#d8576b"
             ],
             [
              0.6666666666666666,
              "#ed7953"
             ],
             [
              0.7777777777777778,
              "#fb9f3a"
             ],
             [
              0.8888888888888888,
              "#fdca26"
             ],
             [
              1,
              "#f0f921"
             ]
            ],
            "type": "histogram2dcontour"
           }
          ],
          "mesh3d": [
           {
            "colorbar": {
             "outlinewidth": 0,
             "ticks": ""
            },
            "type": "mesh3d"
           }
          ],
          "parcoords": [
           {
            "line": {
             "colorbar": {
              "outlinewidth": 0,
              "ticks": ""
             }
            },
            "type": "parcoords"
           }
          ],
          "pie": [
           {
            "automargin": true,
            "type": "pie"
           }
          ],
          "scatter": [
           {
            "marker": {
             "colorbar": {
              "outlinewidth": 0,
              "ticks": ""
             }
            },
            "type": "scatter"
           }
          ],
          "scatter3d": [
           {
            "line": {
             "colorbar": {
              "outlinewidth": 0,
              "ticks": ""
             }
            },
            "marker": {
             "colorbar": {
              "outlinewidth": 0,
              "ticks": ""
             }
            },
            "type": "scatter3d"
           }
          ],
          "scattercarpet": [
           {
            "marker": {
             "colorbar": {
              "outlinewidth": 0,
              "ticks": ""
             }
            },
            "type": "scattercarpet"
           }
          ],
          "scattergeo": [
           {
            "marker": {
             "colorbar": {
              "outlinewidth": 0,
              "ticks": ""
             }
            },
            "type": "scattergeo"
           }
          ],
          "scattergl": [
           {
            "marker": {
             "colorbar": {
              "outlinewidth": 0,
              "ticks": ""
             }
            },
            "type": "scattergl"
           }
          ],
          "scattermapbox": [
           {
            "marker": {
             "colorbar": {
              "outlinewidth": 0,
              "ticks": ""
             }
            },
            "type": "scattermapbox"
           }
          ],
          "scatterpolar": [
           {
            "marker": {
             "colorbar": {
              "outlinewidth": 0,
              "ticks": ""
             }
            },
            "type": "scatterpolar"
           }
          ],
          "scatterpolargl": [
           {
            "marker": {
             "colorbar": {
              "outlinewidth": 0,
              "ticks": ""
             }
            },
            "type": "scatterpolargl"
           }
          ],
          "scatterternary": [
           {
            "marker": {
             "colorbar": {
              "outlinewidth": 0,
              "ticks": ""
             }
            },
            "type": "scatterternary"
           }
          ],
          "surface": [
           {
            "colorbar": {
             "outlinewidth": 0,
             "ticks": ""
            },
            "colorscale": [
             [
              0,
              "#0d0887"
             ],
             [
              0.1111111111111111,
              "#46039f"
             ],
             [
              0.2222222222222222,
              "#7201a8"
             ],
             [
              0.3333333333333333,
              "#9c179e"
             ],
             [
              0.4444444444444444,
              "#bd3786"
             ],
             [
              0.5555555555555556,
              "#d8576b"
             ],
             [
              0.6666666666666666,
              "#ed7953"
             ],
             [
              0.7777777777777778,
              "#fb9f3a"
             ],
             [
              0.8888888888888888,
              "#fdca26"
             ],
             [
              1,
              "#f0f921"
             ]
            ],
            "type": "surface"
           }
          ],
          "table": [
           {
            "cells": {
             "fill": {
              "color": "#EBF0F8"
             },
             "line": {
              "color": "white"
             }
            },
            "header": {
             "fill": {
              "color": "#C8D4E3"
             },
             "line": {
              "color": "white"
             }
            },
            "type": "table"
           }
          ]
         },
         "layout": {
          "annotationdefaults": {
           "arrowcolor": "#2a3f5f",
           "arrowhead": 0,
           "arrowwidth": 1
          },
          "autotypenumbers": "strict",
          "coloraxis": {
           "colorbar": {
            "outlinewidth": 0,
            "ticks": ""
           }
          },
          "colorscale": {
           "diverging": [
            [
             0,
             "#8e0152"
            ],
            [
             0.1,
             "#c51b7d"
            ],
            [
             0.2,
             "#de77ae"
            ],
            [
             0.3,
             "#f1b6da"
            ],
            [
             0.4,
             "#fde0ef"
            ],
            [
             0.5,
             "#f7f7f7"
            ],
            [
             0.6,
             "#e6f5d0"
            ],
            [
             0.7,
             "#b8e186"
            ],
            [
             0.8,
             "#7fbc41"
            ],
            [
             0.9,
             "#4d9221"
            ],
            [
             1,
             "#276419"
            ]
           ],
           "sequential": [
            [
             0,
             "#0d0887"
            ],
            [
             0.1111111111111111,
             "#46039f"
            ],
            [
             0.2222222222222222,
             "#7201a8"
            ],
            [
             0.3333333333333333,
             "#9c179e"
            ],
            [
             0.4444444444444444,
             "#bd3786"
            ],
            [
             0.5555555555555556,
             "#d8576b"
            ],
            [
             0.6666666666666666,
             "#ed7953"
            ],
            [
             0.7777777777777778,
             "#fb9f3a"
            ],
            [
             0.8888888888888888,
             "#fdca26"
            ],
            [
             1,
             "#f0f921"
            ]
           ],
           "sequentialminus": [
            [
             0,
             "#0d0887"
            ],
            [
             0.1111111111111111,
             "#46039f"
            ],
            [
             0.2222222222222222,
             "#7201a8"
            ],
            [
             0.3333333333333333,
             "#9c179e"
            ],
            [
             0.4444444444444444,
             "#bd3786"
            ],
            [
             0.5555555555555556,
             "#d8576b"
            ],
            [
             0.6666666666666666,
             "#ed7953"
            ],
            [
             0.7777777777777778,
             "#fb9f3a"
            ],
            [
             0.8888888888888888,
             "#fdca26"
            ],
            [
             1,
             "#f0f921"
            ]
           ]
          },
          "colorway": [
           "#636efa",
           "#EF553B",
           "#00cc96",
           "#ab63fa",
           "#FFA15A",
           "#19d3f3",
           "#FF6692",
           "#B6E880",
           "#FF97FF",
           "#FECB52"
          ],
          "font": {
           "color": "#2a3f5f"
          },
          "geo": {
           "bgcolor": "white",
           "lakecolor": "white",
           "landcolor": "#E5ECF6",
           "showlakes": true,
           "showland": true,
           "subunitcolor": "white"
          },
          "hoverlabel": {
           "align": "left"
          },
          "hovermode": "closest",
          "mapbox": {
           "style": "light"
          },
          "paper_bgcolor": "white",
          "plot_bgcolor": "#E5ECF6",
          "polar": {
           "angularaxis": {
            "gridcolor": "white",
            "linecolor": "white",
            "ticks": ""
           },
           "bgcolor": "#E5ECF6",
           "radialaxis": {
            "gridcolor": "white",
            "linecolor": "white",
            "ticks": ""
           }
          },
          "scene": {
           "xaxis": {
            "backgroundcolor": "#E5ECF6",
            "gridcolor": "white",
            "gridwidth": 2,
            "linecolor": "white",
            "showbackground": true,
            "ticks": "",
            "zerolinecolor": "white"
           },
           "yaxis": {
            "backgroundcolor": "#E5ECF6",
            "gridcolor": "white",
            "gridwidth": 2,
            "linecolor": "white",
            "showbackground": true,
            "ticks": "",
            "zerolinecolor": "white"
           },
           "zaxis": {
            "backgroundcolor": "#E5ECF6",
            "gridcolor": "white",
            "gridwidth": 2,
            "linecolor": "white",
            "showbackground": true,
            "ticks": "",
            "zerolinecolor": "white"
           }
          },
          "shapedefaults": {
           "line": {
            "color": "#2a3f5f"
           }
          },
          "ternary": {
           "aaxis": {
            "gridcolor": "white",
            "linecolor": "white",
            "ticks": ""
           },
           "baxis": {
            "gridcolor": "white",
            "linecolor": "white",
            "ticks": ""
           },
           "bgcolor": "#E5ECF6",
           "caxis": {
            "gridcolor": "white",
            "linecolor": "white",
            "ticks": ""
           }
          },
          "title": {
           "x": 0.05
          },
          "xaxis": {
           "automargin": true,
           "gridcolor": "white",
           "linecolor": "white",
           "ticks": "",
           "title": {
            "standoff": 15
           },
           "zerolinecolor": "white",
           "zerolinewidth": 2
          },
          "yaxis": {
           "automargin": true,
           "gridcolor": "white",
           "linecolor": "white",
           "ticks": "",
           "title": {
            "standoff": 15
           },
           "zerolinecolor": "white",
           "zerolinewidth": 2
          }
         }
        },
        "title": {
         "text": "Accomodation counts in Japan between 2007 and 2020"
        },
        "width": 1600,
        "xaxis": {
         "anchor": "y",
         "domain": [
          0,
          1
         ],
         "title": {
          "text": "Time"
         }
        },
        "yaxis": {
         "anchor": "x",
         "domain": [
          0,
          1
         ],
         "title": {
          "text": "Accomodations"
         }
        }
       }
      }
     },
     "metadata": {}
    }
   ],
   "source": [
    "fig_1 = plot_prophet(prophet_japan, prediction, \"Accomodation counts in Japan between 2007 and 2020\")\n",
    "fig_1.show()"
   ]
  },
  {
   "cell_type": "code",
   "execution_count": 14,
   "metadata": {},
   "outputs": [],
   "source": [
    "def potential_loss(prediction, actual, time):\n",
    "    temp_df = prediction[prediction[\"ds\"] >= time][[\"ds\", \"yhat\"]]\n",
    "    temp_df = temp_df.merge(prophet_japan[prophet_japan[\"ds\"] >= time][[\"ds\", \"y\"]], left_on=\"ds\", right_on=\"ds\")\n",
    "    temp_df[\"diff\"] = temp_df[\"yhat\"] - temp_df[\"y\"]\n",
    "\n",
    "    return temp_df[\"diff\"].sum()"
   ]
  },
  {
   "cell_type": "code",
   "execution_count": 15,
   "metadata": {},
   "outputs": [
    {
     "output_type": "execute_result",
     "data": {
      "text/plain": [
       "305851470.88618195"
      ]
     },
     "metadata": {},
     "execution_count": 15
    }
   ],
   "source": [
    "\n",
    "potential_loss(prediction, prophet_japan, \"2020-02-01\")"
   ]
  },
  {
   "cell_type": "code",
   "execution_count": 16,
   "metadata": {},
   "outputs": [
    {
     "output_type": "execute_result",
     "data": {
      "text/plain": [
       "         time  accomodations location      Area\n",
       "0  2007-01-01       22136270    Japan  377915.0\n",
       "1  2007-02-01       23346870    Japan  377915.0\n",
       "2  2007-03-01       26997200    Japan  377915.0\n",
       "3  2007-04-01       23729790    Japan  377915.0\n",
       "4  2007-05-01       25636730    Japan  377915.0"
      ],
      "text/html": "<div>\n<style scoped>\n    .dataframe tbody tr th:only-of-type {\n        vertical-align: middle;\n    }\n\n    .dataframe tbody tr th {\n        vertical-align: top;\n    }\n\n    .dataframe thead th {\n        text-align: right;\n    }\n</style>\n<table border=\"1\" class=\"dataframe\">\n  <thead>\n    <tr style=\"text-align: right;\">\n      <th></th>\n      <th>time</th>\n      <th>accomodations</th>\n      <th>location</th>\n      <th>Area</th>\n    </tr>\n  </thead>\n  <tbody>\n    <tr>\n      <th>0</th>\n      <td>2007-01-01</td>\n      <td>22136270</td>\n      <td>Japan</td>\n      <td>377915.0</td>\n    </tr>\n    <tr>\n      <th>1</th>\n      <td>2007-02-01</td>\n      <td>23346870</td>\n      <td>Japan</td>\n      <td>377915.0</td>\n    </tr>\n    <tr>\n      <th>2</th>\n      <td>2007-03-01</td>\n      <td>26997200</td>\n      <td>Japan</td>\n      <td>377915.0</td>\n    </tr>\n    <tr>\n      <th>3</th>\n      <td>2007-04-01</td>\n      <td>23729790</td>\n      <td>Japan</td>\n      <td>377915.0</td>\n    </tr>\n    <tr>\n      <th>4</th>\n      <td>2007-05-01</td>\n      <td>25636730</td>\n      <td>Japan</td>\n      <td>377915.0</td>\n    </tr>\n  </tbody>\n</table>\n</div>"
     },
     "metadata": {},
     "execution_count": 16
    }
   ],
   "source": [
    "accomodation.head()"
   ]
  },
  {
   "cell_type": "code",
   "execution_count": 17,
   "metadata": {},
   "outputs": [
    {
     "output_type": "execute_result",
     "data": {
      "text/plain": [
       "          ds         y\n",
       "0 2007-01-01  22136270\n",
       "1 2007-02-01  23346870\n",
       "2 2007-03-01  26997200\n",
       "3 2007-04-01  23729790\n",
       "4 2007-05-01  25636730"
      ],
      "text/html": "<div>\n<style scoped>\n    .dataframe tbody tr th:only-of-type {\n        vertical-align: middle;\n    }\n\n    .dataframe tbody tr th {\n        vertical-align: top;\n    }\n\n    .dataframe thead th {\n        text-align: right;\n    }\n</style>\n<table border=\"1\" class=\"dataframe\">\n  <thead>\n    <tr style=\"text-align: right;\">\n      <th></th>\n      <th>ds</th>\n      <th>y</th>\n    </tr>\n  </thead>\n  <tbody>\n    <tr>\n      <th>0</th>\n      <td>2007-01-01</td>\n      <td>22136270</td>\n    </tr>\n    <tr>\n      <th>1</th>\n      <td>2007-02-01</td>\n      <td>23346870</td>\n    </tr>\n    <tr>\n      <th>2</th>\n      <td>2007-03-01</td>\n      <td>26997200</td>\n    </tr>\n    <tr>\n      <th>3</th>\n      <td>2007-04-01</td>\n      <td>23729790</td>\n    </tr>\n    <tr>\n      <th>4</th>\n      <td>2007-05-01</td>\n      <td>25636730</td>\n    </tr>\n  </tbody>\n</table>\n</div>"
     },
     "metadata": {},
     "execution_count": 17
    }
   ],
   "source": [
    "prophet_japan.head()"
   ]
  },
  {
   "cell_type": "code",
   "execution_count": 21,
   "metadata": {},
   "outputs": [],
   "source": [
    "prophet_japan['previous_year'] = prophet_japan.groupby([prophet_japan['ds'].dt.month, prophet_japan['ds'].dt.day])['y'].shift()"
   ]
  },
  {
   "cell_type": "code",
   "execution_count": 25,
   "metadata": {},
   "outputs": [
    {
     "output_type": "execute_result",
     "data": {
      "text/plain": [
       "           ds         y  previous_year\n",
       "13 2008-02-01  23734590     23346870.0\n",
       "14 2008-03-01  27229850     26997200.0\n",
       "15 2008-04-01  23642670     23729790.0\n",
       "16 2008-05-01  26128970     25636730.0\n",
       "17 2008-06-01  23402130     23664790.0\n",
       "18 2008-07-01  26565860     25362320.0\n",
       "19 2008-08-01  33652720     33935790.0\n",
       "20 2008-09-01  24941780     25650700.0\n",
       "21 2008-10-01  27605970     27430380.0\n",
       "22 2008-11-01  26884920     27087720.0\n",
       "23 2008-12-01  23602270     24403230.0\n",
       "24 2009-01-01  22163460     22306990.0\n",
       "25 2009-02-01  21876640     23734590.0\n",
       "26 2009-03-01  26696910     27229850.0\n",
       "27 2009-04-01  22411430     23642670.0\n",
       "28 2009-05-01  24986700     26128970.0\n",
       "29 2009-06-01  21796450     23402130.0\n",
       "30 2009-07-01  25881320     26565860.0\n",
       "31 2009-08-01  33518780     33652720.0\n",
       "32 2009-09-01  26494950     24941780.0\n",
       "33 2009-10-01  26802430     27605970.0\n",
       "34 2009-11-01  25358690     26884920.0\n",
       "35 2009-12-01  23316180     23602270.0"
      ],
      "text/html": "<div>\n<style scoped>\n    .dataframe tbody tr th:only-of-type {\n        vertical-align: middle;\n    }\n\n    .dataframe tbody tr th {\n        vertical-align: top;\n    }\n\n    .dataframe thead th {\n        text-align: right;\n    }\n</style>\n<table border=\"1\" class=\"dataframe\">\n  <thead>\n    <tr style=\"text-align: right;\">\n      <th></th>\n      <th>ds</th>\n      <th>y</th>\n      <th>previous_year</th>\n    </tr>\n  </thead>\n  <tbody>\n    <tr>\n      <th>13</th>\n      <td>2008-02-01</td>\n      <td>23734590</td>\n      <td>23346870.0</td>\n    </tr>\n    <tr>\n      <th>14</th>\n      <td>2008-03-01</td>\n      <td>27229850</td>\n      <td>26997200.0</td>\n    </tr>\n    <tr>\n      <th>15</th>\n      <td>2008-04-01</td>\n      <td>23642670</td>\n      <td>23729790.0</td>\n    </tr>\n    <tr>\n      <th>16</th>\n      <td>2008-05-01</td>\n      <td>26128970</td>\n      <td>25636730.0</td>\n    </tr>\n    <tr>\n      <th>17</th>\n      <td>2008-06-01</td>\n      <td>23402130</td>\n      <td>23664790.0</td>\n    </tr>\n    <tr>\n      <th>18</th>\n      <td>2008-07-01</td>\n      <td>26565860</td>\n      <td>25362320.0</td>\n    </tr>\n    <tr>\n      <th>19</th>\n      <td>2008-08-01</td>\n      <td>33652720</td>\n      <td>33935790.0</td>\n    </tr>\n    <tr>\n      <th>20</th>\n      <td>2008-09-01</td>\n      <td>24941780</td>\n      <td>25650700.0</td>\n    </tr>\n    <tr>\n      <th>21</th>\n      <td>2008-10-01</td>\n      <td>27605970</td>\n      <td>27430380.0</td>\n    </tr>\n    <tr>\n      <th>22</th>\n      <td>2008-11-01</td>\n      <td>26884920</td>\n      <td>27087720.0</td>\n    </tr>\n    <tr>\n      <th>23</th>\n      <td>2008-12-01</td>\n      <td>23602270</td>\n      <td>24403230.0</td>\n    </tr>\n    <tr>\n      <th>24</th>\n      <td>2009-01-01</td>\n      <td>22163460</td>\n      <td>22306990.0</td>\n    </tr>\n    <tr>\n      <th>25</th>\n      <td>2009-02-01</td>\n      <td>21876640</td>\n      <td>23734590.0</td>\n    </tr>\n    <tr>\n      <th>26</th>\n      <td>2009-03-01</td>\n      <td>26696910</td>\n      <td>27229850.0</td>\n    </tr>\n    <tr>\n      <th>27</th>\n      <td>2009-04-01</td>\n      <td>22411430</td>\n      <td>23642670.0</td>\n    </tr>\n    <tr>\n      <th>28</th>\n      <td>2009-05-01</td>\n      <td>24986700</td>\n      <td>26128970.0</td>\n    </tr>\n    <tr>\n      <th>29</th>\n      <td>2009-06-01</td>\n      <td>21796450</td>\n      <td>23402130.0</td>\n    </tr>\n    <tr>\n      <th>30</th>\n      <td>2009-07-01</td>\n      <td>25881320</td>\n      <td>26565860.0</td>\n    </tr>\n    <tr>\n      <th>31</th>\n      <td>2009-08-01</td>\n      <td>33518780</td>\n      <td>33652720.0</td>\n    </tr>\n    <tr>\n      <th>32</th>\n      <td>2009-09-01</td>\n      <td>26494950</td>\n      <td>24941780.0</td>\n    </tr>\n    <tr>\n      <th>33</th>\n      <td>2009-10-01</td>\n      <td>26802430</td>\n      <td>27605970.0</td>\n    </tr>\n    <tr>\n      <th>34</th>\n      <td>2009-11-01</td>\n      <td>25358690</td>\n      <td>26884920.0</td>\n    </tr>\n    <tr>\n      <th>35</th>\n      <td>2009-12-01</td>\n      <td>23316180</td>\n      <td>23602270.0</td>\n    </tr>\n  </tbody>\n</table>\n</div>"
     },
     "metadata": {},
     "execution_count": 25
    }
   ],
   "source": [
    "prophet_japan[(prophet_japan[\"ds\"] > \"2008\") & (prophet_japan[\"ds\"] < \"2010\")]"
   ]
  },
  {
   "cell_type": "code",
   "execution_count": 28,
   "metadata": {},
   "outputs": [],
   "source": [
    "def yoy(df):\n",
    "    df['previous_year'] = df.groupby([df['ds'].dt.month, df['ds'].dt.day])['y'].shift()\n",
    "    df[\"yoy\"] = 100 * (df[\"y\"] - df[\"previous_year\"]) / df[\"previous_year\"]\n",
    "    return df"
   ]
  },
  {
   "cell_type": "code",
   "execution_count": 30,
   "metadata": {},
   "outputs": [],
   "source": [
    "df = yoy(prophet_japan)"
   ]
  },
  {
   "cell_type": "code",
   "execution_count": 32,
   "metadata": {},
   "outputs": [
    {
     "output_type": "execute_result",
     "data": {
      "text/plain": [
       "            ds         y  previous_year        yoy\n",
       "145 2019-02-01  43539370     38899650.0  11.927408\n",
       "146 2019-03-01  51147600     45644860.0  12.055552\n",
       "147 2019-04-01  50718730     42509270.0  19.312164\n",
       "148 2019-05-01  51402690     44445160.0  15.654190\n",
       "149 2019-06-01  45810390     41406270.0  10.636360\n",
       "150 2019-07-01  51780530     47142860.0   9.837481\n",
       "151 2019-08-01  63234040     59715640.0   5.891924\n",
       "152 2019-09-01  48761240     44439890.0   9.724034\n",
       "153 2019-10-01  50052850     46582920.0   7.448932\n",
       "154 2019-11-01  49659370     45282650.0   9.665335\n",
       "155 2019-12-01  47129960     43967910.0   7.191722\n",
       "156 2020-01-01  43156910     42684710.0   1.106251\n",
       "157 2020-02-01  37443380     43539370.0 -14.001098\n",
       "158 2020-03-01  23940920     51147600.0 -53.192486\n",
       "159 2020-04-01   9706670     50718730.0 -80.861764\n",
       "160 2020-05-01   7785180     51402690.0 -84.854528\n",
       "161 2020-06-01  14240840     45810390.0 -68.913515\n",
       "162 2020-07-01  21578040     51780530.0 -58.327889\n",
       "163 2020-08-01  26149030     63234040.0 -58.647225\n",
       "164 2020-09-01  26020820     48761240.0 -46.636263\n",
       "165 2020-10-01  32412890     50052850.0 -35.242668\n",
       "166 2020-11-01  34501310     49659370.0 -30.524068\n",
       "167 2020-12-01  27863790     47129960.0 -40.878817"
      ],
      "text/html": "<div>\n<style scoped>\n    .dataframe tbody tr th:only-of-type {\n        vertical-align: middle;\n    }\n\n    .dataframe tbody tr th {\n        vertical-align: top;\n    }\n\n    .dataframe thead th {\n        text-align: right;\n    }\n</style>\n<table border=\"1\" class=\"dataframe\">\n  <thead>\n    <tr style=\"text-align: right;\">\n      <th></th>\n      <th>ds</th>\n      <th>y</th>\n      <th>previous_year</th>\n      <th>yoy</th>\n    </tr>\n  </thead>\n  <tbody>\n    <tr>\n      <th>145</th>\n      <td>2019-02-01</td>\n      <td>43539370</td>\n      <td>38899650.0</td>\n      <td>11.927408</td>\n    </tr>\n    <tr>\n      <th>146</th>\n      <td>2019-03-01</td>\n      <td>51147600</td>\n      <td>45644860.0</td>\n      <td>12.055552</td>\n    </tr>\n    <tr>\n      <th>147</th>\n      <td>2019-04-01</td>\n      <td>50718730</td>\n      <td>42509270.0</td>\n      <td>19.312164</td>\n    </tr>\n    <tr>\n      <th>148</th>\n      <td>2019-05-01</td>\n      <td>51402690</td>\n      <td>44445160.0</td>\n      <td>15.654190</td>\n    </tr>\n    <tr>\n      <th>149</th>\n      <td>2019-06-01</td>\n      <td>45810390</td>\n      <td>41406270.0</td>\n      <td>10.636360</td>\n    </tr>\n    <tr>\n      <th>150</th>\n      <td>2019-07-01</td>\n      <td>51780530</td>\n      <td>47142860.0</td>\n      <td>9.837481</td>\n    </tr>\n    <tr>\n      <th>151</th>\n      <td>2019-08-01</td>\n      <td>63234040</td>\n      <td>59715640.0</td>\n      <td>5.891924</td>\n    </tr>\n    <tr>\n      <th>152</th>\n      <td>2019-09-01</td>\n      <td>48761240</td>\n      <td>44439890.0</td>\n      <td>9.724034</td>\n    </tr>\n    <tr>\n      <th>153</th>\n      <td>2019-10-01</td>\n      <td>50052850</td>\n      <td>46582920.0</td>\n      <td>7.448932</td>\n    </tr>\n    <tr>\n      <th>154</th>\n      <td>2019-11-01</td>\n      <td>49659370</td>\n      <td>45282650.0</td>\n      <td>9.665335</td>\n    </tr>\n    <tr>\n      <th>155</th>\n      <td>2019-12-01</td>\n      <td>47129960</td>\n      <td>43967910.0</td>\n      <td>7.191722</td>\n    </tr>\n    <tr>\n      <th>156</th>\n      <td>2020-01-01</td>\n      <td>43156910</td>\n      <td>42684710.0</td>\n      <td>1.106251</td>\n    </tr>\n    <tr>\n      <th>157</th>\n      <td>2020-02-01</td>\n      <td>37443380</td>\n      <td>43539370.0</td>\n      <td>-14.001098</td>\n    </tr>\n    <tr>\n      <th>158</th>\n      <td>2020-03-01</td>\n      <td>23940920</td>\n      <td>51147600.0</td>\n      <td>-53.192486</td>\n    </tr>\n    <tr>\n      <th>159</th>\n      <td>2020-04-01</td>\n      <td>9706670</td>\n      <td>50718730.0</td>\n      <td>-80.861764</td>\n    </tr>\n    <tr>\n      <th>160</th>\n      <td>2020-05-01</td>\n      <td>7785180</td>\n      <td>51402690.0</td>\n      <td>-84.854528</td>\n    </tr>\n    <tr>\n      <th>161</th>\n      <td>2020-06-01</td>\n      <td>14240840</td>\n      <td>45810390.0</td>\n      <td>-68.913515</td>\n    </tr>\n    <tr>\n      <th>162</th>\n      <td>2020-07-01</td>\n      <td>21578040</td>\n      <td>51780530.0</td>\n      <td>-58.327889</td>\n    </tr>\n    <tr>\n      <th>163</th>\n      <td>2020-08-01</td>\n      <td>26149030</td>\n      <td>63234040.0</td>\n      <td>-58.647225</td>\n    </tr>\n    <tr>\n      <th>164</th>\n      <td>2020-09-01</td>\n      <td>26020820</td>\n      <td>48761240.0</td>\n      <td>-46.636263</td>\n    </tr>\n    <tr>\n      <th>165</th>\n      <td>2020-10-01</td>\n      <td>32412890</td>\n      <td>50052850.0</td>\n      <td>-35.242668</td>\n    </tr>\n    <tr>\n      <th>166</th>\n      <td>2020-11-01</td>\n      <td>34501310</td>\n      <td>49659370.0</td>\n      <td>-30.524068</td>\n    </tr>\n    <tr>\n      <th>167</th>\n      <td>2020-12-01</td>\n      <td>27863790</td>\n      <td>47129960.0</td>\n      <td>-40.878817</td>\n    </tr>\n  </tbody>\n</table>\n</div>"
     },
     "metadata": {},
     "execution_count": 32
    }
   ],
   "source": [
    "df[(df[\"ds\"] > \"2019\")]"
   ]
  },
  {
   "cell_type": "code",
   "execution_count": 74,
   "metadata": {},
   "outputs": [],
   "source": [
    "okinawa_df = accomodation[accomodation[\"location\"] == \"Okinawa\"][[\"time\", \"accomodations\"]]\n",
    "okinawa_df.columns = [\"ds\", \"y\"]\n",
    "okinawa_df[\"ds\"] = pd.to_datetime(okinawa_df[\"ds\"])"
   ]
  },
  {
   "cell_type": "code",
   "execution_count": 76,
   "metadata": {},
   "outputs": [],
   "source": [
    "okinawa_df = yoy(okinawa_df)"
   ]
  },
  {
   "cell_type": "code",
   "execution_count": 77,
   "metadata": {},
   "outputs": [
    {
     "output_type": "execute_result",
     "data": {
      "text/plain": [
       "             ds        y  previous_year        yoy\n",
       "8041 2019-02-01  2411270      1932180.0  24.795309\n",
       "8042 2019-03-01  2831050      2369460.0  19.480810\n",
       "8043 2019-04-01  2784430      2105270.0  32.259995\n",
       "8044 2019-05-01  2721360      2058330.0  32.212036\n",
       "8045 2019-06-01  2695380      2193470.0  22.882009\n",
       "8046 2019-07-01  3269120      2489970.0  31.291542\n",
       "8047 2019-08-01  3523720      2900190.0  21.499626\n",
       "8048 2019-09-01  2707780      2444030.0  10.791602\n",
       "8049 2019-10-01  2713450      2365710.0  14.699181\n",
       "8050 2019-11-01  2461550      2124010.0  15.891639\n",
       "8051 2019-12-01  2454120      2035470.0  20.567731\n",
       "8052 2020-01-01  2001170      2292420.0 -12.704914\n",
       "8053 2020-02-01  1896520      2411270.0 -21.347672\n",
       "8054 2020-03-01  1263600      2831050.0 -55.366383\n",
       "8055 2020-04-01   322820      2784430.0 -88.406245\n",
       "8056 2020-05-01   146820      2721360.0 -94.604903\n",
       "8057 2020-06-01   493700      2695380.0 -81.683473\n",
       "8058 2020-07-01  1089410      3269120.0 -66.675741\n",
       "8059 2020-08-01   849500      3523720.0 -75.891955\n",
       "8060 2020-09-01   884730      2707780.0 -67.326371\n",
       "8061 2020-10-01  1285240      2713450.0 -52.634469\n",
       "8062 2020-11-01  1415910      2461550.0 -42.478926\n",
       "8063 2020-12-01  1147150      2454120.0 -53.256157"
      ],
      "text/html": "<div>\n<style scoped>\n    .dataframe tbody tr th:only-of-type {\n        vertical-align: middle;\n    }\n\n    .dataframe tbody tr th {\n        vertical-align: top;\n    }\n\n    .dataframe thead th {\n        text-align: right;\n    }\n</style>\n<table border=\"1\" class=\"dataframe\">\n  <thead>\n    <tr style=\"text-align: right;\">\n      <th></th>\n      <th>ds</th>\n      <th>y</th>\n      <th>previous_year</th>\n      <th>yoy</th>\n    </tr>\n  </thead>\n  <tbody>\n    <tr>\n      <th>8041</th>\n      <td>2019-02-01</td>\n      <td>2411270</td>\n      <td>1932180.0</td>\n      <td>24.795309</td>\n    </tr>\n    <tr>\n      <th>8042</th>\n      <td>2019-03-01</td>\n      <td>2831050</td>\n      <td>2369460.0</td>\n      <td>19.480810</td>\n    </tr>\n    <tr>\n      <th>8043</th>\n      <td>2019-04-01</td>\n      <td>2784430</td>\n      <td>2105270.0</td>\n      <td>32.259995</td>\n    </tr>\n    <tr>\n      <th>8044</th>\n      <td>2019-05-01</td>\n      <td>2721360</td>\n      <td>2058330.0</td>\n      <td>32.212036</td>\n    </tr>\n    <tr>\n      <th>8045</th>\n      <td>2019-06-01</td>\n      <td>2695380</td>\n      <td>2193470.0</td>\n      <td>22.882009</td>\n    </tr>\n    <tr>\n      <th>8046</th>\n      <td>2019-07-01</td>\n      <td>3269120</td>\n      <td>2489970.0</td>\n      <td>31.291542</td>\n    </tr>\n    <tr>\n      <th>8047</th>\n      <td>2019-08-01</td>\n      <td>3523720</td>\n      <td>2900190.0</td>\n      <td>21.499626</td>\n    </tr>\n    <tr>\n      <th>8048</th>\n      <td>2019-09-01</td>\n      <td>2707780</td>\n      <td>2444030.0</td>\n      <td>10.791602</td>\n    </tr>\n    <tr>\n      <th>8049</th>\n      <td>2019-10-01</td>\n      <td>2713450</td>\n      <td>2365710.0</td>\n      <td>14.699181</td>\n    </tr>\n    <tr>\n      <th>8050</th>\n      <td>2019-11-01</td>\n      <td>2461550</td>\n      <td>2124010.0</td>\n      <td>15.891639</td>\n    </tr>\n    <tr>\n      <th>8051</th>\n      <td>2019-12-01</td>\n      <td>2454120</td>\n      <td>2035470.0</td>\n      <td>20.567731</td>\n    </tr>\n    <tr>\n      <th>8052</th>\n      <td>2020-01-01</td>\n      <td>2001170</td>\n      <td>2292420.0</td>\n      <td>-12.704914</td>\n    </tr>\n    <tr>\n      <th>8053</th>\n      <td>2020-02-01</td>\n      <td>1896520</td>\n      <td>2411270.0</td>\n      <td>-21.347672</td>\n    </tr>\n    <tr>\n      <th>8054</th>\n      <td>2020-03-01</td>\n      <td>1263600</td>\n      <td>2831050.0</td>\n      <td>-55.366383</td>\n    </tr>\n    <tr>\n      <th>8055</th>\n      <td>2020-04-01</td>\n      <td>322820</td>\n      <td>2784430.0</td>\n      <td>-88.406245</td>\n    </tr>\n    <tr>\n      <th>8056</th>\n      <td>2020-05-01</td>\n      <td>146820</td>\n      <td>2721360.0</td>\n      <td>-94.604903</td>\n    </tr>\n    <tr>\n      <th>8057</th>\n      <td>2020-06-01</td>\n      <td>493700</td>\n      <td>2695380.0</td>\n      <td>-81.683473</td>\n    </tr>\n    <tr>\n      <th>8058</th>\n      <td>2020-07-01</td>\n      <td>1089410</td>\n      <td>3269120.0</td>\n      <td>-66.675741</td>\n    </tr>\n    <tr>\n      <th>8059</th>\n      <td>2020-08-01</td>\n      <td>849500</td>\n      <td>3523720.0</td>\n      <td>-75.891955</td>\n    </tr>\n    <tr>\n      <th>8060</th>\n      <td>2020-09-01</td>\n      <td>884730</td>\n      <td>2707780.0</td>\n      <td>-67.326371</td>\n    </tr>\n    <tr>\n      <th>8061</th>\n      <td>2020-10-01</td>\n      <td>1285240</td>\n      <td>2713450.0</td>\n      <td>-52.634469</td>\n    </tr>\n    <tr>\n      <th>8062</th>\n      <td>2020-11-01</td>\n      <td>1415910</td>\n      <td>2461550.0</td>\n      <td>-42.478926</td>\n    </tr>\n    <tr>\n      <th>8063</th>\n      <td>2020-12-01</td>\n      <td>1147150</td>\n      <td>2454120.0</td>\n      <td>-53.256157</td>\n    </tr>\n  </tbody>\n</table>\n</div>"
     },
     "metadata": {},
     "execution_count": 77
    }
   ],
   "source": [
    "okinawa_df[(okinawa_df[\"ds\"] > \"2019\")]"
   ]
  },
  {
   "cell_type": "code",
   "execution_count": 78,
   "metadata": {},
   "outputs": [
    {
     "output_type": "execute_result",
     "data": {
      "text/plain": [
       "            ds        y  previous_year        yoy\n",
       "313 2019-02-01  3211400      3084420.0   4.116819\n",
       "314 2019-03-01  2878620      2740050.0   5.057207\n",
       "315 2019-04-01  2415820      2135820.0  13.109719\n",
       "316 2019-05-01  3016680      2731360.0  10.446078\n",
       "317 2019-06-01  3086700      3095940.0  -0.298455\n",
       "318 2019-07-01  3634090      3626480.0   0.209845\n",
       "319 2019-08-01  3916250      3952410.0  -0.914885\n",
       "320 2019-09-01  3247260      2547810.0  27.452989\n",
       "321 2019-10-01  3046530      2886370.0   5.548838\n",
       "322 2019-11-01  2458660      2505860.0  -1.883585\n",
       "323 2019-12-01  2876320      2984680.0  -3.630540\n",
       "324 2020-01-01  3005740      3195090.0  -5.926281\n",
       "325 2020-02-01  2432380      3211400.0 -24.257956\n",
       "326 2020-03-01   951200      2878620.0 -66.956389\n",
       "327 2020-04-01   542920      2415820.0 -77.526471\n",
       "328 2020-05-01   436840      3016680.0 -85.519180\n",
       "329 2020-06-01   786910      3086700.0 -74.506431\n",
       "330 2020-07-01  1475290      3634090.0 -59.404142\n",
       "331 2020-08-01  1951800      3916250.0 -50.161507\n",
       "332 2020-09-01  1999610      3247260.0 -38.421623\n",
       "333 2020-10-01  2291050      3046530.0 -24.798049\n",
       "334 2020-11-01  1547130      2458660.0 -37.074260\n",
       "335 2020-12-01  1044220      2876320.0 -63.695973"
      ],
      "text/html": "<div>\n<style scoped>\n    .dataframe tbody tr th:only-of-type {\n        vertical-align: middle;\n    }\n\n    .dataframe tbody tr th {\n        vertical-align: top;\n    }\n\n    .dataframe thead th {\n        text-align: right;\n    }\n</style>\n<table border=\"1\" class=\"dataframe\">\n  <thead>\n    <tr style=\"text-align: right;\">\n      <th></th>\n      <th>ds</th>\n      <th>y</th>\n      <th>previous_year</th>\n      <th>yoy</th>\n    </tr>\n  </thead>\n  <tbody>\n    <tr>\n      <th>313</th>\n      <td>2019-02-01</td>\n      <td>3211400</td>\n      <td>3084420.0</td>\n      <td>4.116819</td>\n    </tr>\n    <tr>\n      <th>314</th>\n      <td>2019-03-01</td>\n      <td>2878620</td>\n      <td>2740050.0</td>\n      <td>5.057207</td>\n    </tr>\n    <tr>\n      <th>315</th>\n      <td>2019-04-01</td>\n      <td>2415820</td>\n      <td>2135820.0</td>\n      <td>13.109719</td>\n    </tr>\n    <tr>\n      <th>316</th>\n      <td>2019-05-01</td>\n      <td>3016680</td>\n      <td>2731360.0</td>\n      <td>10.446078</td>\n    </tr>\n    <tr>\n      <th>317</th>\n      <td>2019-06-01</td>\n      <td>3086700</td>\n      <td>3095940.0</td>\n      <td>-0.298455</td>\n    </tr>\n    <tr>\n      <th>318</th>\n      <td>2019-07-01</td>\n      <td>3634090</td>\n      <td>3626480.0</td>\n      <td>0.209845</td>\n    </tr>\n    <tr>\n      <th>319</th>\n      <td>2019-08-01</td>\n      <td>3916250</td>\n      <td>3952410.0</td>\n      <td>-0.914885</td>\n    </tr>\n    <tr>\n      <th>320</th>\n      <td>2019-09-01</td>\n      <td>3247260</td>\n      <td>2547810.0</td>\n      <td>27.452989</td>\n    </tr>\n    <tr>\n      <th>321</th>\n      <td>2019-10-01</td>\n      <td>3046530</td>\n      <td>2886370.0</td>\n      <td>5.548838</td>\n    </tr>\n    <tr>\n      <th>322</th>\n      <td>2019-11-01</td>\n      <td>2458660</td>\n      <td>2505860.0</td>\n      <td>-1.883585</td>\n    </tr>\n    <tr>\n      <th>323</th>\n      <td>2019-12-01</td>\n      <td>2876320</td>\n      <td>2984680.0</td>\n      <td>-3.630540</td>\n    </tr>\n    <tr>\n      <th>324</th>\n      <td>2020-01-01</td>\n      <td>3005740</td>\n      <td>3195090.0</td>\n      <td>-5.926281</td>\n    </tr>\n    <tr>\n      <th>325</th>\n      <td>2020-02-01</td>\n      <td>2432380</td>\n      <td>3211400.0</td>\n      <td>-24.257956</td>\n    </tr>\n    <tr>\n      <th>326</th>\n      <td>2020-03-01</td>\n      <td>951200</td>\n      <td>2878620.0</td>\n      <td>-66.956389</td>\n    </tr>\n    <tr>\n      <th>327</th>\n      <td>2020-04-01</td>\n      <td>542920</td>\n      <td>2415820.0</td>\n      <td>-77.526471</td>\n    </tr>\n    <tr>\n      <th>328</th>\n      <td>2020-05-01</td>\n      <td>436840</td>\n      <td>3016680.0</td>\n      <td>-85.519180</td>\n    </tr>\n    <tr>\n      <th>329</th>\n      <td>2020-06-01</td>\n      <td>786910</td>\n      <td>3086700.0</td>\n      <td>-74.506431</td>\n    </tr>\n    <tr>\n      <th>330</th>\n      <td>2020-07-01</td>\n      <td>1475290</td>\n      <td>3634090.0</td>\n      <td>-59.404142</td>\n    </tr>\n    <tr>\n      <th>331</th>\n      <td>2020-08-01</td>\n      <td>1951800</td>\n      <td>3916250.0</td>\n      <td>-50.161507</td>\n    </tr>\n    <tr>\n      <th>332</th>\n      <td>2020-09-01</td>\n      <td>1999610</td>\n      <td>3247260.0</td>\n      <td>-38.421623</td>\n    </tr>\n    <tr>\n      <th>333</th>\n      <td>2020-10-01</td>\n      <td>2291050</td>\n      <td>3046530.0</td>\n      <td>-24.798049</td>\n    </tr>\n    <tr>\n      <th>334</th>\n      <td>2020-11-01</td>\n      <td>1547130</td>\n      <td>2458660.0</td>\n      <td>-37.074260</td>\n    </tr>\n    <tr>\n      <th>335</th>\n      <td>2020-12-01</td>\n      <td>1044220</td>\n      <td>2876320.0</td>\n      <td>-63.695973</td>\n    </tr>\n  </tbody>\n</table>\n</div>"
     },
     "metadata": {},
     "execution_count": 78
    }
   ],
   "source": [
    "hokkaido_df = accomodation[accomodation[\"location\"] == \"Hokkaidō\"][[\"time\", \"accomodations\"]]\n",
    "hokkaido_df.columns = [\"ds\", \"y\"]\n",
    "hokkaido_df[\"ds\"] = pd.to_datetime(hokkaido_df[\"ds\"])\n",
    "hokkaido_df = yoy(hokkaido_df)\n",
    "hokkaido_df[(hokkaido_df[\"ds\"] > \"2019\")]"
   ]
  },
  {
   "cell_type": "code",
   "execution_count": 73,
   "metadata": {},
   "outputs": [],
   "source": [
    "import plotly.express as px\n",
    "\n",
    "df = accomodation[accomodation[\"location\"].isin([\"Tokyo\",  \"Osaka\", \"Hokkaidō\",  \"Okinawa\", \"Kyoto\"])].sort_values(\"time\")\n",
    "fig = px.line(df, x=\"time\", y=\"accomodations\", color='location')\n",
    "fig.update_layout(height=800, width=1600, title_text=\"Accomodations of the top six most visited locations in Japan\",  xaxis_title=\"Time\", yaxis_title=\"Accomodations\", font=dict(size=22))\n",
    "\n",
    "#fig.show()\n",
    "#fig.write_html(\"newplot.html\")\n",
    "fig.write_image(\"fig1.png\")"
   ]
  },
  {
   "cell_type": "code",
   "execution_count": 66,
   "metadata": {},
   "outputs": [
    {
     "output_type": "execute_result",
     "data": {
      "text/plain": [
       "Empty DataFrame\n",
       "Columns: [time, accomodations, location, Area]\n",
       "Index: []"
      ],
      "text/html": "<div>\n<style scoped>\n    .dataframe tbody tr th:only-of-type {\n        vertical-align: middle;\n    }\n\n    .dataframe tbody tr th {\n        vertical-align: top;\n    }\n\n    .dataframe thead th {\n        text-align: right;\n    }\n</style>\n<table border=\"1\" class=\"dataframe\">\n  <thead>\n    <tr style=\"text-align: right;\">\n      <th></th>\n      <th>time</th>\n      <th>accomodations</th>\n      <th>location</th>\n      <th>Area</th>\n    </tr>\n  </thead>\n  <tbody>\n  </tbody>\n</table>\n</div>"
     },
     "metadata": {},
     "execution_count": 66
    }
   ],
   "source": [
    "df[(df[\"time\"] < \"2008\") &  (df[\"location\"] == \"Chiba\")]"
   ]
  },
  {
   "cell_type": "code",
   "execution_count": 45,
   "metadata": {},
   "outputs": [
    {
     "output_type": "execute_result",
     "data": {
      "text/plain": [
       "            time  accomodations location       Area\n",
       "0     2007-01-01       22136270    Japan  377915.00\n",
       "1     2007-02-01       23346870    Japan  377915.00\n",
       "2     2007-03-01       26997200    Japan  377915.00\n",
       "3     2007-04-01       23729790    Japan  377915.00\n",
       "4     2007-05-01       25636730    Japan  377915.00\n",
       "...          ...            ...      ...        ...\n",
       "2347  2020-08-01        1685530    Tokyo    2187.08\n",
       "2348  2020-09-01        1776060    Tokyo    2187.08\n",
       "2349  2020-10-01        2670360    Tokyo    2187.08\n",
       "2350  2020-11-01        3047500    Tokyo    2187.08\n",
       "2351  2020-12-01        2810180    Tokyo    2187.08\n",
       "\n",
       "[336 rows x 4 columns]"
      ],
      "text/html": "<div>\n<style scoped>\n    .dataframe tbody tr th:only-of-type {\n        vertical-align: middle;\n    }\n\n    .dataframe tbody tr th {\n        vertical-align: top;\n    }\n\n    .dataframe thead th {\n        text-align: right;\n    }\n</style>\n<table border=\"1\" class=\"dataframe\">\n  <thead>\n    <tr style=\"text-align: right;\">\n      <th></th>\n      <th>time</th>\n      <th>accomodations</th>\n      <th>location</th>\n      <th>Area</th>\n    </tr>\n  </thead>\n  <tbody>\n    <tr>\n      <th>0</th>\n      <td>2007-01-01</td>\n      <td>22136270</td>\n      <td>Japan</td>\n      <td>377915.00</td>\n    </tr>\n    <tr>\n      <th>1</th>\n      <td>2007-02-01</td>\n      <td>23346870</td>\n      <td>Japan</td>\n      <td>377915.00</td>\n    </tr>\n    <tr>\n      <th>2</th>\n      <td>2007-03-01</td>\n      <td>26997200</td>\n      <td>Japan</td>\n      <td>377915.00</td>\n    </tr>\n    <tr>\n      <th>3</th>\n      <td>2007-04-01</td>\n      <td>23729790</td>\n      <td>Japan</td>\n      <td>377915.00</td>\n    </tr>\n    <tr>\n      <th>4</th>\n      <td>2007-05-01</td>\n      <td>25636730</td>\n      <td>Japan</td>\n      <td>377915.00</td>\n    </tr>\n    <tr>\n      <th>...</th>\n      <td>...</td>\n      <td>...</td>\n      <td>...</td>\n      <td>...</td>\n    </tr>\n    <tr>\n      <th>2347</th>\n      <td>2020-08-01</td>\n      <td>1685530</td>\n      <td>Tokyo</td>\n      <td>2187.08</td>\n    </tr>\n    <tr>\n      <th>2348</th>\n      <td>2020-09-01</td>\n      <td>1776060</td>\n      <td>Tokyo</td>\n      <td>2187.08</td>\n    </tr>\n    <tr>\n      <th>2349</th>\n      <td>2020-10-01</td>\n      <td>2670360</td>\n      <td>Tokyo</td>\n      <td>2187.08</td>\n    </tr>\n    <tr>\n      <th>2350</th>\n      <td>2020-11-01</td>\n      <td>3047500</td>\n      <td>Tokyo</td>\n      <td>2187.08</td>\n    </tr>\n    <tr>\n      <th>2351</th>\n      <td>2020-12-01</td>\n      <td>2810180</td>\n      <td>Tokyo</td>\n      <td>2187.08</td>\n    </tr>\n  </tbody>\n</table>\n<p>336 rows × 4 columns</p>\n</div>"
     },
     "metadata": {},
     "execution_count": 45
    }
   ],
   "source": [
    "df = accomodation[accomodation[\"location\"].isin([\"Tokyo\", \"Japan\"])]\n",
    "df"
   ]
  },
  {
   "cell_type": "code",
   "execution_count": 48,
   "metadata": {},
   "outputs": [
    {
     "output_type": "execute_result",
     "data": {
      "text/plain": [
       "location       Japan    Tokyo\n",
       "time                         \n",
       "2007-01-01  22136270  2693010\n",
       "2007-02-01  23346870  2909700\n",
       "2007-03-01  26997200  3305360\n",
       "2007-04-01  23729790  3212150\n",
       "2007-05-01  25636730  3140590\n",
       "...              ...      ...\n",
       "2020-08-01  26149030  1685530\n",
       "2020-09-01  26020820  1776060\n",
       "2020-10-01  32412890  2670360\n",
       "2020-11-01  34501310  3047500\n",
       "2020-12-01  27863790  2810180\n",
       "\n",
       "[168 rows x 2 columns]"
      ],
      "text/html": "<div>\n<style scoped>\n    .dataframe tbody tr th:only-of-type {\n        vertical-align: middle;\n    }\n\n    .dataframe tbody tr th {\n        vertical-align: top;\n    }\n\n    .dataframe thead th {\n        text-align: right;\n    }\n</style>\n<table border=\"1\" class=\"dataframe\">\n  <thead>\n    <tr style=\"text-align: right;\">\n      <th>location</th>\n      <th>Japan</th>\n      <th>Tokyo</th>\n    </tr>\n    <tr>\n      <th>time</th>\n      <th></th>\n      <th></th>\n    </tr>\n  </thead>\n  <tbody>\n    <tr>\n      <th>2007-01-01</th>\n      <td>22136270</td>\n      <td>2693010</td>\n    </tr>\n    <tr>\n      <th>2007-02-01</th>\n      <td>23346870</td>\n      <td>2909700</td>\n    </tr>\n    <tr>\n      <th>2007-03-01</th>\n      <td>26997200</td>\n      <td>3305360</td>\n    </tr>\n    <tr>\n      <th>2007-04-01</th>\n      <td>23729790</td>\n      <td>3212150</td>\n    </tr>\n    <tr>\n      <th>2007-05-01</th>\n      <td>25636730</td>\n      <td>3140590</td>\n    </tr>\n    <tr>\n      <th>...</th>\n      <td>...</td>\n      <td>...</td>\n    </tr>\n    <tr>\n      <th>2020-08-01</th>\n      <td>26149030</td>\n      <td>1685530</td>\n    </tr>\n    <tr>\n      <th>2020-09-01</th>\n      <td>26020820</td>\n      <td>1776060</td>\n    </tr>\n    <tr>\n      <th>2020-10-01</th>\n      <td>32412890</td>\n      <td>2670360</td>\n    </tr>\n    <tr>\n      <th>2020-11-01</th>\n      <td>34501310</td>\n      <td>3047500</td>\n    </tr>\n    <tr>\n      <th>2020-12-01</th>\n      <td>27863790</td>\n      <td>2810180</td>\n    </tr>\n  </tbody>\n</table>\n<p>168 rows × 2 columns</p>\n</div>"
     },
     "metadata": {},
     "execution_count": 48
    }
   ],
   "source": [
    "temp_df = pd.pivot_table(df, values='accomodations', index=['time'], columns=['location'])\n",
    "temp_df"
   ]
  },
  {
   "cell_type": "code",
   "execution_count": 49,
   "metadata": {},
   "outputs": [],
   "source": [
    "temp_df[\"percent\"] = 100 * temp_df[\"Tokyo\"] / temp_df[\"Japan\"]"
   ]
  },
  {
   "cell_type": "code",
   "execution_count": 51,
   "metadata": {},
   "outputs": [
    {
     "output_type": "execute_result",
     "data": {
      "text/plain": [
       "11.610283269000146"
      ]
     },
     "metadata": {},
     "execution_count": 51
    }
   ],
   "source": [
    "temp_df[\"percent\"].mean()"
   ]
  },
  {
   "cell_type": "code",
   "execution_count": 72,
   "metadata": {},
   "outputs": [
    {
     "output_type": "execute_result",
     "data": {
      "text/plain": [
       "          accomodations        Area\n",
       "location                           \n",
       "Japan         595921480  4534980.00\n",
       "Tokyo          78981720    26244.96\n",
       "Osaka          47427520    22718.16\n",
       "Hokkaidō       36983420  1001429.64\n",
       "Okinawa        32865650    27255.60\n",
       "Kyoto          30749560    55355.16\n",
       "Chiba          29229110    61873.80\n",
       "Kanagawa       23883900    28985.04\n",
       "Shizuoka       23429450    87943.32\n",
       "Fukuoka        20420370    59652.12\n",
       "Aichi          19337750    61845.72"
      ],
      "text/html": "<div>\n<style scoped>\n    .dataframe tbody tr th:only-of-type {\n        vertical-align: middle;\n    }\n\n    .dataframe tbody tr th {\n        vertical-align: top;\n    }\n\n    .dataframe thead th {\n        text-align: right;\n    }\n</style>\n<table border=\"1\" class=\"dataframe\">\n  <thead>\n    <tr style=\"text-align: right;\">\n      <th></th>\n      <th>accomodations</th>\n      <th>Area</th>\n    </tr>\n    <tr>\n      <th>location</th>\n      <th></th>\n      <th></th>\n    </tr>\n  </thead>\n  <tbody>\n    <tr>\n      <th>Japan</th>\n      <td>595921480</td>\n      <td>4534980.00</td>\n    </tr>\n    <tr>\n      <th>Tokyo</th>\n      <td>78981720</td>\n      <td>26244.96</td>\n    </tr>\n    <tr>\n      <th>Osaka</th>\n      <td>47427520</td>\n      <td>22718.16</td>\n    </tr>\n    <tr>\n      <th>Hokkaidō</th>\n      <td>36983420</td>\n      <td>1001429.64</td>\n    </tr>\n    <tr>\n      <th>Okinawa</th>\n      <td>32865650</td>\n      <td>27255.60</td>\n    </tr>\n    <tr>\n      <th>Kyoto</th>\n      <td>30749560</td>\n      <td>55355.16</td>\n    </tr>\n    <tr>\n      <th>Chiba</th>\n      <td>29229110</td>\n      <td>61873.80</td>\n    </tr>\n    <tr>\n      <th>Kanagawa</th>\n      <td>23883900</td>\n      <td>28985.04</td>\n    </tr>\n    <tr>\n      <th>Shizuoka</th>\n      <td>23429450</td>\n      <td>87943.32</td>\n    </tr>\n    <tr>\n      <th>Fukuoka</th>\n      <td>20420370</td>\n      <td>59652.12</td>\n    </tr>\n    <tr>\n      <th>Aichi</th>\n      <td>19337750</td>\n      <td>61845.72</td>\n    </tr>\n  </tbody>\n</table>\n</div>"
     },
     "metadata": {},
     "execution_count": 72
    }
   ],
   "source": [
    "accomodation[(accomodation[\"time\"]  >= \"2019-01-01\") & (accomodation[\"time\"]  < \"2020-01-01\") ].groupby(\"location\").sum([\"accomodations\"]).nlargest(11, \"accomodations\")"
   ]
  },
  {
   "cell_type": "code",
   "execution_count": null,
   "metadata": {},
   "outputs": [],
   "source": []
  }
 ]
}