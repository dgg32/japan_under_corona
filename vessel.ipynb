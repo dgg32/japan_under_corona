{
 "metadata": {
  "language_info": {
   "codemirror_mode": {
    "name": "ipython",
    "version": 3
   },
   "file_extension": ".py",
   "mimetype": "text/x-python",
   "name": "python",
   "nbconvert_exporter": "python",
   "pygments_lexer": "ipython3",
   "version": "3.8.5-final"
  },
  "orig_nbformat": 2,
  "kernelspec": {
   "name": "python385jvsc74a57bd0cd63dba880c571b4c91fd4fc7331fa48e03d28d6ba07eb0708ec7ed3d4d9624a",
   "display_name": "Python 3.8.5 64-bit ('base': conda)"
  }
 },
 "nbformat": 4,
 "nbformat_minor": 2,
 "cells": [
  {
   "cell_type": "code",
   "execution_count": 9,
   "metadata": {},
   "outputs": [],
   "source": [
    "import pandas as pd\n",
    "import numpy as np\n",
    "import sys, os, re"
   ]
  },
  {
   "cell_type": "code",
   "execution_count": 25,
   "metadata": {},
   "outputs": [],
   "source": [
    "code_country_df = pd.read_csv('vessels_by_nationalities/code_country.tsv', sep=\"\\t\")\n",
    "code_country_df = code_country_df.set_index('code')\n",
    "code_country_temp = code_country_df.to_dict('index')\n",
    "code_country = {c:code_country_temp[c]['country'] for c in code_country_temp}\n"
   ]
  },
  {
   "cell_type": "code",
   "execution_count": 26,
   "metadata": {},
   "outputs": [],
   "source": [
    "months = {\"Jan\": 1, \"Feb\": 2, \"Mar\": 3, \"Apr\": 4, \"May\": 5, \"Jun\": 6, \"Jul\": 7, \"Aug\": 8, \"Sep\": 9, \"Oct\": 10, \"Nov\": 11, \"Dec\": 12}\n",
    "\n",
    "rx_time = re.compile(r'(.+?)-([A-Z][a-z]+)$')\n",
    "\n",
    "def read_vessel_data(file_path):\n",
    "    data = pd.read_csv(file_path, skiprows=1)\n",
    "    #df.replace({\"col1\": di})\n",
    "    data[\"Country\"].replace(code_country, inplace=True)\n",
    "\n",
    "    new_df = pd.DataFrame(columns = [\"year\", \"month\", \"country\", \"variable\", \"value\"])\n",
    "\n",
    "    for _, row in data.iterrows():\n",
    "        for c in data.columns:\n",
    "            if c not in [\"Year\", \"Country\"]:\n",
    "                search_time = rx_time.search(c)\n",
    "\n",
    "                if search_time:\n",
    "                    time = search_time.group(2)\n",
    "                    item = search_time.group(1).strip()\n",
    "                    if time in months:\n",
    "                        \n",
    "                        temp_dic = {'year': row[\"Year\"], \"country\": row[\"Country\"], \"month\": months[time], 'variable': item, 'value': row[c]}\n",
    "                        new_df.loc[len(new_df)] = temp_dic \n",
    "\n",
    "\n",
    "    return new_df"
   ]
  },
  {
   "cell_type": "code",
   "execution_count": 27,
   "metadata": {},
   "outputs": [],
   "source": [
    "df = read_vessel_data('vessels_by_nationalities/ik-500h2021001.csv')"
   ]
  },
  {
   "cell_type": "code",
   "execution_count": 28,
   "metadata": {},
   "outputs": [
    {
     "output_type": "execute_result",
     "data": {
      "text/plain": [
       "    year month                     country  \\\n",
       "16  2021     1  People's Republic of China   \n",
       "17  2021     1  People's Republic of China   \n",
       "18  2021     1  People's Republic of China   \n",
       "19  2021     1  People's Republic of China   \n",
       "20  2021     2  People's Republic of China   \n",
       "21  2021     2  People's Republic of China   \n",
       "22  2021     2  People's Republic of China   \n",
       "23  2021     2  People's Republic of China   \n",
       "\n",
       "                                  item    value  \n",
       "16                   Number Of Vessels      143  \n",
       "17  Number Of Vessel (Direct Entrance)       64  \n",
       "18                        Net Tonnages  1090833  \n",
       "19      Net Tonnages (Direct Entrance)   493954  \n",
       "20                   Number Of Vessels      129  \n",
       "21  Number Of Vessel (Direct Entrance)       56  \n",
       "22                        Net Tonnages   814909  \n",
       "23      Net Tonnages (Direct Entrance)   403080  "
      ],
      "text/html": "<div>\n<style scoped>\n    .dataframe tbody tr th:only-of-type {\n        vertical-align: middle;\n    }\n\n    .dataframe tbody tr th {\n        vertical-align: top;\n    }\n\n    .dataframe thead th {\n        text-align: right;\n    }\n</style>\n<table border=\"1\" class=\"dataframe\">\n  <thead>\n    <tr style=\"text-align: right;\">\n      <th></th>\n      <th>year</th>\n      <th>month</th>\n      <th>country</th>\n      <th>item</th>\n      <th>value</th>\n    </tr>\n  </thead>\n  <tbody>\n    <tr>\n      <th>16</th>\n      <td>2021</td>\n      <td>1</td>\n      <td>People's Republic of China</td>\n      <td>Number Of Vessels</td>\n      <td>143</td>\n    </tr>\n    <tr>\n      <th>17</th>\n      <td>2021</td>\n      <td>1</td>\n      <td>People's Republic of China</td>\n      <td>Number Of Vessel (Direct Entrance)</td>\n      <td>64</td>\n    </tr>\n    <tr>\n      <th>18</th>\n      <td>2021</td>\n      <td>1</td>\n      <td>People's Republic of China</td>\n      <td>Net Tonnages</td>\n      <td>1090833</td>\n    </tr>\n    <tr>\n      <th>19</th>\n      <td>2021</td>\n      <td>1</td>\n      <td>People's Republic of China</td>\n      <td>Net Tonnages (Direct Entrance)</td>\n      <td>493954</td>\n    </tr>\n    <tr>\n      <th>20</th>\n      <td>2021</td>\n      <td>2</td>\n      <td>People's Republic of China</td>\n      <td>Number Of Vessels</td>\n      <td>129</td>\n    </tr>\n    <tr>\n      <th>21</th>\n      <td>2021</td>\n      <td>2</td>\n      <td>People's Republic of China</td>\n      <td>Number Of Vessel (Direct Entrance)</td>\n      <td>56</td>\n    </tr>\n    <tr>\n      <th>22</th>\n      <td>2021</td>\n      <td>2</td>\n      <td>People's Republic of China</td>\n      <td>Net Tonnages</td>\n      <td>814909</td>\n    </tr>\n    <tr>\n      <th>23</th>\n      <td>2021</td>\n      <td>2</td>\n      <td>People's Republic of China</td>\n      <td>Net Tonnages (Direct Entrance)</td>\n      <td>403080</td>\n    </tr>\n  </tbody>\n</table>\n</div>"
     },
     "metadata": {},
     "execution_count": 28
    }
   ],
   "source": [
    "df[df[\"country\"] == \"People's Republic of China\"]"
   ]
  },
  {
   "cell_type": "code",
   "execution_count": null,
   "metadata": {},
   "outputs": [],
   "source": []
  }
 ]
}